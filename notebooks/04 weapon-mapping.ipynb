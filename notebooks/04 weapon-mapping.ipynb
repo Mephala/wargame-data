{
 "cells": [
  {
   "cell_type": "code",
   "execution_count": 4,
   "metadata": {
    "collapsed": true,
    "pycharm": {
     "name": "#%%\n"
    }
   },
   "outputs": [],
   "source": [
    "import pandas as pd\n",
    "%matplotlib inline\n",
    "import seaborn as sns\n",
    "import numpy as np"
   ]
  },
  {
   "cell_type": "code",
   "execution_count": 5,
   "metadata": {
    "collapsed": false,
    "pycharm": {
     "name": "#%%\n"
    }
   },
   "outputs": [
    {
     "name": "stderr",
     "output_type": "stream",
     "text": [
      "/var/folders/s7/d_hp0cc12jj5nrlqny507k2h0000gn/T/ipykernel_96029/1778539441.py:1: DtypeWarning: Columns (2,7,8,35,40,68,73,84,98,106,108,127,154,161,162,164,165,166,169,177,179,198,225,232,233,235,236,237,240,248,250,269,296,303,304,306,307,308,311,319,321,340,367,374,375,377,378,379,382,390,392,411,438,445,446,448,449,450,452,461,489,527,543,551,552,554,564,585,618,627,639,660,670,693,700,712,745,751,759,761,766,767,774,782,806,809,816,817,818,819,820,821,824,832,834,840,847,855,882,889,890,891,892,893,894,897,905,907,912,926,953,960,961,963,964,965,968,976,978,984,999,1026,1033,1034,1036,1037,1038,1041,1049,1051,1056,1070,1097,1104,1105,1107,1108,1109) have mixed types. Specify dtype option on import or set low_memory=False.\n",
      "  units = pd.read_csv(\"../data/510049986/raw_data.csv\", encoding=\"windows-1252\", index_col=0)\n"
     ]
    }
   ],
   "source": [
    "units = pd.read_csv(\"../data/510049986/raw_data.csv\", encoding=\"windows-1252\", index_col=0)"
   ]
  },
  {
   "cell_type": "code",
   "execution_count": 6,
   "metadata": {
    "collapsed": true,
    "pycharm": {
     "name": "#%%\n"
    }
   },
   "outputs": [],
   "source": [
    "units_ = units[~units.apply(lambda srs: 'Deprec!' in srs['NameInMenu'], axis='columns')]"
   ]
  },
  {
   "cell_type": "code",
   "execution_count": 7,
   "metadata": {
    "collapsed": false,
    "pycharm": {
     "name": "#%%\n"
    }
   },
   "outputs": [
    {
     "data": {
      "text/plain": "           NameInMenu  Weapon1PhysicalDamages  Weapon1Arme  \\\n0                DANA                     7.0          3.0   \n1           RZP KUB-M                     9.0          3.0   \n2     2K22 TUNGUSKA-M                     1.0          3.0   \n3       2K22 TUNGUSKA                     1.0          3.0   \n4          2S15 NOROV                     1.0         17.0   \n...               ...                     ...          ...   \n1813   F-16A BLOCK 15                     1.0          3.0   \n1814      TORNADO ECR                     1.0         54.0   \n1815      TORNADO IDS                     1.0          3.0   \n1816      TORNADO MFG                     1.0          3.0   \n1817       DEPRECATED                     NaN          NaN   \n\n      Weapon2PhysicalDamages  Weapon2Arme  \n0                        NaN          3.0  \n1                        NaN          NaN  \n2                        7.0          3.0  \n3                        7.0          3.0  \n4                        3.0          3.0  \n...                      ...          ...  \n1813                     3.0         54.0  \n1814                     4.0          3.0  \n1815                    15.0          3.0  \n1816                     4.0         54.0  \n1817                     NaN          NaN  \n\n[1798 rows x 5 columns]",
      "text/html": "<div>\n<style scoped>\n    .dataframe tbody tr th:only-of-type {\n        vertical-align: middle;\n    }\n\n    .dataframe tbody tr th {\n        vertical-align: top;\n    }\n\n    .dataframe thead th {\n        text-align: right;\n    }\n</style>\n<table border=\"1\" class=\"dataframe\">\n  <thead>\n    <tr style=\"text-align: right;\">\n      <th></th>\n      <th>NameInMenu</th>\n      <th>Weapon1PhysicalDamages</th>\n      <th>Weapon1Arme</th>\n      <th>Weapon2PhysicalDamages</th>\n      <th>Weapon2Arme</th>\n    </tr>\n  </thead>\n  <tbody>\n    <tr>\n      <th>0</th>\n      <td>DANA</td>\n      <td>7.0</td>\n      <td>3.0</td>\n      <td>NaN</td>\n      <td>3.0</td>\n    </tr>\n    <tr>\n      <th>1</th>\n      <td>RZP KUB-M</td>\n      <td>9.0</td>\n      <td>3.0</td>\n      <td>NaN</td>\n      <td>NaN</td>\n    </tr>\n    <tr>\n      <th>2</th>\n      <td>2K22 TUNGUSKA-M</td>\n      <td>1.0</td>\n      <td>3.0</td>\n      <td>7.0</td>\n      <td>3.0</td>\n    </tr>\n    <tr>\n      <th>3</th>\n      <td>2K22 TUNGUSKA</td>\n      <td>1.0</td>\n      <td>3.0</td>\n      <td>7.0</td>\n      <td>3.0</td>\n    </tr>\n    <tr>\n      <th>4</th>\n      <td>2S15 NOROV</td>\n      <td>1.0</td>\n      <td>17.0</td>\n      <td>3.0</td>\n      <td>3.0</td>\n    </tr>\n    <tr>\n      <th>...</th>\n      <td>...</td>\n      <td>...</td>\n      <td>...</td>\n      <td>...</td>\n      <td>...</td>\n    </tr>\n    <tr>\n      <th>1813</th>\n      <td>F-16A BLOCK 15</td>\n      <td>1.0</td>\n      <td>3.0</td>\n      <td>3.0</td>\n      <td>54.0</td>\n    </tr>\n    <tr>\n      <th>1814</th>\n      <td>TORNADO ECR</td>\n      <td>1.0</td>\n      <td>54.0</td>\n      <td>4.0</td>\n      <td>3.0</td>\n    </tr>\n    <tr>\n      <th>1815</th>\n      <td>TORNADO IDS</td>\n      <td>1.0</td>\n      <td>3.0</td>\n      <td>15.0</td>\n      <td>3.0</td>\n    </tr>\n    <tr>\n      <th>1816</th>\n      <td>TORNADO MFG</td>\n      <td>1.0</td>\n      <td>3.0</td>\n      <td>4.0</td>\n      <td>54.0</td>\n    </tr>\n    <tr>\n      <th>1817</th>\n      <td>DEPRECATED</td>\n      <td>NaN</td>\n      <td>NaN</td>\n      <td>NaN</td>\n      <td>NaN</td>\n    </tr>\n  </tbody>\n</table>\n<p>1798 rows × 5 columns</p>\n</div>"
     },
     "execution_count": 7,
     "metadata": {},
     "output_type": "execute_result"
    }
   ],
   "source": [
    "units_[['NameInMenu', 'Weapon1PhysicalDamages', 'Weapon1Arme', 'Weapon2PhysicalDamages', 'Weapon2Arme']]"
   ]
  },
  {
   "cell_type": "code",
   "execution_count": 8,
   "metadata": {
    "collapsed": false,
    "pycharm": {
     "name": "#%%\n"
    }
   },
   "outputs": [],
   "source": [
    "import re\n",
    "\n",
    "def weaponify(unit):\n",
    "    # We're going to build a new pandas Series with all of the information we want.\n",
    "    srs = pd.Series()\n",
    "    \n",
    "    # First thing first, how many weapons are we talking about? A quick regex will get us this fact.\n",
    "    try:\n",
    "        top_weapon_number = max([int(re.search(r'\\d+', c).group()) for c in unit.index\\\n",
    "                                 if (\"Weapon\" in c) and (pd.notnull(unit[c]))])\n",
    "    except ValueError:\n",
    "        # There are none!\n",
    "        top_weapon_number = 0\n",
    "    \n",
    "    # Some things we need to keep track of outside of the loop.\n",
    "    salvo_stock_indices_already_visited = []\n",
    "    \n",
    "    for i in range(1, top_weapon_number + 1):\n",
    "#         import pdb; pdb.set_trace()\n",
    "        \n",
    "        fragment = 'Weapon{0}'.format(i)\n",
    "        salvo_index = 0 if unit[fragment + 'SalvoStockIndex'] == \"null\" else int(unit[fragment + 'SalvoStockIndex'])\n",
    "        \n",
    "        # If we haven't already visited this stock index, this weapon is the first one there.\n",
    "        # Let's copy its data into our new Series!\n",
    "        if salvo_index not in salvo_stock_indices_already_visited:\n",
    "            columns_of_interest = [c for c in unit.index if fragment in c]\n",
    "            for c in columns_of_interest:\n",
    "                srs[c] = unit[c]\n",
    "        # If we have already visited this stock index, let's find out why.\n",
    "        else:\n",
    "            # Before we begin, let's find that previous weapon.\n",
    "            # We can find it by taking the index of the previous weapon's position in the visited list and adding one.\n",
    "            previous_fragment = \"Weapon{0}\".format(salvo_stock_indices_already_visited.index(salvo_index) + 1)\n",
    "            \n",
    "            # Case 1: The new (current) weapon is a smoke weapon. \n",
    "            # We see this when Arme == 3 and PhysicalDamages is \"null\".\n",
    "            if (unit[fragment + 'Arme'] == \"null\" or int(unit[fragment + 'Arme']) == 3) \\\n",
    "                and (unit[fragment + 'PhysicalDamages'] == \"null\"):\n",
    "                # Attach a can-smoke tag to the weapon.\n",
    "                srs[previous_fragment + 'CanSmoke'] = True\n",
    "            # Case 2a: The first weapon is an SMG, and the second weapon is also an SMG.\n",
    "            # SMGs get doubled accuracy when the fight is in CQC. It turns out that this is implemented within the\n",
    "            # engine by, no joke, simply attaching another copy of the weapon to the unit which points to the same\n",
    "            # exact thing except that accuracy is doubled.\n",
    "            #\n",
    "            # For an example, refer to the French Groupe Commandat command infantry unit, which is the 15th unit\n",
    "            # in the list of them on the Modding Suite (at the moment at least).\n",
    "            #\n",
    "            # To detect this case, we check to see if both weapons are SMGs.\n",
    "            #\n",
    "            # Case 2b: Similarly, if the the weapon is a battle rifle, expect half accuracy in CQC.\n",
    "            # Case: 2c: If the weapon is an assault rifle, expect the same accuracy. But the weapon gets split anyway!\n",
    "            elif (unit[fragment + 'TypeArme'] == \"D1D5010000000000\" \\\n",
    "                    and unit[previous_fragment + 'TypeArme'] == \"D1D5010000000000\") or \\\n",
    "                (unit[fragment + 'TypeArme'] == \"6ABCBA1C00000000\" \\\n",
    "                    and unit[previous_fragment + 'TypeArme'] == \"6ABCBA1C00000000\") or \\\n",
    "                (unit[fragment + 'TypeArme'] == \"5C99C7BA89E30B00\" \\\n",
    "                    and unit[previous_fragment + 'TypeArme'] == \"5C99C7BA89E30B00\"):\n",
    "                    # In this case we do...nothing! The data is already there.\n",
    "                    pass\n",
    "            # Case 3: The new (current) weapon is the HE or AP component of the previous weapon.\n",
    "            # These can occur in either order, so we have to make sense of it by looking at what the values are.\n",
    "            # Taking a maximum does the job nicely, but first we have to fix nullity.\n",
    "            else:\n",
    "                # Then, we play the game.\n",
    "                prior_arme = srs[previous_fragment + 'Arme']\n",
    "                if prior_arme == 'null': prior_arme = np.nan\n",
    "                curr_arme = unit[fragment + 'Arme']\n",
    "                if curr_arme == 'null': curr_arme = np.nan\n",
    "                prior_physical = unit[previous_fragment + 'PhysicalDamages']\n",
    "                if prior_physical == 'null': prior_physical = np.nan\n",
    "                curr_physical = unit[fragment + 'PhysicalDamages']\n",
    "                if curr_physical == 'null': curr_physical = np.nan\n",
    "                # The rathered tortured semantics are necessary to work around numpy bitching about types.\n",
    "                arme = int(np.nanmax(np.array([prior_arme, curr_arme]).astype(float)))\n",
    "                physical = int(np.nanmax(np.array([prior_physical, curr_physical]).astype(float)))\n",
    "                # Attach the new values.\n",
    "                srs[previous_fragment + 'Arme'] = arme\n",
    "                srs[previous_fragment + 'PhysicalDamages'] = physical\n",
    "\n",
    "        # Finally, don't forget to add the stock index to the visited list!\n",
    "        salvo_stock_indices_already_visited.append(salvo_index)\n",
    "\n",
    "    # We may have produced empties along the way, populating fields in a pattern like ['Weapon1', 'Weapon3'] instead of\n",
    "    # e.g. ['Weapon1', 'Weapon2']. This is much easier to fix afterwards, though, then during. So let's fix that now!\n",
    "    # Start with the same regex as before...\n",
    "    try:\n",
    "        top_weapon_number = max([int(re.search(r'\\d+', c).group()) for c in srs.index\\\n",
    "                                 if (\"Weapon\" in c) and (pd.notnull(srs[c]))])\n",
    "    except:\n",
    "        return srs\n",
    "    \n",
    "    # Assuming we have weapons at all (the duck test above caught the case that we don't), we keep going.\n",
    "    attached_weapon_numbers = [i for i in range(1, top_weapon_number + 1) if 'Weapon{0}Arme'.format(i) in srs.index]\n",
    "    \n",
    "    # Figure out how to map the attached weapon numbers.\n",
    "    trips = zip(attached_weapon_numbers, range(1, len(attached_weapon_numbers) + 1))\n",
    "    \n",
    "    # Map down.\n",
    "    for origin, destination in trips:\n",
    "        if origin == destination:\n",
    "            pass\n",
    "        else:\n",
    "            srs.index = [c if (('Weapon' not in c) or (int(re.search(r'\\d+', c).group()) != origin))\\\n",
    "                            else c.replace(re.search(r'\\d+', c).group(), str(destination)) for c in srs.index]\n",
    "    \n",
    "    return srs"
   ]
  },
  {
   "cell_type": "code",
   "execution_count": 9,
   "metadata": {
    "collapsed": false,
    "pycharm": {
     "name": "#%%\n"
    }
   },
   "outputs": [
    {
     "data": {
      "text/plain": "Weapon3SalvoStockIndex    1.0\nName: 207, dtype: object"
     },
     "execution_count": 9,
     "metadata": {},
     "output_type": "execute_result"
    }
   ],
   "source": [
    "units.query('NameInMenu == \"RECCE #reco2\"').iloc[0][['Weapon3SalvoStockIndex']]"
   ]
  },
  {
   "cell_type": "code",
   "execution_count": 10,
   "metadata": {
    "collapsed": false,
    "pycharm": {
     "name": "#%%\n"
    }
   },
   "outputs": [
    {
     "name": "stderr",
     "output_type": "stream",
     "text": [
      "/var/folders/s7/d_hp0cc12jj5nrlqny507k2h0000gn/T/ipykernel_96029/2891857363.py:5: FutureWarning: The default dtype for empty Series will be 'object' instead of 'float64' in a future version. Specify a dtype explicitly to silence this warning.\n",
      "  srs = pd.Series()\n"
     ]
    },
    {
     "ename": "ValueError",
     "evalue": "cannot convert float NaN to integer",
     "output_type": "error",
     "traceback": [
      "\u001B[0;31m---------------------------------------------------------------------------\u001B[0m",
      "\u001B[0;31mValueError\u001B[0m                                Traceback (most recent call last)",
      "Input \u001B[0;32mIn [10]\u001B[0m, in \u001B[0;36m<cell line: 1>\u001B[0;34m()\u001B[0m\n\u001B[0;32m----> 1\u001B[0m \u001B[43mweaponify\u001B[49m\u001B[43m(\u001B[49m\u001B[43munits\u001B[49m\u001B[38;5;241;43m.\u001B[39;49m\u001B[43mquery\u001B[49m\u001B[43m(\u001B[49m\u001B[38;5;124;43m'\u001B[39;49m\u001B[38;5;124;43mNameInMenu == \u001B[39;49m\u001B[38;5;124;43m\"\u001B[39;49m\u001B[38;5;124;43mKUB-M\u001B[39;49m\u001B[38;5;124;43m\"\u001B[39;49m\u001B[38;5;124;43m'\u001B[39;49m\u001B[43m)\u001B[49m\u001B[38;5;241;43m.\u001B[39;49m\u001B[43miloc\u001B[49m\u001B[43m[\u001B[49m\u001B[38;5;241;43m0\u001B[39;49m\u001B[43m]\u001B[49m\u001B[43m)\u001B[49m[[\u001B[38;5;124m'\u001B[39m\u001B[38;5;124mWeapon1Arme\u001B[39m\u001B[38;5;124m'\u001B[39m, \u001B[38;5;124m'\u001B[39m\u001B[38;5;124mWeapon1PhysicalDamages\u001B[39m\u001B[38;5;124m'\u001B[39m,\n\u001B[1;32m      2\u001B[0m                                                           \u001B[38;5;124m'\u001B[39m\u001B[38;5;124mWeapon2Arme\u001B[39m\u001B[38;5;124m'\u001B[39m, \u001B[38;5;124m'\u001B[39m\u001B[38;5;124mWeapon2PhysicalDamages\u001B[39m\u001B[38;5;124m'\u001B[39m, \n\u001B[1;32m      3\u001B[0m                                                           \u001B[38;5;124m'\u001B[39m\u001B[38;5;124mWeapon3Arme\u001B[39m\u001B[38;5;124m'\u001B[39m, \u001B[38;5;124m'\u001B[39m\u001B[38;5;124mWeapon3PhysicalDamages\u001B[39m\u001B[38;5;124m'\u001B[39m]]\n",
      "Input \u001B[0;32mIn [8]\u001B[0m, in \u001B[0;36mweaponify\u001B[0;34m(unit)\u001B[0m\n\u001B[1;32m     18\u001B[0m     \u001B[38;5;28;01mfor\u001B[39;00m i \u001B[38;5;129;01min\u001B[39;00m \u001B[38;5;28mrange\u001B[39m(\u001B[38;5;241m1\u001B[39m, top_weapon_number \u001B[38;5;241m+\u001B[39m \u001B[38;5;241m1\u001B[39m):\n\u001B[1;32m     19\u001B[0m \u001B[38;5;66;03m#         import pdb; pdb.set_trace()\u001B[39;00m\n\u001B[1;32m     21\u001B[0m         fragment \u001B[38;5;241m=\u001B[39m \u001B[38;5;124m'\u001B[39m\u001B[38;5;124mWeapon\u001B[39m\u001B[38;5;132;01m{0}\u001B[39;00m\u001B[38;5;124m'\u001B[39m\u001B[38;5;241m.\u001B[39mformat(i)\n\u001B[0;32m---> 22\u001B[0m         salvo_index \u001B[38;5;241m=\u001B[39m \u001B[38;5;241m0\u001B[39m \u001B[38;5;28;01mif\u001B[39;00m unit[fragment \u001B[38;5;241m+\u001B[39m \u001B[38;5;124m'\u001B[39m\u001B[38;5;124mSalvoStockIndex\u001B[39m\u001B[38;5;124m'\u001B[39m] \u001B[38;5;241m==\u001B[39m \u001B[38;5;124m\"\u001B[39m\u001B[38;5;124mnull\u001B[39m\u001B[38;5;124m\"\u001B[39m \u001B[38;5;28;01melse\u001B[39;00m \u001B[38;5;28;43mint\u001B[39;49m\u001B[43m(\u001B[49m\u001B[43munit\u001B[49m\u001B[43m[\u001B[49m\u001B[43mfragment\u001B[49m\u001B[43m \u001B[49m\u001B[38;5;241;43m+\u001B[39;49m\u001B[43m \u001B[49m\u001B[38;5;124;43m'\u001B[39;49m\u001B[38;5;124;43mSalvoStockIndex\u001B[39;49m\u001B[38;5;124;43m'\u001B[39;49m\u001B[43m]\u001B[49m\u001B[43m)\u001B[49m\n\u001B[1;32m     24\u001B[0m         \u001B[38;5;66;03m# If we haven't already visited this stock index, this weapon is the first one there.\u001B[39;00m\n\u001B[1;32m     25\u001B[0m         \u001B[38;5;66;03m# Let's copy its data into our new Series!\u001B[39;00m\n\u001B[1;32m     26\u001B[0m         \u001B[38;5;28;01mif\u001B[39;00m salvo_index \u001B[38;5;129;01mnot\u001B[39;00m \u001B[38;5;129;01min\u001B[39;00m salvo_stock_indices_already_visited:\n",
      "\u001B[0;31mValueError\u001B[0m: cannot convert float NaN to integer"
     ]
    }
   ],
   "source": [
    "weaponify(units.query('NameInMenu == \"KUB-M\"').iloc[0])[['Weapon1Arme', 'Weapon1PhysicalDamages',\n",
    "                                                          'Weapon2Arme', 'Weapon2PhysicalDamages', \n",
    "                                                          'Weapon3Arme', 'Weapon3PhysicalDamages']]  # Single weapon test"
   ]
  },
  {
   "cell_type": "code",
   "execution_count": null,
   "metadata": {
    "collapsed": false,
    "scrolled": false,
    "pycharm": {
     "name": "#%%\n"
    }
   },
   "outputs": [],
   "source": [
    "weaponify(units.query('NameInMenu == \"AMX-30\"').iloc[0])[['Weapon1Arme', 'Weapon1PhysicalDamages',\n",
    "                                                          'Weapon2Arme', 'Weapon2PhysicalDamages', \n",
    "                                                          'Weapon3Arme', 'Weapon3PhysicalDamages']]  # Single AP/HE test"
   ]
  },
  {
   "cell_type": "code",
   "execution_count": null,
   "metadata": {
    "collapsed": false,
    "pycharm": {
     "name": "#%%\n"
    }
   },
   "outputs": [],
   "source": [
    "weaponify(units.query('NameInMenu == \"AMX-30B\"').iloc[0])[['Weapon1Arme', 'Weapon1PhysicalDamages',\n",
    "                                                          'Weapon2Arme', 'Weapon2PhysicalDamages', \n",
    "                                                          'Weapon3Arme', 'Weapon3PhysicalDamages']]  # Double HE-AP test"
   ]
  },
  {
   "cell_type": "code",
   "execution_count": null,
   "metadata": {
    "collapsed": false,
    "pycharm": {
     "name": "#%%\n"
    }
   },
   "outputs": [],
   "source": [
    "weaponify(units.query('NameInMenu == \"DANA\"').iloc[0])[['Weapon1Arme', 'Weapon1PhysicalDamages',\n",
    "                                                          'Weapon2Arme', 'Weapon2PhysicalDamages', \n",
    "                                                          'Weapon3Arme', 'Weapon3PhysicalDamages']]  # Smoke test"
   ]
  },
  {
   "cell_type": "code",
   "execution_count": null,
   "metadata": {
    "collapsed": false,
    "pycharm": {
     "name": "#%%\n"
    }
   },
   "outputs": [],
   "source": [
    "weaponify(units_.ix[18])[['Weapon1PhysicalDamages', 'Weapon1Arme', 'Weapon2Arme', \n",
    "                          'Weapon3PhysicalDamages', 'Weapon3Arme']]  # Test: Assault Rifle"
   ]
  },
  {
   "cell_type": "code",
   "execution_count": null,
   "metadata": {
    "collapsed": false,
    "pycharm": {
     "name": "#%%\n"
    }
   },
   "outputs": [],
   "source": [
    "weaponify(units_.ix[17])[['Weapon1PhysicalDamages', 'Weapon1Arme', 'Weapon2Arme', \n",
    "                          'Weapon3PhysicalDamages', 'Weapon3Arme']]  # Test: Battle Rifle"
   ]
  },
  {
   "cell_type": "code",
   "execution_count": null,
   "metadata": {
    "collapsed": false,
    "pycharm": {
     "name": "#%%\n"
    }
   },
   "outputs": [],
   "source": [
    "weaponify(units.iloc[15])[['Weapon1PhysicalDamages', 'Weapon1Arme', 'Weapon2Arme', 'Weapon2PhysicalDamages',\n",
    "                          'Weapon3PhysicalDamages', 'Weapon3Arme']]  # Test: SMG"
   ]
  },
  {
   "cell_type": "code",
   "execution_count": null,
   "metadata": {
    "collapsed": false,
    "pycharm": {
     "name": "#%%\n"
    }
   },
   "outputs": [],
   "source": [
    "weaponify(units.query('NameInMenu == \"#command UDALOY II\"').iloc[0])[\n",
    "    ['Weapon1Arme', 'Weapon1PhysicalDamages', 'Weapon2Arme', 'Weapon2PhysicalDamages',\n",
    "     'Weapon3Arme', 'Weapon3PhysicalDamages', 'Weapon4Arme', 'Weapon4PhysicalDamages',\n",
    "     'Weapon5Arme', 'Weapon5PhysicalDamages', 'Weapon6Arme', 'Weapon6PhysicalDamages',\n",
    "     'Weapon7Arme', 'Weapon7PhysicalDamages', 'Weapon8Arme', 'Weapon8PhysicalDamages',\n",
    "     'Weapon9Arme', 'Weapon9PhysicalDamages', 'Weapon10Arme', 'Weapon10PhysicalDamages',\n",
    "     'Weapon11Arme', 'Weapon11PhysicalDamages',]]\n",
    "# Test: biggest ship"
   ]
  },
  {
   "cell_type": "code",
   "execution_count": null,
   "metadata": {
    "collapsed": false,
    "pycharm": {
     "name": "#%%\n"
    }
   },
   "outputs": [],
   "source": [
    "weaponify(units.query('NameInMenu == \"#command NAJIN\"').iloc[0])[\n",
    "    ['Weapon1Arme', 'Weapon1PhysicalDamages', 'Weapon2Arme', 'Weapon2PhysicalDamages',\n",
    "     'Weapon3Arme', 'Weapon3PhysicalDamages', 'Weapon4Arme', 'Weapon4PhysicalDamages',\n",
    "     'Weapon5Arme', 'Weapon5PhysicalDamages', 'Weapon6Arme', 'Weapon6PhysicalDamages',\n",
    "     'Weapon7Arme', 'Weapon7PhysicalDamages', 'Weapon8Arme', 'Weapon8PhysicalDamages',\n",
    "     'Weapon9Arme', 'Weapon9PhysicalDamages', 'Weapon10Arme', 'Weapon10PhysicalDamages',\n",
    "     'Weapon11Arme', 'Weapon11PhysicalDamages']]\n",
    "# Test: big ship."
   ]
  },
  {
   "cell_type": "code",
   "execution_count": null,
   "metadata": {
    "collapsed": false,
    "scrolled": false,
    "pycharm": {
     "name": "#%%\n"
    }
   },
   "outputs": [],
   "source": [
    "weaponify(units.query('NameInMenu == \"AML 60/20 SERVAL\"').iloc[0])[\n",
    "    ['Weapon1PhysicalDamages', 'Weapon1Arme', 'Weapon2Arme', 'Weapon2PhysicalDamages',\n",
    "     'Weapon3PhysicalDamages', 'Weapon3Arme']]\n",
    "# Test: complex"
   ]
  },
  {
   "cell_type": "code",
   "execution_count": null,
   "metadata": {
    "collapsed": false,
    "pycharm": {
     "name": "#%%\n"
    }
   },
   "outputs": [],
   "source": [
    "weaponify(units.query('NameInMenu == \"AH-64A APACHE\"').iloc[0])[\n",
    "    ['Weapon1PhysicalDamages', 'Weapon1Arme', 'Weapon2Arme', 'Weapon2PhysicalDamages',\n",
    "     'Weapon3PhysicalDamages', 'Weapon3Arme']]\n",
    "# Test: complex"
   ]
  },
  {
   "cell_type": "code",
   "execution_count": null,
   "metadata": {
    "collapsed": false,
    "pycharm": {
     "name": "#%%\n"
    }
   },
   "outputs": [],
   "source": [
    "from checkpoints import checkpoints\n",
    "checkpoints.enable()\n",
    "\n",
    "units__ = units_.safe_apply(weaponify, axis='columns')"
   ]
  },
  {
   "cell_type": "code",
   "execution_count": null,
   "metadata": {
    "collapsed": true,
    "pycharm": {
     "name": "#%%\n"
    }
   },
   "outputs": [],
   "source": [
    "units__.to_csv(\"../data/510049986/intermediate_data.csv\")"
   ]
  }
 ],
 "metadata": {
  "anaconda-cloud": {},
  "kernelspec": {
   "display_name": "Python 3",
   "language": "python",
   "name": "python3"
  },
  "language_info": {
   "codemirror_mode": {
    "name": "ipython",
    "version": 3
   },
   "file_extension": ".py",
   "mimetype": "text/x-python",
   "name": "python",
   "nbconvert_exporter": "python",
   "pygments_lexer": "ipython3",
   "version": "3.5.2"
  }
 },
 "nbformat": 4,
 "nbformat_minor": 0
}