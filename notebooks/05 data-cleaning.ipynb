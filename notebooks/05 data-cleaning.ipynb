{
 "cells": [
  {
   "cell_type": "code",
   "execution_count": 1,
   "metadata": {
    "collapsed": false
   },
   "outputs": [
    {
     "name": "stderr",
     "output_type": "stream",
     "text": [
      "/Users/Honors/anaconda/lib/python3.5/site-packages/IPython/core/interactiveshell.py:2902: DtypeWarning: Columns (1,2,6,10,12,13,15,16,17,18,19,20,23,24,25,26,30,31,34,40,42,43,44,45,46,47,51,55,57,58,60,61,65,66,67,68,69,70,72,73,77,81,83,84,86,87,88,89,90,91,94,95,96,97,101,102,105,111,113,114,115,116,117,118,122,126,129,131,136,137,138,139,140,141,143,144,148,152,154,155,157,158,159,160,161,162,165,166,167,168,172,173,176,182,184,185,186,187,188,189,193,197,200,202,207,208,209,210,211,212,214,215,219,223,225,226,228,229,230,231,232,236,237,238,239,243,244,247,255,256,257,258,259,260,264,268,270,271,273,274,278,279,280,281,282,283,285,286,290,294,296,297,299,300,301,302,303,307,308,309,310,314,315,318,326,327,328,329,330,331,335,339,341,342,344,345,349,350,351,352,353,354,393,418,419,421,467,488,493,495,511,517,526,527,541,558,559,562,566,585,587,597,598,613,614,617,630,633,637,648,649,652,653,657,659,660,661,663,664,665,666,667,668,669,670,671,672,673,674,678,679,682,685,686,687,688,689,690,691,692,693,694,695,699,703,705,706,708,709,713,714,715,716,717,718,720,721,725,729,731,732,734,735,736,737,738,739,742,743,744,745,749,750,753,756,757,758,759,760,761,762,763,764,765,766,770,774,776,777,779,780,784,785,786,787,788,789,791,792,795,796,800,802,803,805,806,807,808,809,810,813,814,815,816,820,821,824,829,830,832,833,834,835,836,837,841,845,847,848,850,851,855,856,857,858,859,860,862,863,867,871,873,874,876,877,878,879,880,881,884,885,886,887,891,892,895,898,899,901,903,904,905,906,907,908,912,916,918,919,921,922,926,927,928,929,930,931,933,934,938,942,944,945,947,948,949,950,951,952,955,956,957,958,962,963,966,972,974,975,976,977,978,979,983,987,989,990,992,993,997,998,999,1000,1001,1002) have mixed types. Specify dtype option on import or set low_memory=False.\n",
      "  interactivity=interactivity, compiler=compiler, result=result)\n"
     ]
    }
   ],
   "source": [
    "import pandas as pd\n",
    "import numpy as np\n",
    "%matplotlib inline\n",
    "import seaborn as sns\n",
    "\n",
    "weapons = pd.read_csv(\"../data/510049986/intermediate_data.csv\",\n",
    "                      encoding='windows-1252', \n",
    "                      index_col=0)"
   ]
  },
  {
   "cell_type": "code",
   "execution_count": 2,
   "metadata": {
    "collapsed": true
   },
   "outputs": [],
   "source": [
    "hashes = pd.read_csv(\"../raws/510053208/ZZ_Win/pc/localisation/us/localisation/unites_fixed.csv\", \n",
    "                     encoding='windows-1252', \n",
    "                     index_col=0)"
   ]
  },
  {
   "cell_type": "code",
   "execution_count": 3,
   "metadata": {
    "collapsed": false
   },
   "outputs": [
    {
     "name": "stderr",
     "output_type": "stream",
     "text": [
      "/Users/Honors/anaconda/lib/python3.5/site-packages/IPython/core/interactiveshell.py:2902: DtypeWarning: Columns (13,28,43,50,51,60,62,66,68,69,73,77,79,80,82,83,84,85,86,87,90,91,92,93,97,98,101,107,109,110,111,112,113,114,118,122,124,125,127,128,132,133,134,135,136,137,139,140,144,148,150,151,153,154,155,156,157,158,161,162,163,164,168,169,172,178,180,181,182,183,184,185,189,193,196,198,203,204,205,206,207,208,210,211,215,219,221,222,224,225,226,227,228,229,232,233,234,235,239,240,243,249,251,252,253,254,255,256,260,264,267,269,274,275,276,277,278,279,281,282,286,290,292,293,295,296,297,298,299,303,304,305,306,310,311,314,322,323,324,325,326,327,331,335,337,338,340,341,345,346,347,348,349,350,352,353,357,361,363,364,366,367,368,369,370,374,375,376,377,381,382,385,393,394,395,396,397,398,402,406,408,409,411,412,416,417,418,419,420,421,431,445,446,460,485,486,488,504,506,518,519,558,573,574,577,579,582,591,592,627,632,634,646,650,652,662,663,694,695,698,702,713,714,717,718,721,722,723,724,725,727,728,729,730,731,732,733,734,735,736,737,738,742,743,746,748,749,750,751,752,753,754,755,756,757,758,759,763,765,766,767,769,770,772,773,777,778,779,780,781,782,784,785,788,789,792,793,795,796,798,799,800,801,802,803,804,805,806,807,808,809,813,814,817,820,821,822,823,824,825,826,827,828,829,830,834,836,837,838,840,841,843,844,848,849,850,851,852,853,855,856,859,860,864,866,867,869,870,871,872,873,874,877,878,879,880,884,885,888,893,894,895,896,897,898,899,900,901,905,909,911,912,914,915,919,920,921,922,923,924,926,927,931,935,937,938,940,941,942,943,944,945,948,949,950,951,955,956,959,962,963,964,965,967,968,969,970,971,972,976,980,982,983,985,986,990,991,992,993,994,995,997,998,1002,1006,1008,1009,1011,1012,1013,1014,1015,1016,1019,1020,1021,1022,1026,1027,1030,1035,1036,1037,1038,1039,1040,1041,1042,1043,1047,1051,1053,1054,1056,1057,1061,1062,1063,1064,1065,1066,1068) have mixed types. Specify dtype option on import or set low_memory=False.\n",
      "  interactivity=interactivity, compiler=compiler, result=result)\n"
     ]
    }
   ],
   "source": [
    "units = pd.read_csv(\"../data/510049986/raw_data.csv\", encoding=\"windows-1252\", index_col=0)"
   ]
  },
  {
   "cell_type": "markdown",
   "metadata": {},
   "source": [
    "Remove deprecated units."
   ]
  },
  {
   "cell_type": "code",
   "execution_count": 4,
   "metadata": {
    "collapsed": true
   },
   "outputs": [],
   "source": [
    "units = units[~units.apply(lambda srs: 'Deprec!' in srs['NameInMenu'], axis='columns')]"
   ]
  },
  {
   "cell_type": "markdown",
   "metadata": {},
   "source": [
    "Merge weapons on."
   ]
  },
  {
   "cell_type": "code",
   "execution_count": 5,
   "metadata": {
    "collapsed": false
   },
   "outputs": [],
   "source": [
    "units = units.drop([c for c in units.columns if 'Weapon' in c], axis=1).join(weapons)"
   ]
  },
  {
   "cell_type": "code",
   "execution_count": 6,
   "metadata": {
    "collapsed": true
   },
   "outputs": [],
   "source": [
    "decks = {\n",
    "    '8BD43C9757360E00': 'Mechanized',\n",
    "    '5C76718B57360E00': 'Armored',\n",
    "    '5E767965E3000000': 'Motorized',\n",
    "    'DAD77965E3000000': 'Support',\n",
    "    '23B8605ED9380000': 'Marine',\n",
    "    '0BB7685ED9380000': 'Airborne'\n",
    "}\n",
    "\n",
    "deck_types = units['UnitTypeTokens'].map(eval).map(lambda l: [decks[i] for i in l])\n",
    "units['Mechanized'] = deck_types.map(lambda t: 'Mechanized' in t)\n",
    "units['Armored'] = deck_types.map(lambda t: 'Armored' in t)\n",
    "units['Motorized'] = deck_types.map(lambda t: 'Motorized' in t)\n",
    "units['Support'] = deck_types.map(lambda t: 'Support' in t)\n",
    "units['Marine'] = deck_types.map(lambda t: 'Marine' in t)\n",
    "units['Airborne'] = deck_types.map(lambda t: 'Airborne' in t)"
   ]
  },
  {
   "cell_type": "code",
   "execution_count": 7,
   "metadata": {
    "collapsed": true
   },
   "outputs": [],
   "source": [
    "movers = {\n",
    "    1: 'Foot',\n",
    "    2: 'Wheeled',\n",
    "    3: 'Wheeled',\n",
    "    5: 'Tracked',\n",
    "    6: 'Air',\n",
    "    7: 'Wheeled',\n",
    "    8: 'Tracked',\n",
    "    9: 'Water'\n",
    "}\n",
    "amphib = {\n",
    "    1: False,\n",
    "    2: False,\n",
    "    3: False,\n",
    "    5: False,\n",
    "    6: np.nan,\n",
    "    7: True,\n",
    "    8: True,\n",
    "    9: np.nan\n",
    "}\n",
    "\n",
    "units['MovementType'] = units['UnitMovingType'].map(movers)\n",
    "units['Amphibious'] = units['UnitMovingType'].map(amphib)"
   ]
  },
  {
   "cell_type": "code",
   "execution_count": 8,
   "metadata": {
    "collapsed": true
   },
   "outputs": [],
   "source": [
    "training = {\n",
    "    '8F37594F19619C07' : 'Elite',\n",
    "    '5593495D19619C07' : 'Shock',\n",
    "    'D6173D5C19619C07' : 'Regular',\n",
    "    'DE644D5719619C07' : 'Militia',\n",
    "    'null': np.nan\n",
    "}\n",
    "\n",
    "units['Training'] = units['Training'].map(training)"
   ]
  },
  {
   "cell_type": "code",
   "execution_count": 9,
   "metadata": {
    "collapsed": true
   },
   "outputs": [],
   "source": [
    "ciws = {\n",
    "    '4F233E0000000000': 'Exceptional',\n",
    "    '4E96452000000000': 'Very Good',\n",
    "    '4E96450000000000': 'Good',\n",
    "    'D672711906000000': 'Medium',\n",
    "    'CEC2000000000000': 'Bad',\n",
    "    'null': np.nan\n",
    "}\n",
    "\n",
    "units['CIWS'] = units['CIWS'].map(ciws)"
   ]
  },
  {
   "cell_type": "code",
   "execution_count": 10,
   "metadata": {
    "collapsed": true
   },
   "outputs": [],
   "source": [
    "sailing = {\n",
    "    'CBD32D65B4780000': 'Deep Sea',\n",
    "    'CBD33165B4780000': 'Coastal',\n",
    "    'CBD33565B4780000': 'Riverine',\n",
    "    'null': np.nan\n",
    "}\n",
    "units['SailingType'] = units['Sailing'].map(sailing)"
   ]
  },
  {
   "cell_type": "code",
   "execution_count": 17,
   "metadata": {
    "collapsed": false
   },
   "outputs": [],
   "source": [
    "units['HitRollSizeModifier'] = units['HitRollSizeModifier'].map(lambda v: float(v) if v != \"null\" else np.nan)"
   ]
  },
  {
   "cell_type": "code",
   "execution_count": 19,
   "metadata": {
    "collapsed": false
   },
   "outputs": [],
   "source": [
    "# units['DeathExplosionArme']  # TODO: DeathExplosion stuff"
   ]
  },
  {
   "cell_type": "code",
   "execution_count": 82,
   "metadata": {
    "collapsed": false
   },
   "outputs": [],
   "source": [
    "mother_country = {\n",
    "    'US': 'United States',\n",
    "    'UK': 'United Kingdom',\n",
    "    'FR': 'France',\n",
    "    'RFA': 'West Germany',\n",
    "    'CAN': 'Canada',\n",
    "    'SWE': 'Sweden',\n",
    "    'NOR': 'Norway',\n",
    "    'DAN': 'Denmark',\n",
    "    'ANZ': 'ANZAC',\n",
    "    'JAP': 'Japan',\n",
    "    'ROK': 'South Korea',\n",
    "    'ISR': 'Israel',\n",
    "    'HOL': 'The Netherlands',\n",
    "    'URSS': 'Soviet Union',\n",
    "    'RDA': 'East Germany',\n",
    "    'TCH': 'Czechoslavakia',\n",
    "    'POL': 'Poland',\n",
    "    'CHI': 'China',\n",
    "    'NK': 'North Korea'\n",
    "}\n",
    "\n",
    "units['MotherCountry'] = units['MotherCountry'].map(mother_country)"
   ]
  },
  {
   "cell_type": "code",
   "execution_count": 25,
   "metadata": {
    "collapsed": false
   },
   "outputs": [],
   "source": [
    "units['ProductionYear'] = units['ProductionYear'].map(lambda v: int(v) if v != \"null\" else np.nan)"
   ]
  },
  {
   "cell_type": "code",
   "execution_count": 27,
   "metadata": {
    "collapsed": false
   },
   "outputs": [],
   "source": [
    "units['MaxPacks'] = units['MaxPacks'].map(lambda v: int(v) if v != \"null\" else np.nan)"
   ]
  },
  {
   "cell_type": "code",
   "execution_count": 29,
   "metadata": {
    "collapsed": false
   },
   "outputs": [],
   "source": [
    "tab = {\n",
    "    3: 'LOG',\n",
    "    6: 'INF',\n",
    "    7: 'PLA',\n",
    "    8: 'VHC',\n",
    "    9: 'TNK',\n",
    "    10: 'REC',\n",
    "    11: 'HEL',\n",
    "    12: 'SHP',\n",
    "    13: 'SUP',\n",
    "    \"null\": np.nan\n",
    "}\n",
    "units['Tab'] = units['Factory'].map(tab)"
   ]
  },
  {
   "cell_type": "code",
   "execution_count": 38,
   "metadata": {
    "collapsed": false
   },
   "outputs": [],
   "source": [
    "units['ProductionPrice'] = units['ProductionPrice'].map(lambda l: eval(l)[0] if len(eval(l)) > 0 else np.nan)"
   ]
  },
  {
   "cell_type": "code",
   "execution_count": 46,
   "metadata": {
    "collapsed": false,
    "scrolled": true
   },
   "outputs": [],
   "source": [
    "units['IsPrototype'] = units['IsPrototype'].map(lambda v: True if v == \"True\" else False)"
   ]
  },
  {
   "cell_type": "code",
   "execution_count": 49,
   "metadata": {
    "collapsed": false
   },
   "outputs": [],
   "source": [
    "units['HitRollECMModifier'] = units['HitRollECMModifier'].map(lambda v: float(v) if v != \"null\" else np.nan)"
   ]
  },
  {
   "cell_type": "code",
   "execution_count": 86,
   "metadata": {
    "collapsed": false
   },
   "outputs": [],
   "source": [
    "units['Maxspeed'] = units['Maxspeed'] / 52\n",
    "units['MaxSpeed'] = units['Maxspeed']\n",
    "del units['Maxspeed']"
   ]
  },
  {
   "cell_type": "code",
   "execution_count": 91,
   "metadata": {
    "collapsed": false
   },
   "outputs": [],
   "source": [
    "units = units.rename(columns={'TempsDemiTour': 'TimeHalfTurn'})"
   ]
  },
  {
   "cell_type": "code",
   "execution_count": 79,
   "metadata": {
    "collapsed": false
   },
   "outputs": [],
   "source": [
    "units = units.drop(['_ShortDatabaseName', 'StickToGround', 'ManageUnitOrientation',\n",
    "            'IconeType', 'PositionInMenu', 'NameInMenuToken', 'AliasName', 'Category',\n",
    "            'AcknowUnitType', 'TypeForAcknow', 'Nationalite', 'Factory',\n",
    "            'CoutEtoile', 'UnitTypeTokens', 'UnitMovingType', 'Key',\n",
    "            'TypeUnitValue', 'UnitInfoJaugeType',\n",
    "            'SpeedBonusOnRoad', 'VehicleSubType', 'TerrainsToIgnoreMask',\n",
    "            'DeploymentDuration', 'WithdrawalDuration', \n",
    "            ], axis='columns')"
   ]
  },
  {
   "cell_type": "code",
   "execution_count": 118,
   "metadata": {
    "collapsed": false
   },
   "outputs": [],
   "source": [
    "deployables = units['MaxDeployableAmount'].map(lambda l: [int(v) for v in eval(l)])\n",
    "units['RookieDeployableAmount'] = [d[0] for d in deployables]\n",
    "units['TrainedDeployableAmount'] = [d[1] for d in deployables]\n",
    "units['HardenedDeployableAmount'] = [d[2] for d in deployables]\n",
    "units['VeteranDeployableAmount'] = [d[3] for d in deployables]\n",
    "units['EliteDeployableAmount'] = [d[4] for d in deployables]"
   ]
  },
  {
   "cell_type": "code",
   "execution_count": 126,
   "metadata": {
    "collapsed": false
   },
   "outputs": [],
   "source": [
    "units['UnitStealthBonus'] = units['UnitStealthBonus'].map(lambda v: float(v) if v != \"null\" else np.nan)"
   ]
  },
  {
   "cell_type": "code",
   "execution_count": 121,
   "metadata": {
    "collapsed": false
   },
   "outputs": [
    {
     "data": {
      "text/plain": [
       "Index(['CIWS', 'ClassNameForDebug', 'CyclicManoeuvrability',\n",
       "       'DeathExplosionArme', 'DeathExplosionID',\n",
       "       'DeathExplosionRadiusSplashPhysicalDamages',\n",
       "       'DeathExplosionRadiusSplashSuppressDamages',\n",
       "       'DeathExplosionSuppressDamages', 'FlyingAltitude', 'FuelCapacity',\n",
       "       ...\n",
       "       'MovementType', 'Amphibious', 'SailingType', 'Tab', 'MaxSpeed',\n",
       "       'RookieDeployableAmount', 'TrainedDeployableAmount',\n",
       "       'HardenedDeployableAmount', 'VeteranDeployableAmount',\n",
       "       'EliteDeployableAmount'],\n",
       "      dtype='object', length=1064)"
      ]
     },
     "execution_count": 121,
     "metadata": {},
     "output_type": "execute_result"
    }
   ],
   "source": [
    "units.columns"
   ]
  },
  {
   "cell_type": "code",
   "execution_count": 70,
   "metadata": {
    "collapsed": false
   },
   "outputs": [],
   "source": [
    "# TODO: Rerun export.py and then notebook 4, I'm missing a lot of variables for some reason.\n",
    "# TODO: Map Salves, map SalvoIsMainSalvo, delete HasMainSalvo after.\n",
    "# TODO: All the weapons stuff.\n",
    "# TODO: DeathExplosion stuff.\n",
    "# TODO: Who knows how many other variables?\n",
    "# TODO: Create a data dictionary.\n",
    "# TODO: Turn this notebook into a repeatable script.\n",
    "# TODO: Publish.\n",
    "# TODO: Run on previous versions of the game."
   ]
  }
 ],
 "metadata": {
  "kernelspec": {
   "display_name": "Python 3",
   "language": "python",
   "name": "python3"
  },
  "language_info": {
   "codemirror_mode": {
    "name": "ipython",
    "version": 3
   },
   "file_extension": ".py",
   "mimetype": "text/x-python",
   "name": "python",
   "nbconvert_exporter": "python",
   "pygments_lexer": "ipython3",
   "version": "3.5.2"
  }
 },
 "nbformat": 4,
 "nbformat_minor": 0
}
