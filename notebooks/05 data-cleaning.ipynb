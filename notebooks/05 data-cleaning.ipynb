{
 "cells": [
  {
   "cell_type": "code",
   "execution_count": 1,
   "metadata": {
    "collapsed": true
   },
   "outputs": [],
   "source": [
    "import pandas as pd\n",
    "import numpy as np\n",
    "%matplotlib inline\n",
    "import seaborn as sns"
   ]
  },
  {
   "cell_type": "code",
   "execution_count": 2,
   "metadata": {
    "collapsed": false
   },
   "outputs": [
    {
     "name": "stderr",
     "output_type": "stream",
     "text": [
      "C:\\Users\\Alex\\Anaconda3\\lib\\site-packages\\IPython\\core\\interactiveshell.py:2717: DtypeWarning: Columns (1,2,6,10,12,13,15,16,17,18,19,20,23,24,25,26,30,31,34,40,42,43,44,45,46,47,51,55,57,58,60,61,65,66,67,68,69,70,72,73,77,81,83,84,86,87,88,89,90,91,94,95,96,97,101,102,105,111,113,114,115,116,117,118,122,126,129,131,136,137,138,139,140,141,143,144,148,152,154,155,157,158,159,160,161,162,165,166,167,168,172,173,176,182,184,185,186,187,188,189,193,197,200,202,207,208,209,210,211,212,214,215,219,223,225,226,228,229,230,231,232,236,237,238,239,243,244,247,255,256,257,258,259,260,264,268,270,271,273,274,278,279,280,281,282,283,285,286,290,294,296,297,299,300,301,302,303,307,308,309,310,314,315,318,326,327,328,329,330,331,335,339,341,342,344,345,349,350,351,352,353,354,396,421,422,424,472,493,498,500,516,521,530,531,547,564,565,568,572,583,584,587,588,591,592,594,595,596,598,599,600,601,602,603,604,605,606,607,608,609,615,616,619,622,623,624,625,626,627,628,629,630,631,632,636,639,640,642,643,645,646,650,651,652,653,654,655,657,658,661,662,666,668,669,671,672,673,674,675,676,677,678,679,680,681,682,688,689,692,695,696,697,698,699,700,701,702,703,704,705,709,713,715,716,718,719,723,724,725,726,727,728,730,731,735,739,741,742,744,745,746,747,748,749,752,753,754,755,761,762,765,768,769,770,771,773,774,775,776,777,778,782,786,788,789,791,792,796,797,798,799,800,801,803,804,807,808,812,814,815,817,818,819,820,821,822,825,826,827,828,832,833,836,842,844,845,846,847,848,849,853,857,859,860,862,863,867,868,869,870,871,872,874,875,879,883,885,886,888,889,890,891,892,893,896,897,898,899,905,906,909,912,913,915,917,918,919,920,921,922,926,930,932,933,935,936,940,941,942,943,944,945,947,948,952,956,958,959,961,962,963,964,965,966,969,970,971,972,976,977,980,986,988,989,990,991,992,993,997,1001,1003,1004,1006,1007,1011,1012,1013,1014,1015,1016) have mixed types. Specify dtype option on import or set low_memory=False.\n",
      "  interactivity=interactivity, compiler=compiler, result=result)\n"
     ]
    }
   ],
   "source": [
    "weapons = pd.read_csv(\"../data/510049986/intermediate_data.csv\",\n",
    "                      encoding='windows-1252', \n",
    "                      index_col=0)"
   ]
  },
  {
   "cell_type": "code",
   "execution_count": 3,
   "metadata": {
    "collapsed": true
   },
   "outputs": [],
   "source": [
    "hashes = pd.read_csv(\"../raws/510053208/ZZ_Win/pc/localisation/us/localisation/unites_fixed.csv\", \n",
    "                     encoding='windows-1252', \n",
    "                     index_col=0)"
   ]
  },
  {
   "cell_type": "code",
   "execution_count": 4,
   "metadata": {
    "collapsed": false
   },
   "outputs": [
    {
     "name": "stderr",
     "output_type": "stream",
     "text": [
      "C:\\Users\\Alex\\Anaconda3\\lib\\site-packages\\IPython\\core\\interactiveshell.py:2717: DtypeWarning: Columns (7,19,32,40,56,57,65,72,73,89,91,95,97,98,102,106,108,109,111,112,113,114,115,116,119,120,121,122,126,127,130,136,138,139,140,141,142,143,147,151,153,154,156,157,161,162,163,164,165,166,168,169,173,177,179,180,182,183,184,185,186,187,190,191,192,193,197,198,201,207,209,210,211,212,213,214,218,222,225,227,232,233,234,235,236,237,239,240,244,248,250,251,253,254,255,256,257,258,261,262,263,264,268,269,272,278,280,281,282,283,284,285,289,293,296,298,303,304,305,306,307,308,310,311,315,319,321,322,324,325,326,327,328,332,333,334,335,339,340,343,351,352,353,354,355,356,360,364,366,367,369,370,374,375,376,377,378,379,381,382,386,390,392,393,395,396,397,398,399,403,404,405,406,410,411,414,422,423,424,425,426,427,431,435,437,438,440,441,445,446,447,448,449,450,460,474,475,491,516,517,519,535,537,549,550,591,606,607,610,612,615,624,625,662,667,669,681,685,687,697,698,731,732,735,739,750,751,754,755,758,759,760,761,762,764,765,766,767,768,769,770,771,772,773,774,775,781,782,785,787,788,789,790,791,792,793,794,795,796,797,798,802,804,805,806,808,809,811,812,816,817,818,819,820,821,823,824,827,828,831,832,834,835,837,838,839,840,841,842,843,844,845,846,847,848,854,855,858,861,862,863,864,865,866,867,868,869,870,871,875,877,878,879,881,882,884,885,889,890,891,892,893,894,896,897,900,901,905,907,908,910,911,912,913,914,915,918,919,920,921,925,926,929,934,935,936,937,938,939,940,941,942,946,950,952,953,955,956,960,961,962,963,964,965,967,968,972,976,978,979,981,982,983,984,985,986,989,990,991,992,998,999,1002,1005,1006,1007,1008,1010,1011,1012,1013,1014,1015,1019,1023,1025,1026,1028,1029,1033,1034,1035,1036,1037,1038,1040,1041,1045,1049,1051,1052,1054,1055,1056,1057,1058,1059,1062,1063,1064,1065,1069,1070,1073,1078,1079,1080,1081,1082,1083,1084,1085,1086,1090,1094,1096,1097,1099,1100,1104,1105,1106,1107,1108,1109,1111) have mixed types. Specify dtype option on import or set low_memory=False.\n",
      "  interactivity=interactivity, compiler=compiler, result=result)\n"
     ]
    }
   ],
   "source": [
    "units = pd.read_csv(\"../data/510049986/raw_data.csv\", encoding=\"windows-1252\", index_col=0)"
   ]
  },
  {
   "cell_type": "markdown",
   "metadata": {},
   "source": [
    "Remove deprecated units."
   ]
  },
  {
   "cell_type": "code",
   "execution_count": 5,
   "metadata": {
    "collapsed": true
   },
   "outputs": [],
   "source": [
    "units = units[~units.apply(lambda srs: 'Deprec!' in srs['NameInMenu'], axis='columns')]\n",
    "units = units[~units.apply(lambda srs: 'DEPRECATED' in srs['NameInMenu'], axis='columns')]"
   ]
  },
  {
   "cell_type": "markdown",
   "metadata": {},
   "source": [
    "Merge weapons on."
   ]
  },
  {
   "cell_type": "code",
   "execution_count": 6,
   "metadata": {
    "collapsed": false
   },
   "outputs": [],
   "source": [
    "units = units.drop([c for c in units.columns if 'Weapon' in c], axis=1).join(weapons)"
   ]
  },
  {
   "cell_type": "code",
   "execution_count": 7,
   "metadata": {
    "collapsed": true
   },
   "outputs": [],
   "source": [
    "decks = {\n",
    "    '8BD43C9757360E00': 'Mechanized',\n",
    "    '5C76718B57360E00': 'Armored',\n",
    "    '5E767965E3000000': 'Motorized',\n",
    "    'DAD77965E3000000': 'Support',\n",
    "    '23B8605ED9380000': 'Marine',\n",
    "    '0BB7685ED9380000': 'Airborne'\n",
    "}\n",
    "\n",
    "deck_types = units['UnitTypeTokens'].map(eval).map(lambda l: [decks[i] for i in l])\n",
    "units['MechanizedDeck'] = deck_types.map(lambda t: 'Mechanized' in t)\n",
    "units['ArmoredDeck'] = deck_types.map(lambda t: 'Armored' in t)\n",
    "units['MotorizedDeck'] = deck_types.map(lambda t: 'Motorized' in t)\n",
    "units['SupportDeck'] = deck_types.map(lambda t: 'Support' in t)\n",
    "units['MarineDeck'] = deck_types.map(lambda t: 'Marine' in t)\n",
    "units['AirborneDeck'] = deck_types.map(lambda t: 'Airborne' in t)"
   ]
  },
  {
   "cell_type": "code",
   "execution_count": 8,
   "metadata": {
    "collapsed": true
   },
   "outputs": [],
   "source": [
    "movers = {\n",
    "    1: 'Foot',\n",
    "    2: 'Wheeled',\n",
    "    3: 'Wheeled',\n",
    "    5: 'Tracked',\n",
    "    6: 'Air',\n",
    "    7: 'Wheeled',\n",
    "    8: 'Tracked',\n",
    "    9: 'Water'\n",
    "}\n",
    "amphib = {\n",
    "    1: False,\n",
    "    2: False,\n",
    "    3: False,\n",
    "    5: False,\n",
    "    6: np.nan,\n",
    "    7: True,\n",
    "    8: True,\n",
    "    9: np.nan\n",
    "}\n",
    "\n",
    "units['MovementType'] = units['UnitMovingType'].map(movers)\n",
    "units['Amphibious'] = units['UnitMovingType'].map(amphib)"
   ]
  },
  {
   "cell_type": "code",
   "execution_count": 9,
   "metadata": {
    "collapsed": true
   },
   "outputs": [],
   "source": [
    "training = {\n",
    "    '8F37594F19619C07' : 'Elite',\n",
    "    '5593495D19619C07' : 'Shock',\n",
    "    'D6173D5C19619C07' : 'Regular',\n",
    "    'DE644D5719619C07' : 'Militia',\n",
    "    'null': np.nan\n",
    "}\n",
    "\n",
    "units['Training'] = units['Training'].map(training)"
   ]
  },
  {
   "cell_type": "code",
   "execution_count": 10,
   "metadata": {
    "collapsed": true
   },
   "outputs": [],
   "source": [
    "ciws = {\n",
    "    '4F233E0000000000': 'Exceptional',\n",
    "    '4E96452000000000': 'Very Good',\n",
    "    '4E96450000000000': 'Good',\n",
    "    'D672711906000000': 'Medium',\n",
    "    'CEC2000000000000': 'Bad',\n",
    "    'null': np.nan\n",
    "}\n",
    "\n",
    "units['CIWS'] = units['CIWS'].map(ciws)"
   ]
  },
  {
   "cell_type": "code",
   "execution_count": 11,
   "metadata": {
    "collapsed": true
   },
   "outputs": [],
   "source": [
    "sailing = {\n",
    "    'CBD32D65B4780000': 'Deep Sea',\n",
    "    'CBD33165B4780000': 'Coastal',\n",
    "    'CBD33565B4780000': 'Riverine',\n",
    "    'null': np.nan\n",
    "}\n",
    "units['Sailing'] = units['Sailing'].map(sailing)"
   ]
  },
  {
   "cell_type": "code",
   "execution_count": 12,
   "metadata": {
    "collapsed": false
   },
   "outputs": [],
   "source": [
    "units['HitRollSizeModifier'] = units['HitRollSizeModifier'].map(lambda v: float(v) if v != \"null\" else np.nan)"
   ]
  },
  {
   "cell_type": "code",
   "execution_count": 13,
   "metadata": {
    "collapsed": false
   },
   "outputs": [],
   "source": [
    "mother_country = {\n",
    "    'US': 'United States',\n",
    "    'UK': 'United Kingdom',\n",
    "    'FR': 'France',\n",
    "    'RFA': 'West Germany',\n",
    "    'CAN': 'Canada',\n",
    "    'SWE': 'Sweden',\n",
    "    'NOR': 'Norway',\n",
    "    'DAN': 'Denmark',\n",
    "    'ANZ': 'ANZAC',\n",
    "    'JAP': 'Japan',\n",
    "    'ROK': 'South Korea',\n",
    "    'ISR': 'Israel',\n",
    "    'HOL': 'The Netherlands',\n",
    "    'URSS': 'Soviet Union',\n",
    "    'RDA': 'East Germany',\n",
    "    'TCH': 'Czechoslavakia',\n",
    "    'POL': 'Poland',\n",
    "    'CHI': 'China',\n",
    "    'NK': 'North Korea'\n",
    "}\n",
    "\n",
    "units['MotherCountry'] = units['MotherCountry'].map(mother_country)"
   ]
  },
  {
   "cell_type": "code",
   "execution_count": 14,
   "metadata": {
    "collapsed": false
   },
   "outputs": [],
   "source": [
    "units['ProductionYear'] = units['ProductionYear'].map(lambda v: int(v) if v != \"null\" else np.nan)"
   ]
  },
  {
   "cell_type": "code",
   "execution_count": 15,
   "metadata": {
    "collapsed": false
   },
   "outputs": [],
   "source": [
    "units['MaxPacks'] = units['MaxPacks'].map(lambda v: int(v) if v != \"null\" else np.nan)"
   ]
  },
  {
   "cell_type": "code",
   "execution_count": 16,
   "metadata": {
    "collapsed": false
   },
   "outputs": [],
   "source": [
    "tab = {\n",
    "    3: 'LOG',\n",
    "    6: 'INF',\n",
    "    7: 'PLA',\n",
    "    8: 'VHC',\n",
    "    9: 'TNK',\n",
    "    10: 'REC',\n",
    "    11: 'HEL',\n",
    "    12: 'SHP',\n",
    "    13: 'SUP',\n",
    "    \"null\": np.nan\n",
    "}\n",
    "units['Tab'] = units['Factory'].map(tab)"
   ]
  },
  {
   "cell_type": "code",
   "execution_count": 17,
   "metadata": {
    "collapsed": false
   },
   "outputs": [],
   "source": [
    "units['ProductionPrice'] = units['ProductionPrice'].map(lambda l: eval(l)[0] if len(eval(l)) > 0 else np.nan)"
   ]
  },
  {
   "cell_type": "code",
   "execution_count": 18,
   "metadata": {
    "collapsed": false,
    "scrolled": true
   },
   "outputs": [],
   "source": [
    "units['IsPrototype'] = units['IsPrototype'].map(lambda v: True if v == \"True\" else False)"
   ]
  },
  {
   "cell_type": "code",
   "execution_count": 19,
   "metadata": {
    "collapsed": false
   },
   "outputs": [],
   "source": [
    "units['HitRollECMModifier'] = units['HitRollECMModifier'].map(lambda v: float(v) if v != \"null\" else np.nan)"
   ]
  },
  {
   "cell_type": "code",
   "execution_count": 20,
   "metadata": {
    "collapsed": false
   },
   "outputs": [],
   "source": [
    "units['Maxspeed'] = units['Maxspeed'] / 52\n",
    "units['MaxSpeed'] = units['Maxspeed']\n",
    "del units['Maxspeed']"
   ]
  },
  {
   "cell_type": "code",
   "execution_count": 21,
   "metadata": {
    "collapsed": false
   },
   "outputs": [],
   "source": [
    "units = units.rename(columns={'TempsDemiTour': 'TimeHalfTurn'})"
   ]
  },
  {
   "cell_type": "code",
   "execution_count": 22,
   "metadata": {
    "collapsed": false
   },
   "outputs": [],
   "source": [
    "units = units.drop(['_ShortDatabaseName', 'StickToGround', 'ManageUnitOrientation',\n",
    "            'IconeType', 'PositionInMenu', 'NameInMenuToken', 'AliasName', 'Category',\n",
    "            'AcknowUnitType', 'TypeForAcknow', 'Nationalite', 'Factory',\n",
    "            'CoutEtoile', 'UnitTypeTokens', 'UnitMovingType', 'Key',\n",
    "            'TypeUnitValue', 'UnitInfoJaugeType',\n",
    "            'SpeedBonusOnRoad', 'VehicleSubType', 'TerrainsToIgnoreMask',\n",
    "            'DeploymentDuration', 'WithdrawalDuration', \n",
    "            ], axis='columns')"
   ]
  },
  {
   "cell_type": "code",
   "execution_count": 23,
   "metadata": {
    "collapsed": false
   },
   "outputs": [],
   "source": [
    "deployables = units['MaxDeployableAmount'].map(lambda l: [int(v) for v in eval(l)])\n",
    "units['RookieDeployableAmount'] = [d[0] for d in deployables]\n",
    "units['TrainedDeployableAmount'] = [d[1] for d in deployables]\n",
    "units['HardenedDeployableAmount'] = [d[2] for d in deployables]\n",
    "units['VeteranDeployableAmount'] = [d[3] for d in deployables]\n",
    "units['EliteDeployableAmount'] = [d[4] for d in deployables]"
   ]
  },
  {
   "cell_type": "code",
   "execution_count": 24,
   "metadata": {
    "collapsed": false
   },
   "outputs": [],
   "source": [
    "units['UnitStealthBonus'] = units['UnitStealthBonus'].map(lambda v: float(v) if v != \"null\" else np.nan)"
   ]
  },
  {
   "cell_type": "code",
   "execution_count": 25,
   "metadata": {
    "collapsed": false
   },
   "outputs": [],
   "source": [
    "units['AutoOrientation'] = units['AutoOrientation'].map(lambda v: True if v != \"null\" else False)"
   ]
  },
  {
   "cell_type": "code",
   "execution_count": 26,
   "metadata": {
    "collapsed": false
   },
   "outputs": [],
   "source": [
    "def splash(v):\n",
    "    return True if 1 <= v <= 4 else False\n",
    "\n",
    "units['ArmorFrontSplashResistant'] = units['ArmorFront'].map(splash)\n",
    "units['ArmorSidesSplashResistant'] = units['ArmorSides'].map(splash)\n",
    "units['ArmorRearSplashResistant'] = units['ArmorRear'].map(splash)\n",
    "units['ArmorTopSplashResistant'] = units['ArmorTop'].map(splash)"
   ]
  },
  {
   "cell_type": "code",
   "execution_count": 27,
   "metadata": {
    "collapsed": false
   },
   "outputs": [],
   "source": [
    "av = lambda v: v if v <= 4 else v - 4\n",
    "    \n",
    "units['ArmorFront'] = units['ArmorFront'].map(av)\n",
    "units['ArmorSides'] = units['ArmorSides'].map(av)\n",
    "units['ArmorRear'] = units['ArmorRear'].map(av)\n",
    "units['ArmorTop'] = units['ArmorTop'].map(av)"
   ]
  },
  {
   "cell_type": "code",
   "execution_count": 28,
   "metadata": {
    "collapsed": false
   },
   "outputs": [],
   "source": [
    "units['CanWinExperience'] = units['CanWinExperience'].map(lambda v: True if v != \"null\" else False)"
   ]
  },
  {
   "cell_type": "code",
   "execution_count": 29,
   "metadata": {
    "collapsed": true
   },
   "outputs": [],
   "source": [
    "units['IsCommandUnit'] = units['IsCommandUnit'].map(lambda v: True if v != \"null\" else False)"
   ]
  },
  {
   "cell_type": "code",
   "execution_count": 30,
   "metadata": {
    "collapsed": true
   },
   "outputs": [],
   "source": [
    "units['IsShip'] = units['IsTargetableAsBoat'].map(lambda v: True if v != \"null\" else False)\n",
    "units = units.drop(['IsTargetableAsBoat'], axis='columns')"
   ]
  },
  {
   "cell_type": "code",
   "execution_count": 31,
   "metadata": {
    "collapsed": true
   },
   "outputs": [],
   "source": [
    "del units['CanWinExperience']\n",
    "del units['ExperienceGainBySecond']\n",
    "del units['GunMuzzleSpeed']\n",
    "del units['MaxDeployableAmount']\n",
    "del units['PaliersPhysicalDamages']\n",
    "del units['PaliersSuppressDamages']\n",
    "del units['ShowInMenu']\n",
    "del units['SuppressDamagesRegenRatioOutOfRange']\n",
    "del units['VitesseCombat']"
   ]
  },
  {
   "cell_type": "code",
   "execution_count": 32,
   "metadata": {
    "collapsed": true
   },
   "outputs": [],
   "source": [
    "i = 10"
   ]
  },
  {
   "cell_type": "code",
   "execution_count": 33,
   "metadata": {
    "collapsed": true
   },
   "outputs": [],
   "source": [
    "for col in ['DeathExplosionRadiusSplashSuppressDamages', 'DetectionTBA']:\n",
    "    pass"
   ]
  },
  {
   "cell_type": "code",
   "execution_count": 34,
   "metadata": {
    "collapsed": false
   },
   "outputs": [],
   "source": [
    "units['LowAltitudeFlyingAltitude']= units['LowAltitudeFlyingAltitude'].map(lambda v: int(v) / 52 if v != \"null\" else np.nan)"
   ]
  },
  {
   "cell_type": "code",
   "execution_count": 35,
   "metadata": {
    "collapsed": true
   },
   "outputs": [],
   "source": [
    "units['NearGroundFlyingAltitude'] = units['NearGroundFlyingAltitude'].map(lambda v: int(v) / 52 if v != \"null\" else np.nan)"
   ]
  },
  {
   "cell_type": "code",
   "execution_count": 36,
   "metadata": {
    "collapsed": true
   },
   "outputs": [],
   "source": [
    "units = units.rename(columns={'LowAltitudeFlyingAltitude': 'HelicopterFlyingAltitude',\n",
    "                              'NearGroundFlyingAltitude': 'HelicopterHoverAltitude'})"
   ]
  },
  {
   "cell_type": "code",
   "execution_count": 37,
   "metadata": {
    "collapsed": false
   },
   "outputs": [],
   "source": [
    "units['MinimalAltitude'] = units['MinimalAltitude'] / 52"
   ]
  },
  {
   "cell_type": "code",
   "execution_count": 38,
   "metadata": {
    "collapsed": true
   },
   "outputs": [],
   "source": [
    "units = units.rename(columns={'MinimalAltitude': 'AirplaneMinimalAltitude'})"
   ]
  },
  {
   "cell_type": "code",
   "execution_count": 39,
   "metadata": {
    "collapsed": false
   },
   "outputs": [],
   "source": [
    "units = units.rename(columns={'MaxDamages': 'Strength'})"
   ]
  },
  {
   "cell_type": "code",
   "execution_count": 40,
   "metadata": {
    "collapsed": true
   },
   "outputs": [],
   "source": [
    "units = units.rename(columns={'MaxSuppressionDamages': 'SuppressionCeiling'})"
   ]
  },
  {
   "cell_type": "code",
   "execution_count": 41,
   "metadata": {
    "collapsed": false
   },
   "outputs": [],
   "source": [
    "units['OpticalStrengthAntiradar'] = units['OpticalStrengthAntiradar'].map(lambda v: int(v) if v != \"null\" else np.nan)"
   ]
  },
  {
   "cell_type": "code",
   "execution_count": 42,
   "metadata": {
    "collapsed": true
   },
   "outputs": [],
   "source": [
    "units['PorteeVisionTBA'] = units['PorteeVisionTBA'].map(lambda v: int(v) if v != \"null\" else np.nan)"
   ]
  },
  {
   "cell_type": "code",
   "execution_count": 43,
   "metadata": {
    "collapsed": true
   },
   "outputs": [],
   "source": [
    "units = units.rename(columns={'ProductionPrice': 'Price'})\n",
    "units = units.rename(columns={'ProductionYear': 'Year'})"
   ]
  },
  {
   "cell_type": "code",
   "execution_count": 44,
   "metadata": {
    "collapsed": true
   },
   "outputs": [],
   "source": [
    "units = units.rename(columns={'StunDamagesRegen': 'StunDamageRegen', 'StunDamagesToGetStunned': 'StunDamageToGetStunned'})"
   ]
  },
  {
   "cell_type": "code",
   "execution_count": 45,
   "metadata": {
    "collapsed": false
   },
   "outputs": [],
   "source": [
    "units['IsTransporter']= units['Transporter'].map(lambda v: True if v != \"null\" else False)\n",
    "del units['Transporter']"
   ]
  },
  {
   "cell_type": "code",
   "execution_count": 46,
   "metadata": {
    "collapsed": true
   },
   "outputs": [],
   "source": [
    "units = units.rename(columns={'UnitStealthBonus': 'Stealth'})"
   ]
  },
  {
   "cell_type": "code",
   "execution_count": 47,
   "metadata": {
    "collapsed": true
   },
   "outputs": [],
   "source": [
    "units = units.rename(columns={'UpgradeRequired': 'Upgrade'})"
   ]
  },
  {
   "cell_type": "code",
   "execution_count": 48,
   "metadata": {
    "collapsed": true
   },
   "outputs": [],
   "source": [
    "def upgradify(srs):\n",
    "    # print(srs['Upgrade'])\n",
    "    if pd.isnull(srs['Upgrade']):\n",
    "        return [srs['ID']]\n",
    "    else:\n",
    "        return [srs['ID']] + upgradify(units.query('ID == {0}'.format(srs['Upgrade'])).iloc[0])"
   ]
  },
  {
   "cell_type": "code",
   "execution_count": 49,
   "metadata": {
    "collapsed": false
   },
   "outputs": [],
   "source": [
    "all_upgrade_paths = np.unique(units.apply(upgradify, axis='columns').values)\n",
    "all_upgrade_paths_sorted = sorted([sorted(l, reverse=False) for l in all_upgrade_paths], reverse=False)"
   ]
  },
  {
   "cell_type": "code",
   "execution_count": 50,
   "metadata": {
    "collapsed": false
   },
   "outputs": [],
   "source": [
    "all_full_paths = []\n",
    "for i in range(len(all_upgrade_paths_sorted) - 1):\n",
    "    if all_upgrade_paths_sorted[i] == []:\n",
    "        pass\n",
    "    else:\n",
    "        flag = True\n",
    "        for sublist in all_upgrade_paths_sorted[:i] + all_upgrade_paths_sorted[i + 1:]:\n",
    "            if len(set(all_upgrade_paths_sorted[i]).intersection(set(sublist))) == len(set(all_upgrade_paths_sorted[i])):\n",
    "                flag = False\n",
    "                break\n",
    "        if flag:\n",
    "            all_full_paths.append(all_upgrade_paths_sorted[i])"
   ]
  },
  {
   "cell_type": "code",
   "execution_count": 51,
   "metadata": {
    "collapsed": true
   },
   "outputs": [],
   "source": [
    "upgrade_paths_lookup = dict()\n",
    "for l in all_full_paths:\n",
    "    for e in l:\n",
    "        upgrade_paths_lookup[e] = l"
   ]
  },
  {
   "cell_type": "code",
   "execution_count": 52,
   "metadata": {
    "collapsed": false,
    "scrolled": false
   },
   "outputs": [],
   "source": [
    "import itertools\n",
    "\n",
    "def transporterify(srs):\n",
    "    ret = srs.copy()\n",
    "    ind = 0\n",
    "    if isinstance(ret['Transporters'], str):\n",
    "        transporters = [int(v) for v in eval(ret['Transporters'])]\n",
    "        ret['Transporters'] = list(itertools.chain.from_iterable([upgrade_paths_lookup[v] for v in transporters]))\n",
    "        for i in range(len(ret['Transporters'])):\n",
    "            ret['Transporter{0}ID'.format(i + 1)] = ret['Transporters'][i]\n",
    "    return ret"
   ]
  },
  {
   "cell_type": "code",
   "execution_count": 53,
   "metadata": {
    "collapsed": false
   },
   "outputs": [],
   "source": [
    "units = units.apply(transporterify, axis='columns')"
   ]
  },
  {
   "cell_type": "code",
   "execution_count": 54,
   "metadata": {
    "collapsed": true
   },
   "outputs": [],
   "source": [
    "def upgradesto(uid):\n",
    "    try:\n",
    "        upgrade_set = upgrade_paths_lookup[uid]\n",
    "        for luid in [e for e in upgrade_set if e != uid]:\n",
    "            if units.query(\"ID == {0}\".format(luid)).iloc[0]['Upgrade'] == uid:\n",
    "                return luid\n",
    "    except:\n",
    "        pass"
   ]
  },
  {
   "cell_type": "code",
   "execution_count": 55,
   "metadata": {
    "collapsed": false
   },
   "outputs": [],
   "source": [
    "units['UpgradeTo'] = units['ID'].apply(upgradesto)\n",
    "units = units.rename(columns={'Upgrade': 'UpgradeFrom'})"
   ]
  },
  {
   "cell_type": "code",
   "execution_count": 56,
   "metadata": {
    "collapsed": false
   },
   "outputs": [],
   "source": [
    "del units['DeathExplosionArme']\n",
    "del units['DeathExplosionRadiusSplashPhysicalDamages']\n",
    "del units['DeathExplosionRadiusSplashSuppressDamages']\n",
    "del units['DeathExplosionSuppressDamages']\n",
    "del units['DeathExplosionID']"
   ]
  },
  {
   "cell_type": "code",
   "execution_count": 57,
   "metadata": {
    "collapsed": false
   },
   "outputs": [],
   "source": [
    "units['DetectionTBA'] = units['DetectionTBA'].map(lambda v: v / 52)\n",
    "units = units.rename(columns={'DetectionTBA': 'HelicopterDetectionRadius'})"
   ]
  },
  {
   "cell_type": "code",
   "execution_count": 58,
   "metadata": {
    "collapsed": false
   },
   "outputs": [],
   "source": [
    "units = units.rename(columns={'FuelMoveDuration': 'Autonomy'})"
   ]
  },
  {
   "cell_type": "code",
   "execution_count": 59,
   "metadata": {
    "collapsed": true
   },
   "outputs": [],
   "source": [
    "i = 0"
   ]
  },
  {
   "cell_type": "code",
   "execution_count": 60,
   "metadata": {
    "collapsed": false
   },
   "outputs": [],
   "source": [
    "units['FlyingAltitude'] = units['FlyingAltitude'] / 52"
   ]
  },
  {
   "cell_type": "code",
   "execution_count": 61,
   "metadata": {
    "collapsed": true
   },
   "outputs": [],
   "source": [
    "units = units.rename(columns={'FlyingAltitude': 'AirplaneFlyingAltitude'})"
   ]
  },
  {
   "cell_type": "code",
   "execution_count": 62,
   "metadata": {
    "collapsed": true
   },
   "outputs": [],
   "source": [
    "units['HelicopterFlyingAltitude'] = units['HelicopterFlyingAltitude'].map(lambda v: v if v == 150.0 else np.nan)"
   ]
  },
  {
   "cell_type": "code",
   "execution_count": 63,
   "metadata": {
    "collapsed": false
   },
   "outputs": [
    {
     "data": {
      "text/plain": [
       "1250.0    78\n",
       "1000.0    67\n",
       "500.0     51\n",
       "750.0     26\n",
       "1500.0     7\n",
       "Name: AirplaneFlyingAltitude, dtype: int64"
      ]
     },
     "execution_count": 63,
     "metadata": {},
     "output_type": "execute_result"
    }
   ],
   "source": [
    "units['AirplaneFlyingAltitude'].value_counts()"
   ]
  },
  {
   "cell_type": "code",
   "execution_count": 64,
   "metadata": {
    "collapsed": false
   },
   "outputs": [
    {
     "data": {
      "text/plain": [
       "1433    HKP 6A #reco2\n",
       "Name: NameInMenu, dtype: object"
      ]
     },
     "execution_count": 64,
     "metadata": {},
     "output_type": "execute_result"
    }
   ],
   "source": [
    "units[units['HelicopterHoverAltitude'] == 12.5]['NameInMenu']"
   ]
  },
  {
   "cell_type": "code",
   "execution_count": 65,
   "metadata": {
    "collapsed": false
   },
   "outputs": [],
   "source": [
    "units['MaxAcceleration'] = units['MaxAcceleration'] / 52"
   ]
  },
  {
   "cell_type": "code",
   "execution_count": 66,
   "metadata": {
    "collapsed": true
   },
   "outputs": [],
   "source": [
    "units['MaxDeceleration'] = units['MaxAcceleration'] / 52"
   ]
  },
  {
   "cell_type": "code",
   "execution_count": 67,
   "metadata": {
    "collapsed": true
   },
   "outputs": [],
   "source": [
    "del units['KillExperienceBonus']"
   ]
  },
  {
   "cell_type": "code",
   "execution_count": 68,
   "metadata": {
    "collapsed": true
   },
   "outputs": [],
   "source": [
    "units = units.rename(columns={'OpticalStrength': 'OpticalStrengthGround'})"
   ]
  },
  {
   "cell_type": "code",
   "execution_count": 69,
   "metadata": {
    "collapsed": false,
    "scrolled": true
   },
   "outputs": [],
   "source": [
    "units['PorteeVision'] = units['PorteeVision'] / 52"
   ]
  },
  {
   "cell_type": "code",
   "execution_count": 70,
   "metadata": {
    "collapsed": true
   },
   "outputs": [],
   "source": [
    "units = units.rename(columns={'PoteeVision': 'GroundDetectionRadius'})"
   ]
  },
  {
   "cell_type": "code",
   "execution_count": 71,
   "metadata": {
    "collapsed": false
   },
   "outputs": [],
   "source": [
    "units['PorteeVisionTBA'] = units['PorteeVisionTBA'] / 52\n",
    "units = units.rename(columns={'PorteeVisionTBA': 'AirToAirHelicopterDetectionRadius'})"
   ]
  },
  {
   "cell_type": "code",
   "execution_count": 72,
   "metadata": {
    "collapsed": false
   },
   "outputs": [],
   "source": [
    "units['UpwardSpeed'] = units['UpwardSpeed'] / 52"
   ]
  },
  {
   "cell_type": "code",
   "execution_count": 73,
   "metadata": {
    "collapsed": false
   },
   "outputs": [],
   "source": [
    "del units['Transporters']"
   ]
  },
  {
   "cell_type": "code",
   "execution_count": 74,
   "metadata": {
    "collapsed": false
   },
   "outputs": [],
   "source": [
    "units = units.rename(columns={'OpticalStrengthAltitude': 'OpticalStrengthAir'})"
   ]
  },
  {
   "cell_type": "code",
   "execution_count": 75,
   "metadata": {
    "collapsed": false
   },
   "outputs": [],
   "source": [
    "def recon(v):\n",
    "    if \"#reco1\" in v:\n",
    "        return \"Good\"\n",
    "    elif \"reco2\" in v:\n",
    "        return \"Very Good\"\n",
    "    elif \"reco3\" in v:\n",
    "        return \"Exceptional\"\n",
    "    else:\n",
    "        return np.nan"
   ]
  },
  {
   "cell_type": "code",
   "execution_count": 76,
   "metadata": {
    "collapsed": true
   },
   "outputs": [],
   "source": [
    "units['Optics'] = units['NameInMenu'].map(recon)\n",
    "units['NameInMenu'] = units['NameInMenu'].map(lambda n: n.replace(\"#command \", \"\")\\\n",
    "                                              .replace(\"#reco1\", \"\")\\\n",
    "                                              .replace(\"#reco2\", \"\")\\\n",
    "                                              .replace(\"#reco3\", \"\")\\\n",
    "                                              .strip())"
   ]
  },
  {
   "cell_type": "code",
   "execution_count": 77,
   "metadata": {
    "collapsed": false
   },
   "outputs": [],
   "source": [
    "hashes = pd.read_csv(\"../raws/510053208/ZZ_Win/pc/localisation/us/localisation/unites_fixed.csv\", \n",
    "                     encoding='windows-1252', index_col=0)"
   ]
  },
  {
   "cell_type": "code",
   "execution_count": 78,
   "metadata": {
    "collapsed": false,
    "scrolled": true
   },
   "outputs": [],
   "source": [
    "def hashquery(uhash):\n",
    "    if pd.notnull(uhash):\n",
    "        return hashes.query(\"Hash == '{0}'\".format(uhash)).iloc[0]['String']\n",
    "    else:\n",
    "        return np.nan"
   ]
  },
  {
   "cell_type": "code",
   "execution_count": 79,
   "metadata": {
    "collapsed": false
   },
   "outputs": [],
   "source": [
    "for i in range(1, 12):\n",
    "    units['Weapon{0}Name'.format(i)] = units['Weapon{0}Name'.format(i)].map(hashquery)\n",
    "    units['Weapon{0}TypeArme'.format(i)] = units['Weapon{0}TypeArme'.format(i)].map(hashquery)\n",
    "    units['Weapon{0}Caliber'.format(i)] = units['Weapon{0}Caliber'.format(i)].map(hashquery)"
   ]
  },
  {
   "cell_type": "code",
   "execution_count": 80,
   "metadata": {
    "collapsed": false
   },
   "outputs": [],
   "source": [
    "# Unfortunately our hash cut off the \",\" in 5,45mm rounds and 7,62mm rounds, both valid calibers. We can fix this manually.\n",
    "# And others.\n",
    "def fixmgcaliber(c):\n",
    "    if str(c) == \"7\":\n",
    "        return \"7,62mm\"\n",
    "    elif str(c) == \"5\":\n",
    "        return \"5,45mm\"\n",
    "    elif str(c) == \"12\":\n",
    "        return \"12,7mm\"\n",
    "    elif str(c) == \"14\":\n",
    "        return \"14,5mm\"\n",
    "    elif str(c) == \"4\":\n",
    "        return \"4,73mm\"\n",
    "    elif str(c) == \"6\":\n",
    "        return \"6,5mm\"\n",
    "    elif str(c) == \"7\":\n",
    "        return \"72,5mm\"\n",
    "    else:\n",
    "        return c\n",
    "\n",
    "for i in range(1, 12):\n",
    "     units['Weapon{0}Caliber'.format(i)] = units['Weapon{0}Caliber'.format(i)].map(fixmgcaliber)"
   ]
  },
  {
   "cell_type": "code",
   "execution_count": 81,
   "metadata": {
    "collapsed": false
   },
   "outputs": [],
   "source": [
    "def weaponify(srs):\n",
    "    ret = pd.Series()\n",
    "    for wi in [i for i in range(1, 12) if pd.notnull(srs['Weapon{0}Name'.format(i)])]:\n",
    "        fragment = \"Weapon{0}\".format(wi)\n",
    "        ret[fragment + 'Tags'] = []\n",
    "        arme = srs[fragment + 'Arme']\n",
    "        arme = float(arme) if arme != \"null\" else np.nan\n",
    "        type_arme = srs[fragment + 'TypeArme']\n",
    "        physical = srs[fragment + 'PhysicalDamages']\n",
    "        physical = float(physical) if physical != \"null\" else np.nan\n",
    "        # Determine AP.\n",
    "        if arme < 3 or arme == \"null\":\n",
    "            ret[fragment + 'AP'] = np.nan\n",
    "        elif arme == 3:\n",
    "            if type_arme not in ['Rocket Launcher', 'HMG', 'MMG', 'Flamethrower'] and 'Bomb' not in type_arme:\n",
    "                ret[fragment + 'Tags'] = ret[fragment + 'Tags'] + ['AoE']\n",
    "            ret[fragment + 'AP'] = np.nan            \n",
    "        elif arme == 4:\n",
    "            ret[fragment + 'AP'] = np.nan\n",
    "        elif type_arme == \"SSM\":\n",
    "            ret[fragment + 'AP'] = (arme - 34) * physical\n",
    "            ret[fragment + 'Tags'] = ret[fragment + 'Tags'] + ['HEAT']\n",
    "        elif 5 <= arme <= 34:\n",
    "            ret[fragment + 'AP'] = arme - 4\n",
    "            ret[fragment + 'Tags'] = ret[fragment + 'Tags'] + ['KE']\n",
    "            if type_arme not in ['Rocket Launcher', 'HMG', 'MMG', 'Flamethrower'] and 'Bomb' not in type_arme:\n",
    "                ret[fragment + 'Tags'] = ret[fragment + 'Tags'] + ['AoE']\n",
    "        elif 35 <= arme <= 65:\n",
    "            ret[fragment + 'AP'] = arme - 34\n",
    "            ret[fragment + 'Tags'] = ret[fragment + 'Tags'] + ['HEAT']\n",
    "            if type_arme in ['Autocannon', 'Main Gun']:  # Thunderbolt, AMX-30, etc.\n",
    "                ret[fragment + 'Tags'] = ret[fragment + 'Tags'] + ['AoE']                \n",
    "        \n",
    "        # Determine HE.\n",
    "        if physical == \"null\":\n",
    "            ret[fragment + 'HE'] = np.nan\n",
    "        else:\n",
    "            ret[fragment + 'HE'] = physical\n",
    "        \n",
    "        # Conversions\n",
    "        for c in ['RadiusSplashPhysicalDamages', 'Puissance', 'TempsEntreDeuxTirs', 'TempsEntreDeuxSalves',\n",
    "                  'NbrProjectilesSimultanes', 'NbTirParSalves', 'RadiusSplashSuppressDamages', 'TempsDeVisee',\n",
    "                  'DispersionAtMaxRange', 'DispersionAtMinRange', 'CorrectedShotDispersionMultiplier']:\n",
    "            if srs[fragment + c] == \"null\":\n",
    "                srs[fragment + c] = np.nan\n",
    "            else:\n",
    "                srs[fragment + c] = float(srs[fragment + c])\n",
    "        for c in [c for c in ['MissileMaxSpeed', 'MissileMaxAcceleration'] if fragment + c in srs.index]:\n",
    "            if srs[fragment + c] == \"null\":\n",
    "                srs[fragment + c] = np.nan\n",
    "            else:\n",
    "                srs[fragment + c] = float(srs[fragment + c])\n",
    "            ret[fragment + c] = srs[fragment + c] / 52\n",
    "            ret[fragment + c] = srs[fragment + c] / 52\n",
    "                \n",
    "        ret[fragment + 'RadiusSplashPhysicalDamage'] = srs[fragment + 'RadiusSplashPhysicalDamages'] * 175 / 13000\n",
    "        ret[fragment + 'Noise'] = srs[fragment + 'Puissance']\n",
    "        ret[fragment + 'TimeBetweenShots'] = srs[fragment + 'TempsEntreDeuxTirs']\n",
    "        ret[fragment + 'TimeBetweenSalvos'] = srs[fragment + 'TempsEntreDeuxSalves']\n",
    "        ret[fragment + 'ProjectilesPerShot'] = srs[fragment + 'NbrProjectilesSimultanes']\n",
    "        ret[fragment + 'ShotsPerSalvo'] = srs[fragment + 'NbTirParSalves']\n",
    "        ret[fragment + 'RadiusSplashSuppressDamage'] = srs[fragment + 'RadiusSplashSuppressDamages'] * 175 / 13000\n",
    "        ret[fragment + 'AimTime'] = srs[fragment + 'TempsDeVisee']\n",
    "        ret[fragment + 'DispersionAtMaxRange'] = srs[fragment + 'DispersionAtMaxRange'] * 175 / 13000\n",
    "        ret[fragment + 'DispersionAtMinRange'] = srs[fragment + 'DispersionAtMinRange'] * 175 / 13000\n",
    "        \n",
    "        # Distance convesions\n",
    "        for c in ['PorteeMaximale', 'PorteeMinimale', 'PorteeMinimaleBateaux', 'PorteeMaximaleBateaux',\n",
    "                  'PorteeMaximaleTBA', 'PorteeMinimaleTBA', 'PorteeMinimaleHA', 'PorteeMaximaleHA',\n",
    "                  'PorteeMaximaleProjectile', \"PorteeMinimaleProjectile\"]:\n",
    "            if srs[fragment + c] == \"null\":\n",
    "                srs[fragment + c] = np.nan\n",
    "            else:\n",
    "                srs[fragment + c] = float(srs[fragment + c])\n",
    "        ret[fragment + 'RangeGround'] = srs[fragment + 'PorteeMaximale'] * 175 / 13000\n",
    "        ret[fragment + 'RangeGroundMinimum'] = srs[fragment + 'PorteeMinimale'] * 175 / 13000\n",
    "        ret[fragment + 'RangeShip'] = srs[fragment + 'PorteeMaximaleBateaux'] * 175 / 13000\n",
    "        ret[fragment + 'RangeShipMinimum'] = srs[fragment + 'PorteeMinimaleBateaux'] * 175 / 13000\n",
    "        ret[fragment + 'RangeHelicopters'] = srs[fragment + 'PorteeMaximaleTBA'] * 175 / 13000\n",
    "        ret[fragment + 'RangeHelicoptersMinimum'] = srs[fragment + 'PorteeMinimaleTBA'] * 175 / 13000\n",
    "        ret[fragment + 'RangePlanes'] = srs[fragment + 'PorteeMaximaleHA'] * 175 / 13000\n",
    "        ret[fragment + 'RangePlanesMinimum'] = srs[fragment + 'PorteeMinimaleHA'] * 175 / 13000\n",
    "        ret[fragment + 'RangeMissiles'] = srs[fragment + 'PorteeMaximaleProjectile'] * 175 / 13000\n",
    "        ret[fragment + 'RangeMissilesMinimum'] = srs[fragment + 'PorteeMinimaleProjectile'] * 175 / 13000\n",
    "        \n",
    "        # Level\n",
    "        lvl = srs[fragment + 'Level']\n",
    "        if lvl == \"null\":\n",
    "            ret[fragment + 'PositionOnCard'] = np.nan\n",
    "        else:\n",
    "            ret[fragment + 'PositionOnCard'] = int(lvl)\n",
    "        \n",
    "        # Guidance\n",
    "        guid = srs[fragment + \"Guidance\"]\n",
    "        if str(guid) == '1' and srs['Tab'] != \"PLA\":  # avoid tagging radar missiles on planes.\n",
    "            ret[fragment + 'Tags'] = ret[fragment + 'Tags'] + ['RAD']\n",
    "        if str(guid) == '2':\n",
    "            ret[fragment + 'Tags'] = ret[fragment + 'Tags'] + ['SEAD']\n",
    "        \n",
    "        # Accuracies\n",
    "        for c in ['HitProbability', 'HitProbabilityWhileMoving', 'MinimalCritProbability',\n",
    "                  'MinimalHitProbability']:\n",
    "            if srs[fragment + c] == \"null\":\n",
    "                ret[fragment + c] = np.nan\n",
    "            else:\n",
    "                ret[fragment + c] = srs[fragment + c]\n",
    "        if srs[fragment + 'TirEnMouvement'] == \"null\":\n",
    "            srs[fragment + 'HitProbabilityWhileMoving'] = np.nan\n",
    "            ret[fragment + 'HitProbabilityWhileMoving'] = np.nan\n",
    "        \n",
    "        # Rest of the tags.\n",
    "        if type_arme == \"SAW\":\n",
    "            ret[fragment + 'Tags'] = ret[fragment + 'Tags'] + ['CQC']\n",
    "        if pd.notnull(ret[fragment + 'RangeMissiles']):\n",
    "            ret[fragment + 'Tags'] = ret[fragment + 'Tags'] + ['DEF']\n",
    "        if srs[fragment + 'TirIndirect'] != \"null\" and \"Bomb\" not in srs[fragment + 'TypeArme']:\n",
    "            ret[fragment + 'Tags'] = ret[fragment + 'Tags'] + ['CORR']\n",
    "        if srs[fragment + 'IsFireAndForget'] != \"null\":\n",
    "            ret[fragment + 'Tags'] = ret[fragment + 'Tags'] + ['F&F']\n",
    "        if srs[fragment + 'IgnoreInflammabilityConditions'] != \"null\":\n",
    "            ret[fragment + 'Tags'] = ret[fragment + 'Tags'] + ['NPLM']\n",
    "        if srs[fragment + 'IsSubAmmunition'] != \"null\":\n",
    "            ret[fragment + 'Tags'] = ret[fragment + 'Tags'] + ['CLUS']\n",
    "        if pd.isnull(ret[fragment + 'RangeGround']) and pd.notnull(ret[fragment + 'RangeShip'])\\\n",
    "            and ret[fragment + 'RangeShip'] > 0:\n",
    "            ret[fragment + 'Tags'] = ret[fragment + 'Tags'] + ['SHIP']\n",
    "        # import pdb; pdb.set_trace()\n",
    "        if pd.isnull(srs[fragment + 'HitProbabilityWhileMoving']) and srs[fragment + 'IsFireAndForget'] == \"null\"\\\n",
    "            and pd.notnull(srs[fragment + 'MissileMaxSpeed']):\n",
    "            ret[fragment + 'Tags'] = ret[fragment + 'Tags'] + ['GUID']\n",
    "        elif pd.isnull(srs[fragment + 'HitProbabilityWhileMoving']):\n",
    "            ret[fragment + 'Tags'] = ret[fragment + 'Tags'] + ['STAT']\n",
    "        if srs[fragment + 'TirEnMouvement'] == \"True\" and srs[fragment + 'IsFireAndForget'] == \"null\"\\\n",
    "            and pd.notnull(srs[fragment + 'MissileMaxSpeed']):\n",
    "            ret[fragment + 'Tags'] = ret[fragment + 'Tags'] + ['SA']\n",
    "        if fragment + 'CanSmoke' in srs.index and srs[fragment + 'CanSmoke'] == True:\n",
    "            ret[fragment + 'Tags'] = ret[fragment + 'Tags'] + ['SMK']\n",
    "            \n",
    "        # AoE corrections.\n",
    "        # AoE, it turns out, can only be read off of a unit by checking whether or not the HE component of the weapon\n",
    "        # has an Arme of 3. I \n",
    "        \n",
    "        # TODO: Smoke\n",
    "        # I attached smoke incorrect, it gets associated with the weapon one after the one that actually does smoke.\n",
    "        # Because I attached CanSmoke incorrectly this will have to be done using a far more tedious process.\n",
    "        # It will \n",
    "        \n",
    "        # Classifiers.\n",
    "        ret[fragment + 'Name'] = srs[fragment + 'Name']\n",
    "        ret[fragment + 'Type'] = srs[fragment + 'TypeArme']\n",
    "        ret[fragment + 'Caliber'] = srs[fragment + 'Caliber']\n",
    "\n",
    "        salvo_num = srs[fragment + 'SalvoStockIndex']\n",
    "        salvo_num = int(float(salvo_num)) if salvo_num != \"null\" else 0\n",
    "        number_shots_per_salvo = eval(srs['Salves'])[salvo_num]\n",
    "        ret[fragment + 'NumberOfSalvos'] = int(number_shots_per_salvo)\n",
    "        ret[fragment + 'DisplayedAmmunition'] = srs[fragment + 'AffichageMunitionParSalve'] * ret[fragment + 'NumberOfSalvos']\n",
    "        \n",
    "        # Hidden tags.\n",
    "        if srs[fragment + 'TirIndirect'] != \"null\" and ret[fragment + 'AimTime'] == 10:\n",
    "            ret[fragment + 'Tags'] = ret[fragment + 'Tags'] + ['IFC']\n",
    "        if ret[fragment + 'NumberOfSalvos'] == 1 and type_arme == \"Main Gun\":\n",
    "            ret[fragment + 'Tags'] = ret[fragment + 'Tags'] + ['AL']\n",
    "        \n",
    "        # Direct carry-overs:\n",
    "        for field in [\"AngleDispersion\", \"RayonPinned\", \"FireTriggeringProbability\", \"SupplyCost\",\n",
    "                      \"MissileTimeBetweenCorrections\", \"CorrectedShotDispersionMultiplier\"]:\n",
    "            ret[fragment + field] = srs[fragment + field] if srs[fragment + field] != \"null\" else np.nan\n",
    "        ret[fragment + 'CanSmoke'] = True if fragment + 'CanSmoke' in srs.index else False\n",
    "    return ret"
   ]
  },
  {
   "cell_type": "code",
   "execution_count": 82,
   "metadata": {
    "collapsed": true
   },
   "outputs": [],
   "source": [
    "weaponified = units.apply(weaponify, axis='columns')"
   ]
  },
  {
   "cell_type": "code",
   "execution_count": 83,
   "metadata": {
    "collapsed": false
   },
   "outputs": [],
   "source": [
    "units_weaponified = units[[c for c in units.columns if 'Weapon' not in c]].join(weaponified)"
   ]
  },
  {
   "cell_type": "code",
   "execution_count": 84,
   "metadata": {
    "collapsed": false
   },
   "outputs": [],
   "source": [
    "for i in range(1, 12):\n",
    "    units_weaponified['Weapon{0}Tags'.format(i)] = units_weaponified['Weapon{0}Tags'.format(i)]\\\n",
    "        .map(lambda l: \"|\".join(l) if isinstance(l, list) else np.nan)"
   ]
  },
  {
   "cell_type": "code",
   "execution_count": 85,
   "metadata": {
    "collapsed": false
   },
   "outputs": [],
   "source": [
    "def merge_transporters(srs):\n",
    "    uidl = [srs['Transporter{0}ID'.format(i)] for i in range(1, 14)]\n",
    "    uidl = [str(int(uid)) for uid in uidl if pd.notnull(uid)]\n",
    "    return \"|\".join(uidl)"
   ]
  },
  {
   "cell_type": "code",
   "execution_count": 86,
   "metadata": {
    "collapsed": false
   },
   "outputs": [],
   "source": [
    "units_weaponified['Transporters'] = units_weaponified.apply(merge_transporters, axis='columns')"
   ]
  },
  {
   "cell_type": "code",
   "execution_count": 87,
   "metadata": {
    "collapsed": true
   },
   "outputs": [],
   "source": [
    "for i in range(1, 14):\n",
    "    del units_weaponified['Transporter{0}ID'.format(i)]"
   ]
  },
  {
   "cell_type": "code",
   "execution_count": 88,
   "metadata": {
    "collapsed": false
   },
   "outputs": [],
   "source": [
    "def merge_deck_types(srs):\n",
    "    types = []\n",
    "    for deck in ['Mechanized', 'Motorized', 'Marine', 'Airborne', 'Armored', 'Support']:\n",
    "        if srs[deck + 'Deck'] == True:\n",
    "            types.append(deck)\n",
    "    return \"|\".join(types)"
   ]
  },
  {
   "cell_type": "code",
   "execution_count": 89,
   "metadata": {
    "collapsed": false
   },
   "outputs": [],
   "source": [
    "units_weaponified['Decks'] = units_weaponified.apply(merge_deck_types, axis='columns')"
   ]
  },
  {
   "cell_type": "code",
   "execution_count": 90,
   "metadata": {
    "collapsed": false
   },
   "outputs": [],
   "source": [
    "units_weaponified = units_weaponified.rename(columns={\n",
    "        'NameInMenu': 'Name',\n",
    "        'HitRollECMModifier': 'ECM',\n",
    "        'HitRollSizeModifier': 'SizeModifier',\n",
    "        'HitProbability': 'Accuracy',\n",
    "        'HitProbabilityWhileMoving': 'Stabilizer',\n",
    "        'MinimalHitProbability': 'MinimalAccuracy',\n",
    "    })"
   ]
  },
  {
   "cell_type": "code",
   "execution_count": 91,
   "metadata": {
    "collapsed": false
   },
   "outputs": [],
   "source": [
    "for deck in ['Mechanized', 'Motorized', 'Marine', 'Airborne', 'Armored', 'Support']:\n",
    "    del units_weaponified[deck + 'Deck']"
   ]
  },
  {
   "cell_type": "code",
   "execution_count": 94,
   "metadata": {
    "collapsed": true
   },
   "outputs": [],
   "source": [
    "units_weaponified.to_csv(\"../data/510049986/final_data.csv\", encoding='utf-8')"
   ]
  },
  {
   "cell_type": "markdown",
   "metadata": {},
   "source": [
    "Next steps:\n",
    "\n",
    "* Map tags and transporters to delimited lists.\n",
    "* Recheck everything. Clean up remaining gunk.\n",
    "* Move 4,5 to a script.\n",
    "* Execute the script.\n",
    "* Write the data dictionary.\n",
    "* Edit the README.\n",
    "* Upload."
   ]
  }
 ],
 "metadata": {
  "anaconda-cloud": {},
  "kernelspec": {
   "display_name": "Python 3",
   "language": "python",
   "name": "python3"
  },
  "language_info": {
   "codemirror_mode": {
    "name": "ipython",
    "version": 3
   },
   "file_extension": ".py",
   "mimetype": "text/x-python",
   "name": "python",
   "nbconvert_exporter": "python",
   "pygments_lexer": "ipython3",
   "version": "3.5.2"
  }
 },
 "nbformat": 4,
 "nbformat_minor": 0
}
