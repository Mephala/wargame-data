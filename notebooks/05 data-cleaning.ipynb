{
 "cells": [
  {
   "cell_type": "code",
   "execution_count": 1,
   "metadata": {
    "collapsed": false
   },
   "outputs": [
    {
     "name": "stderr",
     "output_type": "stream",
     "text": [
      "C:\\Users\\Alex\\Anaconda3\\envs\\wargame-analysis\\lib\\site-packages\\IPython\\core\\interactiveshell.py:2717: DtypeWarning: Columns (1,2,6,10,12,13,15,16,17,18,19,20,23,24,25,26,30,31,34,40,42,43,44,45,46,47,51,55,57,58,60,61,65,66,67,68,69,70,72,73,77,81,83,84,86,87,88,89,90,91,94,95,96,97,101,102,105,111,113,114,115,116,117,118,122,126,129,131,136,137,138,139,140,141,143,144,148,152,154,155,157,158,159,160,161,162,165,166,167,168,172,173,176,182,184,185,186,187,188,189,193,197,200,202,207,208,209,210,211,212,214,215,219,223,225,226,228,229,230,231,232,236,237,238,239,243,244,247,255,256,257,258,259,260,264,268,270,271,273,274,278,279,280,281,282,283,285,286,290,294,296,297,299,300,301,302,303,307,308,309,310,314,315,318,326,327,328,329,330,331,335,339,341,342,344,345,349,350,351,352,353,354,395,420,421,423,471,492,497,499,515,521,530,531,547,564,565,568,572,591,593,603,604,621,622,625,638,641,645,656,657,660,661,665,667,668,669,671,672,673,674,675,676,677,678,679,680,681,682,688,689,692,695,696,697,698,699,700,701,702,703,704,705,709,713,715,716,718,719,723,724,725,726,727,728,730,731,735,739,741,742,744,745,746,747,748,749,752,753,754,755,761,762,765,768,769,770,771,772,773,774,775,776,777,778,782,786,788,789,791,792,796,797,798,799,800,801,803,804,807,808,812,814,815,817,818,819,820,821,822,825,826,827,828,834,835,838,843,844,846,847,848,849,850,851,855,859,861,862,864,865,869,870,871,872,873,874,876,877,881,885,887,888,890,891,892,893,894,895,898,899,900,901,907,908,911,914,915,917,919,920,921,922,923,924,928,932,934,935,937,938,942,943,944,945,946,947,949,950,954,958,960,961,963,964,965,966,967,968,971,972,973,974,978,979,982,988,990,991,992,993,994,995,999,1003,1005,1006,1008,1009,1013,1014,1015,1016,1017,1018) have mixed types. Specify dtype option on import or set low_memory=False.\n",
      "  interactivity=interactivity, compiler=compiler, result=result)\n"
     ]
    }
   ],
   "source": [
    "import pandas as pd\n",
    "import numpy as np\n",
    "%matplotlib inline\n",
    "import seaborn as sns\n",
    "\n",
    "weapons = pd.read_csv(\"../data/510049986/intermediate_data.csv\",\n",
    "                      encoding='windows-1252', \n",
    "                      index_col=0)"
   ]
  },
  {
   "cell_type": "code",
   "execution_count": 2,
   "metadata": {
    "collapsed": true
   },
   "outputs": [],
   "source": [
    "hashes = pd.read_csv(\"../raws/510053208/ZZ_Win/pc/localisation/us/localisation/unites_fixed.csv\", \n",
    "                     encoding='windows-1252', \n",
    "                     index_col=0)"
   ]
  },
  {
   "cell_type": "code",
   "execution_count": 3,
   "metadata": {
    "collapsed": false
   },
   "outputs": [
    {
     "name": "stderr",
     "output_type": "stream",
     "text": [
      "C:\\Users\\Alex\\Anaconda3\\envs\\wargame-analysis\\lib\\site-packages\\IPython\\core\\interactiveshell.py:2717: DtypeWarning: Columns (7,19,32,40,56,57,65,72,73,89,91,95,97,98,102,106,108,109,111,112,113,114,115,116,119,120,121,122,126,127,130,136,138,139,140,141,142,143,147,151,153,154,156,157,161,162,163,164,165,166,168,169,173,177,179,180,182,183,184,185,186,187,190,191,192,193,197,198,201,207,209,210,211,212,213,214,218,222,225,227,232,233,234,235,236,237,239,240,244,248,250,251,253,254,255,256,257,258,261,262,263,264,268,269,272,278,280,281,282,283,284,285,289,293,296,298,303,304,305,306,307,308,310,311,315,319,321,322,324,325,326,327,328,332,333,334,335,339,340,343,351,352,353,354,355,356,360,364,366,367,369,370,374,375,376,377,378,379,381,382,386,390,392,393,395,396,397,398,399,403,404,405,406,410,411,414,422,423,424,425,426,427,431,435,437,438,440,441,445,446,447,448,449,450,460,474,475,491,516,517,519,535,537,549,550,591,606,607,610,612,615,624,625,662,667,669,681,685,687,697,698,731,732,735,739,750,751,754,755,758,759,760,761,762,764,765,766,767,768,769,770,771,772,773,774,775,781,782,785,787,788,789,790,791,792,793,794,795,796,797,798,802,804,805,806,808,809,811,812,816,817,818,819,820,821,823,824,827,828,831,832,834,835,837,838,839,840,841,842,843,844,845,846,847,848,854,855,858,861,862,863,864,865,866,867,868,869,870,871,875,877,878,879,881,882,884,885,889,890,891,892,893,894,896,897,900,901,905,907,908,910,911,912,913,914,915,918,919,920,921,925,926,929,934,935,936,937,938,939,940,941,942,946,950,952,953,955,956,960,961,962,963,964,965,967,968,972,976,978,979,981,982,983,984,985,986,989,990,991,992,998,999,1002,1005,1006,1007,1008,1010,1011,1012,1013,1014,1015,1019,1023,1025,1026,1028,1029,1033,1034,1035,1036,1037,1038,1040,1041,1045,1049,1051,1052,1054,1055,1056,1057,1058,1059,1062,1063,1064,1065,1069,1070,1073,1078,1079,1080,1081,1082,1083,1084,1085,1086,1090,1094,1096,1097,1099,1100,1104,1105,1106,1107,1108,1109,1111) have mixed types. Specify dtype option on import or set low_memory=False.\n",
      "  interactivity=interactivity, compiler=compiler, result=result)\n"
     ]
    }
   ],
   "source": [
    "units = pd.read_csv(\"../data/510049986/raw_data.csv\", encoding=\"windows-1252\", index_col=0)"
   ]
  },
  {
   "cell_type": "markdown",
   "metadata": {},
   "source": [
    "Remove deprecated units."
   ]
  },
  {
   "cell_type": "code",
   "execution_count": 4,
   "metadata": {
    "collapsed": true
   },
   "outputs": [],
   "source": [
    "units = units[~units.apply(lambda srs: 'Deprec!' in srs['NameInMenu'], axis='columns')]\n",
    "units = units[~units.apply(lambda srs: 'DEPRECATED' in srs['NameInMenu'], axis='columns')]"
   ]
  },
  {
   "cell_type": "markdown",
   "metadata": {},
   "source": [
    "Merge weapons on."
   ]
  },
  {
   "cell_type": "code",
   "execution_count": 5,
   "metadata": {
    "collapsed": false
   },
   "outputs": [],
   "source": [
    "units = units.drop([c for c in units.columns if 'Weapon' in c], axis=1).join(weapons)"
   ]
  },
  {
   "cell_type": "code",
   "execution_count": 6,
   "metadata": {
    "collapsed": true
   },
   "outputs": [],
   "source": [
    "decks = {\n",
    "    '8BD43C9757360E00': 'Mechanized',\n",
    "    '5C76718B57360E00': 'Armored',\n",
    "    '5E767965E3000000': 'Motorized',\n",
    "    'DAD77965E3000000': 'Support',\n",
    "    '23B8605ED9380000': 'Marine',\n",
    "    '0BB7685ED9380000': 'Airborne'\n",
    "}\n",
    "\n",
    "deck_types = units['UnitTypeTokens'].map(eval).map(lambda l: [decks[i] for i in l])\n",
    "units['MechanizedDeck'] = deck_types.map(lambda t: 'Mechanized' in t)\n",
    "units['ArmoredDeck'] = deck_types.map(lambda t: 'Armored' in t)\n",
    "units['MotorizedDeck'] = deck_types.map(lambda t: 'Motorized' in t)\n",
    "units['SupportDeck'] = deck_types.map(lambda t: 'Support' in t)\n",
    "units['MarineDeck'] = deck_types.map(lambda t: 'Marine' in t)\n",
    "units['AirborneDeck'] = deck_types.map(lambda t: 'Airborne' in t)"
   ]
  },
  {
   "cell_type": "code",
   "execution_count": 7,
   "metadata": {
    "collapsed": true
   },
   "outputs": [],
   "source": [
    "movers = {\n",
    "    1: 'Foot',\n",
    "    2: 'Wheeled',\n",
    "    3: 'Wheeled',\n",
    "    5: 'Tracked',\n",
    "    6: 'Air',\n",
    "    7: 'Wheeled',\n",
    "    8: 'Tracked',\n",
    "    9: 'Water'\n",
    "}\n",
    "amphib = {\n",
    "    1: False,\n",
    "    2: False,\n",
    "    3: False,\n",
    "    5: False,\n",
    "    6: np.nan,\n",
    "    7: True,\n",
    "    8: True,\n",
    "    9: np.nan\n",
    "}\n",
    "\n",
    "units['MovementType'] = units['UnitMovingType'].map(movers)\n",
    "units['Amphibious'] = units['UnitMovingType'].map(amphib)"
   ]
  },
  {
   "cell_type": "code",
   "execution_count": 8,
   "metadata": {
    "collapsed": true
   },
   "outputs": [],
   "source": [
    "training = {\n",
    "    '8F37594F19619C07' : 'Elite',\n",
    "    '5593495D19619C07' : 'Shock',\n",
    "    'D6173D5C19619C07' : 'Regular',\n",
    "    'DE644D5719619C07' : 'Militia',\n",
    "    'null': np.nan\n",
    "}\n",
    "\n",
    "units['Training'] = units['Training'].map(training)"
   ]
  },
  {
   "cell_type": "code",
   "execution_count": 9,
   "metadata": {
    "collapsed": true
   },
   "outputs": [],
   "source": [
    "ciws = {\n",
    "    '4F233E0000000000': 'Exceptional',\n",
    "    '4E96452000000000': 'Very Good',\n",
    "    '4E96450000000000': 'Good',\n",
    "    'D672711906000000': 'Medium',\n",
    "    'CEC2000000000000': 'Bad',\n",
    "    'null': np.nan\n",
    "}\n",
    "\n",
    "units['CIWS'] = units['CIWS'].map(ciws)"
   ]
  },
  {
   "cell_type": "code",
   "execution_count": 10,
   "metadata": {
    "collapsed": true
   },
   "outputs": [],
   "source": [
    "sailing = {\n",
    "    'CBD32D65B4780000': 'Deep Sea',\n",
    "    'CBD33165B4780000': 'Coastal',\n",
    "    'CBD33565B4780000': 'Riverine',\n",
    "    'null': np.nan\n",
    "}\n",
    "units['Sailing'] = units['Sailing'].map(sailing)"
   ]
  },
  {
   "cell_type": "code",
   "execution_count": 11,
   "metadata": {
    "collapsed": false
   },
   "outputs": [],
   "source": [
    "units['HitRollSizeModifier'] = units['HitRollSizeModifier'].map(lambda v: float(v) if v != \"null\" else np.nan)"
   ]
  },
  {
   "cell_type": "code",
   "execution_count": 12,
   "metadata": {
    "collapsed": false
   },
   "outputs": [],
   "source": [
    "mother_country = {\n",
    "    'US': 'United States',\n",
    "    'UK': 'United Kingdom',\n",
    "    'FR': 'France',\n",
    "    'RFA': 'West Germany',\n",
    "    'CAN': 'Canada',\n",
    "    'SWE': 'Sweden',\n",
    "    'NOR': 'Norway',\n",
    "    'DAN': 'Denmark',\n",
    "    'ANZ': 'ANZAC',\n",
    "    'JAP': 'Japan',\n",
    "    'ROK': 'South Korea',\n",
    "    'ISR': 'Israel',\n",
    "    'HOL': 'The Netherlands',\n",
    "    'URSS': 'Soviet Union',\n",
    "    'RDA': 'East Germany',\n",
    "    'TCH': 'Czechoslavakia',\n",
    "    'POL': 'Poland',\n",
    "    'CHI': 'China',\n",
    "    'NK': 'North Korea'\n",
    "}\n",
    "\n",
    "units['MotherCountry'] = units['MotherCountry'].map(mother_country)"
   ]
  },
  {
   "cell_type": "code",
   "execution_count": 13,
   "metadata": {
    "collapsed": false
   },
   "outputs": [],
   "source": [
    "units['ProductionYear'] = units['ProductionYear'].map(lambda v: int(v) if v != \"null\" else np.nan)"
   ]
  },
  {
   "cell_type": "code",
   "execution_count": 14,
   "metadata": {
    "collapsed": false
   },
   "outputs": [],
   "source": [
    "units['MaxPacks'] = units['MaxPacks'].map(lambda v: int(v) if v != \"null\" else np.nan)"
   ]
  },
  {
   "cell_type": "code",
   "execution_count": 15,
   "metadata": {
    "collapsed": false
   },
   "outputs": [],
   "source": [
    "tab = {\n",
    "    3: 'LOG',\n",
    "    6: 'INF',\n",
    "    7: 'PLA',\n",
    "    8: 'VHC',\n",
    "    9: 'TNK',\n",
    "    10: 'REC',\n",
    "    11: 'HEL',\n",
    "    12: 'SHP',\n",
    "    13: 'SUP',\n",
    "    \"null\": np.nan\n",
    "}\n",
    "units['Tab'] = units['Factory'].map(tab)"
   ]
  },
  {
   "cell_type": "code",
   "execution_count": 16,
   "metadata": {
    "collapsed": false
   },
   "outputs": [],
   "source": [
    "units['ProductionPrice'] = units['ProductionPrice'].map(lambda l: eval(l)[0] if len(eval(l)) > 0 else np.nan)"
   ]
  },
  {
   "cell_type": "code",
   "execution_count": 17,
   "metadata": {
    "collapsed": false,
    "scrolled": true
   },
   "outputs": [],
   "source": [
    "units['IsPrototype'] = units['IsPrototype'].map(lambda v: True if v == \"True\" else False)"
   ]
  },
  {
   "cell_type": "code",
   "execution_count": 18,
   "metadata": {
    "collapsed": false
   },
   "outputs": [],
   "source": [
    "units['HitRollECMModifier'] = units['HitRollECMModifier'].map(lambda v: float(v) if v != \"null\" else np.nan)"
   ]
  },
  {
   "cell_type": "code",
   "execution_count": 19,
   "metadata": {
    "collapsed": false
   },
   "outputs": [],
   "source": [
    "units['Maxspeed'] = units['Maxspeed'] / 52\n",
    "units['MaxSpeed'] = units['Maxspeed']\n",
    "del units['Maxspeed']"
   ]
  },
  {
   "cell_type": "code",
   "execution_count": 20,
   "metadata": {
    "collapsed": false
   },
   "outputs": [],
   "source": [
    "units = units.rename(columns={'TempsDemiTour': 'TimeHalfTurn'})"
   ]
  },
  {
   "cell_type": "code",
   "execution_count": 21,
   "metadata": {
    "collapsed": false
   },
   "outputs": [],
   "source": [
    "units = units.drop(['_ShortDatabaseName', 'StickToGround', 'ManageUnitOrientation',\n",
    "            'IconeType', 'PositionInMenu', 'NameInMenuToken', 'AliasName', 'Category',\n",
    "            'AcknowUnitType', 'TypeForAcknow', 'Nationalite', 'Factory',\n",
    "            'CoutEtoile', 'UnitTypeTokens', 'UnitMovingType', 'Key',\n",
    "            'TypeUnitValue', 'UnitInfoJaugeType',\n",
    "            'SpeedBonusOnRoad', 'VehicleSubType', 'TerrainsToIgnoreMask',\n",
    "            'DeploymentDuration', 'WithdrawalDuration', \n",
    "            ], axis='columns')"
   ]
  },
  {
   "cell_type": "code",
   "execution_count": 22,
   "metadata": {
    "collapsed": false
   },
   "outputs": [],
   "source": [
    "deployables = units['MaxDeployableAmount'].map(lambda l: [int(v) for v in eval(l)])\n",
    "units['RookieDeployableAmount'] = [d[0] for d in deployables]\n",
    "units['TrainedDeployableAmount'] = [d[1] for d in deployables]\n",
    "units['HardenedDeployableAmount'] = [d[2] for d in deployables]\n",
    "units['VeteranDeployableAmount'] = [d[3] for d in deployables]\n",
    "units['EliteDeployableAmount'] = [d[4] for d in deployables]"
   ]
  },
  {
   "cell_type": "code",
   "execution_count": 23,
   "metadata": {
    "collapsed": false
   },
   "outputs": [],
   "source": [
    "units['UnitStealthBonus'] = units['UnitStealthBonus'].map(lambda v: float(v) if v != \"null\" else np.nan)"
   ]
  },
  {
   "cell_type": "code",
   "execution_count": 24,
   "metadata": {
    "collapsed": false
   },
   "outputs": [],
   "source": [
    "units['AutoOrientation'] = units['AutoOrientation'].map(lambda v: True if v != \"null\" else False)"
   ]
  },
  {
   "cell_type": "code",
   "execution_count": 25,
   "metadata": {
    "collapsed": false
   },
   "outputs": [],
   "source": [
    "def splash(v):\n",
    "    return True if 1 <= v <= 4 else False\n",
    "\n",
    "units['ArmorFrontSplashResistant'] = units['ArmorFront'].map(splash)\n",
    "units['ArmorSidesSplashResistant'] = units['ArmorSides'].map(splash)\n",
    "units['ArmorRearSplashResistant'] = units['ArmorRear'].map(splash)\n",
    "units['ArmorTopSplashResistant'] = units['ArmorTop'].map(splash)"
   ]
  },
  {
   "cell_type": "code",
   "execution_count": 26,
   "metadata": {
    "collapsed": false
   },
   "outputs": [],
   "source": [
    "av = lambda v: v if v <= 4 else v - 4\n",
    "    \n",
    "units['ArmorFront'] = units['ArmorFront'].map(av)\n",
    "units['ArmorSides'] = units['ArmorSides'].map(av)\n",
    "units['ArmorRear'] = units['ArmorRear'].map(av)\n",
    "units['ArmorTop'] = units['ArmorTop'].map(av)"
   ]
  },
  {
   "cell_type": "code",
   "execution_count": 27,
   "metadata": {
    "collapsed": false
   },
   "outputs": [],
   "source": [
    "units['CanWinExperience'] = units['CanWinExperience'].map(lambda v: True if v != \"null\" else False)"
   ]
  },
  {
   "cell_type": "code",
   "execution_count": 28,
   "metadata": {
    "collapsed": true
   },
   "outputs": [],
   "source": [
    "units['IsCommandUnit'] = units['IsCommandUnit'].map(lambda v: True if v != \"null\" else False)"
   ]
  },
  {
   "cell_type": "code",
   "execution_count": 29,
   "metadata": {
    "collapsed": true
   },
   "outputs": [],
   "source": [
    "units['IsShip'] = units['IsTargetableAsBoat'].map(lambda v: True if v != \"null\" else False)\n",
    "units = units.drop(['IsTargetableAsBoat'], axis='columns')"
   ]
  },
  {
   "cell_type": "code",
   "execution_count": 30,
   "metadata": {
    "collapsed": true
   },
   "outputs": [],
   "source": [
    "del units['CanWinExperience']\n",
    "del units['ExperienceGainBySecond']\n",
    "del units['GunMuzzleSpeed']\n",
    "del units['MaxDeployableAmount']\n",
    "del units['PaliersPhysicalDamages']\n",
    "del units['PaliersSuppressDamages']\n",
    "del units['ShowInMenu']\n",
    "del units['SuppressDamagesRegenRatioOutOfRange']\n",
    "del units['VitesseCombat']"
   ]
  },
  {
   "cell_type": "code",
   "execution_count": 31,
   "metadata": {
    "collapsed": true
   },
   "outputs": [],
   "source": [
    "i = 10"
   ]
  },
  {
   "cell_type": "code",
   "execution_count": 32,
   "metadata": {
    "collapsed": true
   },
   "outputs": [],
   "source": [
    "for col in ['DeathExplosionRadiusSplashSuppressDamages', 'DetectionTBA']:\n",
    "    pass"
   ]
  },
  {
   "cell_type": "code",
   "execution_count": 33,
   "metadata": {
    "collapsed": false
   },
   "outputs": [],
   "source": [
    "units['LowAltitudeFlyingAltitude']= units['LowAltitudeFlyingAltitude'].map(lambda v: int(v) / 52 if v != \"null\" else np.nan)"
   ]
  },
  {
   "cell_type": "code",
   "execution_count": 34,
   "metadata": {
    "collapsed": true
   },
   "outputs": [],
   "source": [
    "units['NearGroundFlyingAltitude'] = units['NearGroundFlyingAltitude'].map(lambda v: int(v) / 52 if v != \"null\" else np.nan)"
   ]
  },
  {
   "cell_type": "code",
   "execution_count": 35,
   "metadata": {
    "collapsed": true
   },
   "outputs": [],
   "source": [
    "units = units.rename(columns={'LowAltitudeFlyingAltitude': 'HelicopterFlyingAltitude',\n",
    "                              'NearGroundFlyingAltitude': 'HelicopterHoverAltitude'})"
   ]
  },
  {
   "cell_type": "code",
   "execution_count": 36,
   "metadata": {
    "collapsed": false
   },
   "outputs": [],
   "source": [
    "units['MinimalAltitude'] = units['MinimalAltitude'] / 52"
   ]
  },
  {
   "cell_type": "code",
   "execution_count": 37,
   "metadata": {
    "collapsed": true
   },
   "outputs": [],
   "source": [
    "units = units.rename(columns={'MinimalAltitude': 'AirplaneMinimalAltitude'})"
   ]
  },
  {
   "cell_type": "code",
   "execution_count": 38,
   "metadata": {
    "collapsed": false
   },
   "outputs": [],
   "source": [
    "units = units.rename(columns={'MaxDamages': 'Strength'})"
   ]
  },
  {
   "cell_type": "code",
   "execution_count": 39,
   "metadata": {
    "collapsed": true
   },
   "outputs": [],
   "source": [
    "units = units.rename(columns={'MaxSuppressionDamages': 'SuppressionCeiling'})"
   ]
  },
  {
   "cell_type": "code",
   "execution_count": 40,
   "metadata": {
    "collapsed": false
   },
   "outputs": [],
   "source": [
    "units['OpticalStrengthAntiradar'] = units['OpticalStrengthAntiradar'].map(lambda v: int(v) if v != \"null\" else np.nan)"
   ]
  },
  {
   "cell_type": "code",
   "execution_count": 41,
   "metadata": {
    "collapsed": true
   },
   "outputs": [],
   "source": [
    "units['PorteeVisionTBA'] = units['PorteeVisionTBA'].map(lambda v: int(v) if v != \"null\" else np.nan)"
   ]
  },
  {
   "cell_type": "code",
   "execution_count": 42,
   "metadata": {
    "collapsed": true
   },
   "outputs": [],
   "source": [
    "units = units.rename(columns={'ProductionPrice': 'Price'})\n",
    "units = units.rename(columns={'ProductionYear': 'Year'})"
   ]
  },
  {
   "cell_type": "code",
   "execution_count": 43,
   "metadata": {
    "collapsed": true
   },
   "outputs": [],
   "source": [
    "units = units.rename(columns={'StunDamagesRegen': 'StunDamageRegen', 'StunDamagesToGetStunned': 'StunDamageToGetStunned'})"
   ]
  },
  {
   "cell_type": "code",
   "execution_count": 44,
   "metadata": {
    "collapsed": false
   },
   "outputs": [],
   "source": [
    "units['IsTransporter']= units['Transporter'].map(lambda v: True if v != \"null\" else False)\n",
    "del units['Transporter']"
   ]
  },
  {
   "cell_type": "code",
   "execution_count": 45,
   "metadata": {
    "collapsed": true
   },
   "outputs": [],
   "source": [
    "units = units.rename(columns={'UnitStealthBonus': 'Stealth'})"
   ]
  },
  {
   "cell_type": "code",
   "execution_count": 46,
   "metadata": {
    "collapsed": true
   },
   "outputs": [],
   "source": [
    "units = units.rename(columns={'UpgradeRequired': 'Upgrade'})"
   ]
  },
  {
   "cell_type": "code",
   "execution_count": 47,
   "metadata": {
    "collapsed": true
   },
   "outputs": [],
   "source": [
    "def upgradify(srs):\n",
    "    # print(srs['Upgrade'])\n",
    "    if pd.isnull(srs['Upgrade']):\n",
    "        return [srs['ID']]\n",
    "    else:\n",
    "        return [srs['ID']] + upgradify(units.query('ID == {0}'.format(srs['Upgrade'])).iloc[0])"
   ]
  },
  {
   "cell_type": "code",
   "execution_count": 48,
   "metadata": {
    "collapsed": false
   },
   "outputs": [],
   "source": [
    "all_upgrade_paths = np.unique(units.apply(upgradify, axis='columns').values)\n",
    "all_upgrade_paths_sorted = sorted([sorted(l, reverse=False) for l in all_upgrade_paths], reverse=False)"
   ]
  },
  {
   "cell_type": "code",
   "execution_count": 49,
   "metadata": {
    "collapsed": false
   },
   "outputs": [],
   "source": [
    "all_full_paths = []\n",
    "for i in range(len(all_upgrade_paths_sorted) - 1):\n",
    "    if all_upgrade_paths_sorted[i] == []:\n",
    "        pass\n",
    "    else:\n",
    "        flag = True\n",
    "        for sublist in all_upgrade_paths_sorted[:i] + all_upgrade_paths_sorted[i + 1:]:\n",
    "            if len(set(all_upgrade_paths_sorted[i]).intersection(set(sublist))) == len(set(all_upgrade_paths_sorted[i])):\n",
    "                flag = False\n",
    "                break\n",
    "        if flag:\n",
    "            all_full_paths.append(all_upgrade_paths_sorted[i])"
   ]
  },
  {
   "cell_type": "code",
   "execution_count": 50,
   "metadata": {
    "collapsed": true
   },
   "outputs": [],
   "source": [
    "upgrade_paths_lookup = dict()\n",
    "for l in all_full_paths:\n",
    "    for e in l:\n",
    "        upgrade_paths_lookup[e] = l"
   ]
  },
  {
   "cell_type": "code",
   "execution_count": 51,
   "metadata": {
    "collapsed": false,
    "scrolled": false
   },
   "outputs": [],
   "source": [
    "import itertools\n",
    "\n",
    "def transporterify(srs):\n",
    "    ret = srs.copy()\n",
    "    ind = 0\n",
    "    if isinstance(ret['Transporters'], str):\n",
    "        transporters = [int(v) for v in eval(ret['Transporters'])]\n",
    "        ret['Transporters'] = list(itertools.chain.from_iterable([upgrade_paths_lookup[v] for v in transporters]))\n",
    "        for i in range(len(ret['Transporters'])):\n",
    "            ret['Transporter{0}ID'.format(i + 1)] = ret['Transporters'][i]\n",
    "    return ret"
   ]
  },
  {
   "cell_type": "code",
   "execution_count": 52,
   "metadata": {
    "collapsed": false
   },
   "outputs": [],
   "source": [
    "units = units.apply(transporterify, axis='columns')"
   ]
  },
  {
   "cell_type": "code",
   "execution_count": 53,
   "metadata": {
    "collapsed": true
   },
   "outputs": [],
   "source": [
    "def upgradesto(uid):\n",
    "    try:\n",
    "        upgrade_set = upgrade_paths_lookup[uid]\n",
    "        for luid in [e for e in upgrade_set if e != uid]:\n",
    "            if units.query(\"ID == {0}\".format(luid)).iloc[0]['Upgrade'] == uid:\n",
    "                return luid\n",
    "    except:\n",
    "        pass"
   ]
  },
  {
   "cell_type": "code",
   "execution_count": 54,
   "metadata": {
    "collapsed": false
   },
   "outputs": [],
   "source": [
    "units['UpgradeTo'] = units['ID'].apply(upgradesto)\n",
    "units = units.rename(columns={'Upgrade': 'UpgradeFrom'})"
   ]
  },
  {
   "cell_type": "code",
   "execution_count": 55,
   "metadata": {
    "collapsed": false
   },
   "outputs": [],
   "source": [
    "del units['DeathExplosionArme']\n",
    "del units['DeathExplosionRadiusSplashPhysicalDamages']\n",
    "del units['DeathExplosionRadiusSplashSuppressDamages']\n",
    "del units['DeathExplosionSuppressDamages']\n",
    "del units['DeathExplosionID']"
   ]
  },
  {
   "cell_type": "code",
   "execution_count": 56,
   "metadata": {
    "collapsed": false
   },
   "outputs": [],
   "source": [
    "units['DetectionTBA'] = units['DetectionTBA'].map(lambda v: v / 52)\n",
    "units = units.rename(columns={'DetectionTBA': 'HelicopterDetectionRadius'})"
   ]
  },
  {
   "cell_type": "code",
   "execution_count": 57,
   "metadata": {
    "collapsed": false
   },
   "outputs": [],
   "source": [
    "units = units.rename(columns={'FuelMoveDuration': 'Autonomy'})"
   ]
  },
  {
   "cell_type": "code",
   "execution_count": 58,
   "metadata": {
    "collapsed": true
   },
   "outputs": [],
   "source": [
    "i = 0"
   ]
  },
  {
   "cell_type": "code",
   "execution_count": 59,
   "metadata": {
    "collapsed": false
   },
   "outputs": [],
   "source": [
    "units['FlyingAltitude'] = units['FlyingAltitude'] / 52"
   ]
  },
  {
   "cell_type": "code",
   "execution_count": 60,
   "metadata": {
    "collapsed": true
   },
   "outputs": [],
   "source": [
    "units = units.rename(columns={'FlyingAltitude': 'AirplaneFlyingAltitude'})"
   ]
  },
  {
   "cell_type": "code",
   "execution_count": 61,
   "metadata": {
    "collapsed": true
   },
   "outputs": [],
   "source": [
    "units['HelicopterFlyingAltitude'] = units['HelicopterFlyingAltitude'].map(lambda v: v if v == 150.0 else np.nan)"
   ]
  },
  {
   "cell_type": "code",
   "execution_count": 62,
   "metadata": {
    "collapsed": false
   },
   "outputs": [
    {
     "data": {
      "text/plain": [
       "1250.0    78\n",
       "1000.0    67\n",
       "500.0     51\n",
       "750.0     26\n",
       "1500.0     7\n",
       "Name: AirplaneFlyingAltitude, dtype: int64"
      ]
     },
     "execution_count": 62,
     "metadata": {},
     "output_type": "execute_result"
    }
   ],
   "source": [
    "units['AirplaneFlyingAltitude'].value_counts()"
   ]
  },
  {
   "cell_type": "code",
   "execution_count": 63,
   "metadata": {
    "collapsed": false
   },
   "outputs": [
    {
     "data": {
      "text/plain": [
       "1433    HKP 6A #reco2\n",
       "Name: NameInMenu, dtype: object"
      ]
     },
     "execution_count": 63,
     "metadata": {},
     "output_type": "execute_result"
    }
   ],
   "source": [
    "units[units['HelicopterHoverAltitude'] == 12.5]['NameInMenu']"
   ]
  },
  {
   "cell_type": "code",
   "execution_count": 64,
   "metadata": {
    "collapsed": false
   },
   "outputs": [],
   "source": [
    "units['MaxAcceleration'] = units['MaxAcceleration'] / 52"
   ]
  },
  {
   "cell_type": "code",
   "execution_count": 65,
   "metadata": {
    "collapsed": true
   },
   "outputs": [],
   "source": [
    "units['MaxDeceleration'] = units['MaxAcceleration'] / 52"
   ]
  },
  {
   "cell_type": "code",
   "execution_count": 66,
   "metadata": {
    "collapsed": true
   },
   "outputs": [],
   "source": [
    "del units['KillExperienceBonus']"
   ]
  },
  {
   "cell_type": "code",
   "execution_count": 67,
   "metadata": {
    "collapsed": true
   },
   "outputs": [],
   "source": [
    "units = units.rename(columns={'OpticalStrength': 'OpticalStrengthGround'})"
   ]
  },
  {
   "cell_type": "code",
   "execution_count": 68,
   "metadata": {
    "collapsed": false,
    "scrolled": true
   },
   "outputs": [],
   "source": [
    "units['PorteeVision'] = units['PorteeVision'] / 52"
   ]
  },
  {
   "cell_type": "code",
   "execution_count": 69,
   "metadata": {
    "collapsed": true
   },
   "outputs": [],
   "source": [
    "units = units.rename(columns={'PoteeVision': 'GroundDetectionRadius'})"
   ]
  },
  {
   "cell_type": "code",
   "execution_count": 70,
   "metadata": {
    "collapsed": false
   },
   "outputs": [],
   "source": [
    "units['PorteeVisionTBA'] = units['PorteeVisionTBA'] / 52\n",
    "units = units.rename(columns={'PorteeVisionTBA': 'AirToAirHelicopterDetectionRadius'})"
   ]
  },
  {
   "cell_type": "code",
   "execution_count": 71,
   "metadata": {
    "collapsed": false
   },
   "outputs": [],
   "source": [
    "units['UpwardSpeed'] = units['UpwardSpeed'] / 52"
   ]
  },
  {
   "cell_type": "code",
   "execution_count": 72,
   "metadata": {
    "collapsed": false
   },
   "outputs": [],
   "source": [
    "del units['Transporters']"
   ]
  },
  {
   "cell_type": "code",
   "execution_count": 73,
   "metadata": {
    "collapsed": false
   },
   "outputs": [],
   "source": [
    "units = units.rename(columns={'OpticalStrengthAltitude': 'OpticalStrengthAir'})"
   ]
  },
  {
   "cell_type": "code",
   "execution_count": 74,
   "metadata": {
    "collapsed": false
   },
   "outputs": [],
   "source": [
    "def recon(v):\n",
    "    if \"#reco1\" in v:\n",
    "        return \"Good\"\n",
    "    elif \"reco2\" in v:\n",
    "        return \"Very Good\"\n",
    "    elif \"reco3\" in v:\n",
    "        return \"Exceptional\"\n",
    "    else:\n",
    "        return np.nan"
   ]
  },
  {
   "cell_type": "code",
   "execution_count": 75,
   "metadata": {
    "collapsed": true
   },
   "outputs": [],
   "source": [
    "units['Optics'] = units['NameInMenu'].map(recon)\n",
    "units['NameInMenu'] = units['NameInMenu'].map(lambda n: n.replace(\"#command \", \"\")\\\n",
    "                                              .replace(\"#reco1\", \"\")\\\n",
    "                                              .replace(\"#reco2\", \"\")\\\n",
    "                                              .replace(\"#reco3\", \"\")\\\n",
    "                                              .strip())"
   ]
  },
  {
   "cell_type": "code",
   "execution_count": 76,
   "metadata": {
    "collapsed": false
   },
   "outputs": [],
   "source": [
    "hashes = pd.read_csv(\"../raws/510053208/ZZ_Win/pc/localisation/us/localisation/unites_fixed.csv\", \n",
    "                     encoding='windows-1252', index_col=0)"
   ]
  },
  {
   "cell_type": "code",
   "execution_count": 77,
   "metadata": {
    "collapsed": false,
    "scrolled": true
   },
   "outputs": [],
   "source": [
    "def hashquery(uhash):\n",
    "    if pd.notnull(uhash):\n",
    "        return hashes.query(\"Hash == '{0}'\".format(uhash)).iloc[0]['String']\n",
    "    else:\n",
    "        return np.nan"
   ]
  },
  {
   "cell_type": "code",
   "execution_count": 78,
   "metadata": {
    "collapsed": false
   },
   "outputs": [],
   "source": [
    "for i in range(1, 12):\n",
    "    units['Weapon{0}Name'.format(i)] = units['Weapon{0}Name'.format(i)].map(hashquery)\n",
    "    units['Weapon{0}TypeArme'.format(i)] = units['Weapon{0}TypeArme'.format(i)].map(hashquery)\n",
    "    units['Weapon{0}Caliber'.format(i)] = units['Weapon{0}Caliber'.format(i)].map(hashquery)"
   ]
  },
  {
   "cell_type": "code",
   "execution_count": 79,
   "metadata": {
    "collapsed": false
   },
   "outputs": [],
   "source": [
    "# Unfortunately our hash cut off the \",\" in 5,45mm rounds and 7,62mm rounds, both valid calibers. We can fix this manually.\n",
    "# And others.\n",
    "def fixmgcaliber(c):\n",
    "    if str(c) == \"7\":\n",
    "        return \"7,62mm\"\n",
    "    elif str(c) == \"5\":\n",
    "        return \"5,45mm\"\n",
    "    elif str(c) == \"12\":\n",
    "        return \"12,7mm\"\n",
    "    elif str(c) == \"14\":\n",
    "        return \"14,5mm\"\n",
    "    elif str(c) == \"4\":\n",
    "        return \"4,73mm\"\n",
    "    elif str(c) == \"6\":\n",
    "        return \"6,5mm\"\n",
    "    elif str(c) == \"7\":\n",
    "        return \"72,5mm\"\n",
    "    else:\n",
    "        return c\n",
    "\n",
    "for i in range(1, 12):\n",
    "     units['Weapon{0}Caliber'.format(i)] = units['Weapon{0}Caliber'.format(i)].map(fixmgcaliber)"
   ]
  },
  {
   "cell_type": "code",
   "execution_count": 80,
   "metadata": {
    "collapsed": false
   },
   "outputs": [],
   "source": [
    "def weaponify(srs):\n",
    "    ret = pd.Series()\n",
    "    for wi in [i for i in range(1, 12) if pd.notnull(srs['Weapon{0}Name'.format(i)])]:\n",
    "        fragment = \"Weapon{0}\".format(wi)\n",
    "        ret[fragment + 'Tags'] = []\n",
    "        arme = srs[fragment + 'Arme']\n",
    "        arme = int(arme) if arme != \"null\" else np.nan\n",
    "        type_arme = srs[fragment + 'TypeArme']\n",
    "        physical = srs[fragment + 'PhysicalDamages']\n",
    "        physical = int(physical) if physical != \"null\" else np.nan\n",
    "        # Determine AP.\n",
    "        if arme < 3 or arme == \"null\":\n",
    "            ret[fragment + 'AP'] = np.nan\n",
    "        elif arme == 3:\n",
    "            ret[fragment + 'Tags'] = ret[fragment + 'Tags'] + ['AoE']\n",
    "            ret[fragment + 'AP'] = np.nan            \n",
    "        elif arme == 4:\n",
    "            ret[fragment + 'AP'] = np.nan\n",
    "        elif type_arme == \"SSM\":\n",
    "            ret[fragment + 'AP'] = (arme - 34) * physical\n",
    "        elif 5 <= arme <= 34:\n",
    "            ret[fragment + 'AP'] = arme - 4\n",
    "            ret[fragment + 'Tags'] = ret[fragment + 'Tags'] + ['AoE'] + ['KE']\n",
    "        elif 35 <= arme <= 65:\n",
    "            ret[fragment + 'AP'] = arme - 34\n",
    "            ret[fragment + 'Tags'] = ret[fragment + 'Tags'] + ['HEAT']\n",
    "        \n",
    "        # Determine HE.\n",
    "        if physical == \"null\":\n",
    "            ret[fragment + 'HE'] = np.nan\n",
    "        else:\n",
    "            ret[fragment + 'HE'] = physical\n",
    "        \n",
    "        # Conversions\n",
    "        for c in ['RadiusSplashPhysicalDamages', 'Puissance', 'TempsEntreDeuxTirs', 'TempsEntreDeuxSalves',\n",
    "                  'NbrProjectilesSimultanes', 'NbTirParSalves', 'RadiusSplashSuppressDamages', 'TempsDeVisee',\n",
    "                  'DispersionAtMaxRange', 'DispersionAtMinRange', 'CorrectedShotDispersionMultiplier']:\n",
    "            if srs[fragment + c] == \"null\":\n",
    "                srs[fragment + c] = np.nan\n",
    "            else:\n",
    "                srs[fragment + c] = float(srs[fragment + c])\n",
    "            \n",
    "        ret[fragment + 'RadiusSplashPhysicalDamage'] = srs[fragment + 'RadiusSplashPhysicalDamages'] * 175 / 13000\n",
    "        ret[fragment + 'Noise'] = srs[fragment + 'Puissance']\n",
    "        ret[fragment + 'TimeBetweenShots'] = srs[fragment + 'TempsEntreDeuxTirs']\n",
    "        ret[fragment + 'TimeBetweenSalvos'] = srs[fragment + 'TempsEntreDeuxSalves']\n",
    "        ret[fragment + 'ProjectilesPerShot'] = srs[fragment + 'NbrProjectilesSimultanes']\n",
    "        ret[fragment + 'ShotsPerSalvo'] = srs[fragment + 'NbTirParSalves']\n",
    "        ret[fragment + 'RadiusSplashSuppressDamage'] = srs[fragment + 'RadiusSplashSuppressDamages'] * 175 / 13000\n",
    "        ret[fragment + 'AimTime'] = srs[fragment + 'TempsDeVisee']\n",
    "        ret[fragment + 'DispersionAtMaxRange'] = srs[fragment + 'DispersionAtMaxRange'] * 175 / 13000\n",
    "        ret[fragment + 'DispersionAtMinRange'] = srs[fragment + 'DispersionAtMinRange'] * 175 / 13000\n",
    "\n",
    "        # Distance convesions\n",
    "        for c in ['PorteeMaximale', 'PorteeMinimale', 'PorteeMinimaleBateaux', 'PorteeMaximaleBateaux',\n",
    "                  'PorteeMaximaleTBA', 'PorteeMinimaleTBA', 'PorteeMinimaleHA', 'PorteeMaximaleHA',\n",
    "                  'PorteeMaximaleProjectile', \"PorteeMinimaleProjectile\"]:\n",
    "            if srs[fragment + c] == \"null\":\n",
    "                srs[fragment + c] = np.nan\n",
    "            else:\n",
    "                srs[fragment + c] = float(srs[fragment + c])\n",
    "        ret[fragment + 'RangeGround'] = srs[fragment + 'PorteeMaximale'] * 175 / 13000\n",
    "        ret[fragment + 'RangeGroundMinimum'] = srs[fragment + 'PorteeMinimale'] * 175 / 13000\n",
    "        ret[fragment + 'RangeShip'] = srs[fragment + 'PorteeMaximaleBateaux'] * 175 / 13000\n",
    "        ret[fragment + 'RangeShipMinimum'] = srs[fragment + 'PorteeMinimaleBateaux'] * 175 / 13000\n",
    "        ret[fragment + 'RangeHelicopters'] = srs[fragment + 'PorteeMaximaleTBA'] * 175 / 13000\n",
    "        ret[fragment + 'RangeHelicoptersMinimum'] = srs[fragment + 'PorteeMinimaleTBA'] * 175 / 13000\n",
    "        ret[fragment + 'RangePlanes'] = srs[fragment + 'PorteeMaximaleHA'] * 175 / 13000\n",
    "        ret[fragment + 'RangePlanesMinimum'] = srs[fragment + 'PorteeMinimaleHA'] * 175 / 13000\n",
    "        ret[fragment + 'RangeMissiles'] = srs[fragment + 'PorteeMaximaleProjectile'] * 175 / 13000\n",
    "        ret[fragment + 'RangeMissilesMinimum'] = srs[fragment + 'PorteeMinimaleProjectile'] * 175 / 13000\n",
    "        \n",
    "        # Level\n",
    "        lvl = srs[fragment + 'Level']\n",
    "        if lvl == \"null\":\n",
    "            ret[fragment + 'PositionOnCard'] = np.nan\n",
    "        else:\n",
    "            ret[fragment + 'PositionOnCard'] = int(lvl)\n",
    "        \n",
    "        # Guidance\n",
    "        guid = srs[fragment + \"Guidance\"]\n",
    "        if str(guid) == 1:\n",
    "            ret[fragment + 'Tags'] = ret[fragment + 'Tags'] + ['RAD']\n",
    "        if str(guid) == 2:\n",
    "            ret[fragment + 'Tags'] = ret[fragment + 'Tags'] + ['SEAD']\n",
    "        \n",
    "        # Accuracies\n",
    "        for c in ['HitProbability', 'HitProbabilityWhileMoving', 'MinimalCritProbability',\n",
    "                  'MinimalHitProbability']:\n",
    "            if srs[fragment + c] == \"null\":\n",
    "                ret[fragment + c] = np.nan\n",
    "            else:\n",
    "                ret[fragment + c] = srs[fragment + c]\n",
    "        \n",
    "        # Lone tags...\n",
    "        if type_arme == \"SAW\":\n",
    "            ret[fragment + 'Tags'] = ret[fragment + 'Tags'] + ['CQC']\n",
    "        if pd.notnull(ret[fragment + 'RangeMissiles']):\n",
    "            ret[fragment + 'Tags'] = ret[fragment + 'Tags'] + ['DEF']\n",
    "        if srs[fragment + 'TirIndirect'] != \"null\":\n",
    "            ret[fragment + 'Tags'] = ret[fragment + 'Tags'] + ['CORR']\n",
    "        if srs[fragment + 'IsFireAndForget'] != \"null\":\n",
    "            ret[fragment + 'Tags'] = ret[fragment + 'Tags'] + ['F&F']\n",
    "        if srs[fragment + 'IgnoreInflammabilityConditions'] != \"null\":\n",
    "            ret[fragment + 'Tags'] = ret[fragment + 'Tags'] + ['NPLM']\n",
    "        if srs[fragment + 'IsSubAmmunition'] != \"null\":\n",
    "            ret[fragment + 'Tags'] = ret[fragment + 'Tags'] + ['CLUS']\n",
    "\n",
    "# Because I attached CanSmoke incorrectly this will have to be done using a far more tedious process.\n",
    "#         if fragment + 'CanSmoke' in srs and srs[fragment + 'CanSmoke'] == True:\n",
    "#             ret[fragment + 'Tags'] = ret[fragment + 'Tags'] + ['SMK']\n",
    "        \n",
    "        # Direct carry-overs:\n",
    "        for field in [\"AngleDispersion\", \"RayonPinned\", \"FireTriggeringProbability\", \"SupplyCost\",\n",
    "                      \"MissileTimeBetweenCorrections\", \"CorrectedShotDispersionMultiplier\"]:\n",
    "            ret[fragment + field] = srs[fragment + field]\n",
    "    return ret"
   ]
  },
  {
   "cell_type": "markdown",
   "metadata": {},
   "source": [
    "Next steps:\n",
    "\n",
    "* Do missiles.\n",
    "* Do the rest of the tags.\n",
    "* Map tags and transporters to delimited lists.\n",
    "* Recheck everything.\n",
    "* Move 4,5 to a script.\n",
    "* Execute the script.\n",
    "* Write the data dictionary.\n",
    "* Edit the README.\n",
    "* Upload."
   ]
  },
  {
   "cell_type": "code",
   "execution_count": 81,
   "metadata": {
    "collapsed": false,
    "scrolled": false
   },
   "outputs": [
    {
     "data": {
      "text/plain": [
       "Weapon1Tags                                 [AoE, CORR]\n",
       "Weapon1AP                                           NaN\n",
       "Weapon1HE                                             7\n",
       "Weapon1RadiusSplashPhysicalDamage                 106.4\n",
       "Weapon1Noise                                        200\n",
       "Weapon1TimeBetweenShots                             8.5\n",
       "Weapon1TimeBetweenSalvos                             30\n",
       "Weapon1ProjectilesPerShot                             1\n",
       "Weapon1ShotsPerSalvo                                 10\n",
       "Weapon1RadiusSplashSuppressDamage                 212.8\n",
       "Weapon1AimTime                                       10\n",
       "Weapon1DispersionAtMaxRange                         140\n",
       "Weapon1DispersionAtMinRange                         140\n",
       "Weapon1RangeGround                                32200\n",
       "Weapon1RangeGroundMinimum                          3220\n",
       "Weapon1RangeShip                                  32200\n",
       "Weapon1RangeShipMinimum                            3220\n",
       "Weapon1RangeHelicopters                             NaN\n",
       "Weapon1RangeHelicoptersMinimum                      NaN\n",
       "Weapon1RangePlanes                                  NaN\n",
       "Weapon1RangePlanesMinimum                           NaN\n",
       "Weapon1RangeMissiles                                NaN\n",
       "Weapon1RangeMissilesMinimum                         NaN\n",
       "Weapon1PositionOnCard                                 3\n",
       "Weapon1HitProbability                               NaN\n",
       "Weapon1HitProbabilityWhileMoving                    NaN\n",
       "Weapon1MinimalCritProbability                      0.01\n",
       "Weapon1MinimalHitProbability                       0.05\n",
       "Weapon1AngleDispersion                            0.001\n",
       "Weapon1RayonPinned                                15600\n",
       "                                               ...     \n",
       "Weapon3Noise                                         16\n",
       "Weapon3TimeBetweenShots                             0.8\n",
       "Weapon3TimeBetweenSalvos                              3\n",
       "Weapon3ProjectilesPerShot                             1\n",
       "Weapon3ShotsPerSalvo                                 10\n",
       "Weapon3RadiusSplashSuppressDamage                  11.2\n",
       "Weapon3AimTime                                        1\n",
       "Weapon3DispersionAtMaxRange                         NaN\n",
       "Weapon3DispersionAtMinRange                         NaN\n",
       "Weapon3RangeGround                                 1050\n",
       "Weapon3RangeGroundMinimum                           NaN\n",
       "Weapon3RangeShip                                   1050\n",
       "Weapon3RangeShipMinimum                             NaN\n",
       "Weapon3RangeHelicopters                             875\n",
       "Weapon3RangeHelicoptersMinimum                      NaN\n",
       "Weapon3RangePlanes                                  NaN\n",
       "Weapon3RangePlanesMinimum                           NaN\n",
       "Weapon3RangeMissiles                                NaN\n",
       "Weapon3RangeMissilesMinimum                         NaN\n",
       "Weapon3PositionOnCard                                 3\n",
       "Weapon3HitProbability                               0.1\n",
       "Weapon3HitProbabilityWhileMoving                   0.05\n",
       "Weapon3MinimalCritProbability                      0.01\n",
       "Weapon3MinimalHitProbability                       0.05\n",
       "Weapon3AngleDispersion                             0.01\n",
       "Weapon3RayonPinned                                  260\n",
       "Weapon3FireTriggeringProbability                   null\n",
       "Weapon3SupplyCost                                    20\n",
       "Weapon3MissileTimeBetweenCorrections               null\n",
       "Weapon3CorrectedShotDispersionMultiplier            NaN\n",
       "dtype: object"
      ]
     },
     "execution_count": 81,
     "metadata": {},
     "output_type": "execute_result"
    }
   ],
   "source": [
    "weaponify(units.query('NameInMenu == \"ONDAVA\"').iloc[0])"
   ]
  },
  {
   "cell_type": "code",
   "execution_count": 82,
   "metadata": {
    "collapsed": false
   },
   "outputs": [
    {
     "data": {
      "text/plain": [
       "Weapon1Tags                                   []\n",
       "Weapon1HE                                      1\n",
       "Weapon1RadiusSplashPhysicalDamage           2.45\n",
       "Weapon1Noise                                  10\n",
       "Weapon1TimeBetweenShots                        1\n",
       "Weapon1TimeBetweenSalvos                       2\n",
       "Weapon1ProjectilesPerShot                      1\n",
       "Weapon1ShotsPerSalvo                           8\n",
       "Weapon1RadiusSplashSuppressDamage           8.05\n",
       "Weapon1AimTime                               0.2\n",
       "Weapon1DispersionAtMaxRange                  NaN\n",
       "Weapon1DispersionAtMinRange                  NaN\n",
       "Weapon1RangeGround                           455\n",
       "Weapon1RangeGroundMinimum                   1.75\n",
       "Weapon1RangeShip                             455\n",
       "Weapon1RangeShipMinimum                     1.75\n",
       "Weapon1RangeHelicopters                      455\n",
       "Weapon1RangeHelicoptersMinimum               NaN\n",
       "Weapon1RangePlanes                           NaN\n",
       "Weapon1RangePlanesMinimum                    NaN\n",
       "Weapon1RangeMissiles                         NaN\n",
       "Weapon1RangeMissilesMinimum                  NaN\n",
       "Weapon1PositionOnCard                          3\n",
       "Weapon1HitProbability                        0.4\n",
       "Weapon1HitProbabilityWhileMoving             0.4\n",
       "Weapon1MinimalCritProbability               0.01\n",
       "Weapon1MinimalHitProbability                0.05\n",
       "Weapon1AngleDispersion                      0.01\n",
       "Weapon1RayonPinned                           260\n",
       "Weapon1FireTriggeringProbability            null\n",
       "                                            ... \n",
       "Weapon3Noise                                  16\n",
       "Weapon3TimeBetweenShots                        1\n",
       "Weapon3TimeBetweenSalvos                       5\n",
       "Weapon3ProjectilesPerShot                      1\n",
       "Weapon3ShotsPerSalvo                          10\n",
       "Weapon3RadiusSplashSuppressDamage             35\n",
       "Weapon3AimTime                                 2\n",
       "Weapon3DispersionAtMaxRange                  NaN\n",
       "Weapon3DispersionAtMinRange                  NaN\n",
       "Weapon3RangeGround                           875\n",
       "Weapon3RangeGroundMinimum                    NaN\n",
       "Weapon3RangeShip                             875\n",
       "Weapon3RangeShipMinimum                      NaN\n",
       "Weapon3RangeHelicopters                      595\n",
       "Weapon3RangeHelicoptersMinimum               NaN\n",
       "Weapon3RangePlanes                           NaN\n",
       "Weapon3RangePlanesMinimum                    NaN\n",
       "Weapon3RangeMissiles                         NaN\n",
       "Weapon3RangeMissilesMinimum                  NaN\n",
       "Weapon3PositionOnCard                          3\n",
       "Weapon3HitProbability                        0.4\n",
       "Weapon3HitProbabilityWhileMoving            0.25\n",
       "Weapon3MinimalCritProbability               0.01\n",
       "Weapon3MinimalHitProbability                0.05\n",
       "Weapon3AngleDispersion                      0.01\n",
       "Weapon3RayonPinned                           260\n",
       "Weapon3FireTriggeringProbability            null\n",
       "Weapon3SupplyCost                             10\n",
       "Weapon3MissileTimeBetweenCorrections        null\n",
       "Weapon3CorrectedShotDispersionMultiplier     NaN\n",
       "dtype: object"
      ]
     },
     "execution_count": 82,
     "metadata": {},
     "output_type": "execute_result"
    }
   ],
   "source": [
    "weaponify(units.query('NameInMenu == \"DELTA FORCE\"').iloc[0])"
   ]
  },
  {
   "cell_type": "code",
   "execution_count": 83,
   "metadata": {
    "collapsed": false
   },
   "outputs": [
    {
     "data": {
      "text/plain": [
       "Weapon1Arme               null\n",
       "Weapon1PhysicalDamages       1\n",
       "Weapon1TypeArme            SMG\n",
       "Weapon1Puissance            10\n",
       "Name: 286, dtype: object"
      ]
     },
     "execution_count": 83,
     "metadata": {},
     "output_type": "execute_result"
    }
   ],
   "source": [
    "units.query('NameInMenu == \"DELTA FORCE\"').iloc[0][['Weapon1Arme', 'Weapon1PhysicalDamages', 'Weapon1TypeArme', 'Weapon1Puissance']]"
   ]
  },
  {
   "cell_type": "code",
   "execution_count": 84,
   "metadata": {
    "collapsed": false
   },
   "outputs": [
    {
     "data": {
      "text/plain": [
       "Weapon1Arme                54\n",
       "Weapon1PhysicalDamages      3\n",
       "Weapon1TypeArme           SSM\n",
       "Name: 1546, dtype: object"
      ]
     },
     "execution_count": 84,
     "metadata": {},
     "output_type": "execute_result"
    }
   ],
   "source": [
    "units.query('NameInMenu == \"SH-60B ASM\"').iloc[0][['Weapon1Arme', 'Weapon1PhysicalDamages', 'Weapon1TypeArme']]"
   ]
  },
  {
   "cell_type": "code",
   "execution_count": 85,
   "metadata": {
    "collapsed": false
   },
   "outputs": [
    {
     "data": {
      "text/plain": [
       "0       0B06000000000000\n",
       "1       0B06000000000000\n",
       "2       0B06000000000000\n",
       "3       0B06000000000000\n",
       "4       0B06000000000000\n",
       "5       0B06000000000000\n",
       "6       0B06000000000000\n",
       "7       0B06000000000000\n",
       "8       0B06000000000000\n",
       "9       0B06000000000000\n",
       "10      0B06000000000000\n",
       "11      0B06000000000000\n",
       "12      0B06000000000000\n",
       "13      0B06000000000000\n",
       "14      0B06000000000000\n",
       "15      0B06000000000000\n",
       "17      0B06000000000000\n",
       "18      0B06000000000000\n",
       "19      0B06000000000000\n",
       "20      0B06000000000000\n",
       "21      0B06000000000000\n",
       "22      0B06000000000000\n",
       "23      0B06000000000000\n",
       "24      0B06000000000000\n",
       "25      0B06000000000000\n",
       "26      0B06000000000000\n",
       "27      0B06000000000000\n",
       "28      0B06000000000000\n",
       "29      0B06000000000000\n",
       "30      0B06000000000000\n",
       "              ...       \n",
       "1787    0B06000000000000\n",
       "1788    0B06000000000000\n",
       "1789    0B06000000000000\n",
       "1790    0B06000000000000\n",
       "1791    0B06000000000000\n",
       "1792    0B06000000000000\n",
       "1793    0B06000000000000\n",
       "1794    0B06000000000000\n",
       "1795    0B06000000000000\n",
       "1796    0B06000000000000\n",
       "1797    0B06000000000000\n",
       "1798    0B06000000000000\n",
       "1799    0B06000000000000\n",
       "1800    0B06000000000000\n",
       "1801    0B06000000000000\n",
       "1802    0B06000000000000\n",
       "1803    0B06000000000000\n",
       "1804    0B06000000000000\n",
       "1805    0B06000000000000\n",
       "1806    0B06000000000000\n",
       "1807    0B06000000000000\n",
       "1808    0B06000000000000\n",
       "1809    0B06000000000000\n",
       "1810    0B06000000000000\n",
       "1811    0B06000000000000\n",
       "1812    0B06000000000000\n",
       "1813    0B06000000000000\n",
       "1814    0B06000000000000\n",
       "1815    0B06000000000000\n",
       "1816    0B06000000000000\n",
       "Name: Weapon1TypeName, dtype: object"
      ]
     },
     "execution_count": 85,
     "metadata": {},
     "output_type": "execute_result"
    }
   ],
   "source": [
    "units['Weapon1TypeName']"
   ]
  },
  {
   "cell_type": "code",
   "execution_count": 86,
   "metadata": {
    "collapsed": true
   },
   "outputs": [],
   "source": [
    "# Rename DeathExplosionSuppressDamages, DetectionTBA"
   ]
  },
  {
   "cell_type": "code",
   "execution_count": 87,
   "metadata": {
    "collapsed": false
   },
   "outputs": [],
   "source": [
    "# TODO: Map Salves, map SalvoIsMainSalvo, delete HasMainSalvo after.\n",
    "# TODO: All the weapons stuff.\n",
    "# TODO: Who knows how many other variables?\n",
    "# TODO: Create a data dictionary.\n",
    "# TODO: Turn this notebook into a repeatable script.\n",
    "# TODO: Publish.\n",
    "# TODO: Run on previous versions of the game."
   ]
  }
 ],
 "metadata": {
  "anaconda-cloud": {},
  "kernelspec": {
   "display_name": "Python [default]",
   "language": "python",
   "name": "python3"
  },
  "language_info": {
   "codemirror_mode": {
    "name": "ipython",
    "version": 3
   },
   "file_extension": ".py",
   "mimetype": "text/x-python",
   "name": "python",
   "nbconvert_exporter": "python",
   "pygments_lexer": "ipython3",
   "version": "3.5.2"
  }
 },
 "nbformat": 4,
 "nbformat_minor": 0
}
