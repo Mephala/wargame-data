{
 "nbformat": 4,
 "nbformat_minor": 0,
 "metadata": {
  "colab": {
   "provenance": []
  },
  "kernelspec": {
   "name": "python3",
   "language": "python",
   "display_name": "Python 3 (ipykernel)"
  },
  "language_info": {
   "name": "python"
  },
  "accelerator": "TPU",
  "gpuClass": "standard"
 },
 "cells": [
  {
   "cell_type": "code",
   "execution_count": 3,
   "metadata": {
    "colab": {
     "base_uri": "https://localhost:8080/"
    },
    "id": "tuK194ds2UT9",
    "outputId": "323e1e68-7844-435e-d3db-2042b5b512e6",
    "ExecuteTime": {
     "end_time": "2023-12-17T15:22:52.827166Z",
     "start_time": "2023-12-17T15:22:51.772611Z"
    }
   },
   "outputs": [
    {
     "name": "stdout",
     "output_type": "stream",
     "text": [
      "Requirement already satisfied: transformers in /Users/gokhanozg/p/wargame-data/venv2/lib/python3.10/site-packages (4.36.1)\r\n",
      "Requirement already satisfied: filelock in /Users/gokhanozg/p/wargame-data/venv2/lib/python3.10/site-packages (from transformers) (3.13.1)\r\n",
      "Requirement already satisfied: huggingface-hub<1.0,>=0.19.3 in /Users/gokhanozg/p/wargame-data/venv2/lib/python3.10/site-packages (from transformers) (0.19.4)\r\n",
      "Requirement already satisfied: numpy>=1.17 in /Users/gokhanozg/p/wargame-data/venv2/lib/python3.10/site-packages (from transformers) (1.26.2)\r\n",
      "Requirement already satisfied: packaging>=20.0 in /Users/gokhanozg/p/wargame-data/venv2/lib/python3.10/site-packages (from transformers) (23.2)\r\n",
      "Requirement already satisfied: pyyaml>=5.1 in /Users/gokhanozg/p/wargame-data/venv2/lib/python3.10/site-packages (from transformers) (6.0.1)\r\n",
      "Requirement already satisfied: regex!=2019.12.17 in /Users/gokhanozg/p/wargame-data/venv2/lib/python3.10/site-packages (from transformers) (2023.10.3)\r\n",
      "Requirement already satisfied: requests in /Users/gokhanozg/p/wargame-data/venv2/lib/python3.10/site-packages (from transformers) (2.31.0)\r\n",
      "Requirement already satisfied: tokenizers<0.19,>=0.14 in /Users/gokhanozg/p/wargame-data/venv2/lib/python3.10/site-packages (from transformers) (0.15.0)\r\n",
      "Requirement already satisfied: safetensors>=0.3.1 in /Users/gokhanozg/p/wargame-data/venv2/lib/python3.10/site-packages (from transformers) (0.4.1)\r\n",
      "Requirement already satisfied: tqdm>=4.27 in /Users/gokhanozg/p/wargame-data/venv2/lib/python3.10/site-packages (from transformers) (4.66.1)\r\n",
      "Requirement already satisfied: fsspec>=2023.5.0 in /Users/gokhanozg/p/wargame-data/venv2/lib/python3.10/site-packages (from huggingface-hub<1.0,>=0.19.3->transformers) (2023.12.2)\r\n",
      "Requirement already satisfied: typing-extensions>=3.7.4.3 in /Users/gokhanozg/p/wargame-data/venv2/lib/python3.10/site-packages (from huggingface-hub<1.0,>=0.19.3->transformers) (4.9.0)\r\n",
      "Requirement already satisfied: charset-normalizer<4,>=2 in /Users/gokhanozg/p/wargame-data/venv2/lib/python3.10/site-packages (from requests->transformers) (3.3.2)\r\n",
      "Requirement already satisfied: idna<4,>=2.5 in /Users/gokhanozg/p/wargame-data/venv2/lib/python3.10/site-packages (from requests->transformers) (3.6)\r\n",
      "Requirement already satisfied: urllib3<3,>=1.21.1 in /Users/gokhanozg/p/wargame-data/venv2/lib/python3.10/site-packages (from requests->transformers) (2.1.0)\r\n",
      "Requirement already satisfied: certifi>=2017.4.17 in /Users/gokhanozg/p/wargame-data/venv2/lib/python3.10/site-packages (from requests->transformers) (2023.11.17)\r\n",
      "\r\n",
      "\u001B[1m[\u001B[0m\u001B[34;49mnotice\u001B[0m\u001B[1;39;49m]\u001B[0m\u001B[39;49m A new release of pip is available: \u001B[0m\u001B[31;49m23.2.1\u001B[0m\u001B[39;49m -> \u001B[0m\u001B[32;49m23.3.2\u001B[0m\r\n",
      "\u001B[1m[\u001B[0m\u001B[34;49mnotice\u001B[0m\u001B[1;39;49m]\u001B[0m\u001B[39;49m To update, run: \u001B[0m\u001B[32;49mpip install --upgrade pip\u001B[0m\r\n"
     ]
    }
   ],
   "source": [
    "! pip install transformers"
   ]
  },
  {
   "cell_type": "markdown",
   "source": [
    "# Sentiment Analysis using BERT"
   ],
   "metadata": {
    "id": "lNQx1OKhKPsR"
   }
  },
  {
   "cell_type": "markdown",
   "source": [
    "## Importing Dependencies"
   ],
   "metadata": {
    "id": "p7IirAqcKoDZ"
   }
  },
  {
   "cell_type": "code",
   "source": [
    "import torch\n",
    "import pandas as pd\n",
    "import numpy as np\n",
    "from transformers import BertTokenizer, BertForSequenceClassification"
   ],
   "metadata": {
    "id": "a2G85k3UKBDX",
    "ExecuteTime": {
     "end_time": "2023-12-17T15:22:54.006305Z",
     "start_time": "2023-12-17T15:22:52.827492Z"
    }
   },
   "execution_count": 4,
   "outputs": []
  },
  {
   "cell_type": "markdown",
   "source": [
    "## Downloading Dataset"
   ],
   "metadata": {
    "id": "h8cnfUfaKmR2"
   }
  },
  {
   "cell_type": "code",
   "source": [
    "df = pd.read_csv('https://gist.githubusercontent.com/Mukilan-Krishnakumar/e998ecf27d11b84fe6225db11c239bc6/raw/74dbac2b992235e555df9a0a4e4d7271680e7e45/imdb_movie_reviews.csv')\n",
    "df.head()"
   ],
   "metadata": {
    "colab": {
     "base_uri": "https://localhost:8080/",
     "height": 206
    },
    "id": "fBwZmoV6KlDB",
    "outputId": "dd9a97aa-f303-4597-f32a-69e8be5030a5",
    "ExecuteTime": {
     "end_time": "2023-12-17T15:22:55.207118Z",
     "start_time": "2023-12-17T15:22:54.006453Z"
    }
   },
   "execution_count": 5,
   "outputs": [
    {
     "data": {
      "text/plain": "                                                text sentiment\n0  My daughter liked it but I was aghast, that a ...       neg\n1  I... No words. No words can describe this. I w...       neg\n2  this film is basically a poor take on the old ...       neg\n3  This is a terrible movie, and I'm not even sur...       neg\n4  First of all this movie is a piece of reality ...       pos",
      "text/html": "<div>\n<style scoped>\n    .dataframe tbody tr th:only-of-type {\n        vertical-align: middle;\n    }\n\n    .dataframe tbody tr th {\n        vertical-align: top;\n    }\n\n    .dataframe thead th {\n        text-align: right;\n    }\n</style>\n<table border=\"1\" class=\"dataframe\">\n  <thead>\n    <tr style=\"text-align: right;\">\n      <th></th>\n      <th>text</th>\n      <th>sentiment</th>\n    </tr>\n  </thead>\n  <tbody>\n    <tr>\n      <th>0</th>\n      <td>My daughter liked it but I was aghast, that a ...</td>\n      <td>neg</td>\n    </tr>\n    <tr>\n      <th>1</th>\n      <td>I... No words. No words can describe this. I w...</td>\n      <td>neg</td>\n    </tr>\n    <tr>\n      <th>2</th>\n      <td>this film is basically a poor take on the old ...</td>\n      <td>neg</td>\n    </tr>\n    <tr>\n      <th>3</th>\n      <td>This is a terrible movie, and I'm not even sur...</td>\n      <td>neg</td>\n    </tr>\n    <tr>\n      <th>4</th>\n      <td>First of all this movie is a piece of reality ...</td>\n      <td>pos</td>\n    </tr>\n  </tbody>\n</table>\n</div>"
     },
     "execution_count": 5,
     "metadata": {},
     "output_type": "execute_result"
    }
   ]
  },
  {
   "cell_type": "markdown",
   "source": [
    "We will drop the sentiment which comes along with the dataset and predict our own sentiment using BERT"
   ],
   "metadata": {
    "id": "wUnk-xHLK4BB"
   }
  },
  {
   "cell_type": "code",
   "source": [
    "df = df.drop('sentiment',axis=1)"
   ],
   "metadata": {
    "id": "Y790SPBRKy9v",
    "ExecuteTime": {
     "end_time": "2023-12-17T15:22:55.211277Z",
     "start_time": "2023-12-17T15:22:55.207555Z"
    }
   },
   "execution_count": 6,
   "outputs": []
  },
  {
   "cell_type": "markdown",
   "source": [
    "## Model Building and Evaluation"
   ],
   "metadata": {
    "id": "Jc0pnVBpLJUh"
   }
  },
  {
   "cell_type": "code",
   "source": [
    "tokenizer = BertTokenizer.from_pretrained('nlptown/bert-base-multilingual-uncased-sentiment')\n",
    "model = BertForSequenceClassification.from_pretrained('nlptown/bert-base-multilingual-uncased-sentiment')"
   ],
   "metadata": {
    "id": "bRLY34LfLFFm",
    "is_executing": true,
    "ExecuteTime": {
     "start_time": "2023-12-17T15:22:55.210856Z"
    }
   },
   "execution_count": null,
   "outputs": [
    {
     "data": {
      "text/plain": "tokenizer_config.json:   0%|          | 0.00/39.0 [00:00<?, ?B/s]",
      "application/vnd.jupyter.widget-view+json": {
       "version_major": 2,
       "version_minor": 0,
       "model_id": "b6b90bacb84841018aba04fe7999c378"
      }
     },
     "metadata": {},
     "output_type": "display_data"
    },
    {
     "data": {
      "text/plain": "vocab.txt:   0%|          | 0.00/872k [00:00<?, ?B/s]",
      "application/vnd.jupyter.widget-view+json": {
       "version_major": 2,
       "version_minor": 0,
       "model_id": "4653dc9fa13a484d8e6bf019b78d5f04"
      }
     },
     "metadata": {},
     "output_type": "display_data"
    },
    {
     "data": {
      "text/plain": "special_tokens_map.json:   0%|          | 0.00/112 [00:00<?, ?B/s]",
      "application/vnd.jupyter.widget-view+json": {
       "version_major": 2,
       "version_minor": 0,
       "model_id": "dd852524b53842979882aeb97215aef3"
      }
     },
     "metadata": {},
     "output_type": "display_data"
    },
    {
     "data": {
      "text/plain": "config.json:   0%|          | 0.00/953 [00:00<?, ?B/s]",
      "application/vnd.jupyter.widget-view+json": {
       "version_major": 2,
       "version_minor": 0,
       "model_id": "d3a83e8b35ee48879ee18ff2753441c7"
      }
     },
     "metadata": {},
     "output_type": "display_data"
    },
    {
     "data": {
      "text/plain": "pytorch_model.bin:   0%|          | 0.00/669M [00:00<?, ?B/s]",
      "application/vnd.jupyter.widget-view+json": {
       "version_major": 2,
       "version_minor": 0,
       "model_id": "791662fc1f1e4fcd8289483ec1eae339"
      }
     },
     "metadata": {},
     "output_type": "display_data"
    }
   ]
  },
  {
   "cell_type": "code",
   "source": [
    "def sentiment_score(movie_review):\n",
    "\ttoken = tokenizer.encode(movie_review, return_tensors = 'pt')\n",
    "\tresult = model(token)\n",
    "\treturn int(torch.argmax(result.logits))+1"
   ],
   "metadata": {
    "id": "bUYIkQq3QR1Z",
    "is_executing": true
   },
   "execution_count": null,
   "outputs": []
  },
  {
   "cell_type": "code",
   "source": [
    "df['sentiment'] = df['text'].apply(lambda x: sentiment_score(x[:512]))"
   ],
   "metadata": {
    "id": "3n2lLk-HQhi_",
    "is_executing": true
   },
   "execution_count": null,
   "outputs": []
  },
  {
   "cell_type": "code",
   "source": [
    "df.head()"
   ],
   "metadata": {
    "colab": {
     "base_uri": "https://localhost:8080/",
     "height": 206
    },
    "id": "BF0Bt17JQkYf",
    "outputId": "1441cc89-7849-42b8-e19f-cbc248f5088b",
    "is_executing": true
   },
   "execution_count": null,
   "outputs": []
  },
  {
   "cell_type": "code",
   "source": [
    "pip install emoji==0.6.0"
   ],
   "metadata": {
    "colab": {
     "base_uri": "https://localhost:8080/"
    },
    "id": "PcFWPBcyZf53",
    "outputId": "abedca80-3d82-49af-fd3e-e3d05d799fa9",
    "is_executing": true
   },
   "execution_count": null,
   "outputs": []
  },
  {
   "cell_type": "markdown",
   "source": [
    "## Pre-trained BERT on Twitter US Election 2020 for Stance Detection towards Donald Trump (KE-MLM)"
   ],
   "metadata": {
    "id": "BaKLQLavYIgN"
   }
  },
  {
   "cell_type": "code",
   "source": [
    "from transformers import AutoTokenizer, AutoModelForSequenceClassification\n",
    "import torch\n",
    "import numpy as np"
   ],
   "metadata": {
    "id": "CPrXp-rmYVXt",
    "is_executing": true
   },
   "execution_count": null,
   "outputs": []
  },
  {
   "cell_type": "code",
   "source": [
    "# choose GPU if available\n",
    "device = torch.device(\"cuda\" if torch.cuda.is_available() else \"cpu\")"
   ],
   "metadata": {
    "id": "a-MXDoayYVeJ",
    "is_executing": true
   },
   "execution_count": null,
   "outputs": []
  },
  {
   "cell_type": "code",
   "source": [
    "# select mode path here\n",
    "pretrained_LM_path = \"kornosk/bert-election2020-twitter-stance-trump-KE-MLM\""
   ],
   "metadata": {
    "id": "fCmaAzAvYVhy",
    "is_executing": true
   },
   "execution_count": null,
   "outputs": []
  },
  {
   "cell_type": "code",
   "source": [
    "# load model\n",
    "tokenizer = AutoTokenizer.from_pretrained(pretrained_LM_path)\n",
    "model = AutoModelForSequenceClassification.from_pretrained(pretrained_LM_path)\n",
    "\n",
    "id2label = {\n",
    "    0: \"AGAINST\",\n",
    "    1: \"FAVOR\",\n",
    "    2: \"NONE\"\n",
    "}\n"
   ],
   "metadata": {
    "id": "96_FtfqiYVlb",
    "is_executing": true
   },
   "execution_count": null,
   "outputs": []
  },
  {
   "cell_type": "code",
   "source": [
    "##### Prediction Neutral #####\n",
    "sentence = \"Hello World.\"\n",
    "inputs = tokenizer(sentence.lower(), return_tensors=\"pt\")\n",
    "outputs = model(**inputs)\n",
    "predicted_probability = torch.softmax(outputs[0], dim=1)[0].tolist()\n",
    "\n",
    "print(\"Sentence:\", sentence)\n",
    "print(\"Prediction:\", id2label[np.argmax(predicted_probability)])\n",
    "print(\"Against:\", predicted_probability[0])\n",
    "print(\"Favor:\", predicted_probability[1])\n",
    "print(\"Neutral:\", predicted_probability[2])"
   ],
   "metadata": {
    "colab": {
     "base_uri": "https://localhost:8080/"
    },
    "id": "4GDvpBE8Yeyx",
    "outputId": "2f497131-80ac-4d02-98de-1b270a81f52f",
    "is_executing": true
   },
   "execution_count": null,
   "outputs": []
  },
  {
   "cell_type": "code",
   "source": [
    "##### Prediction Favor #####\n",
    "sentence = \"Go Go Trump!!!\"\n",
    "inputs = tokenizer(sentence.lower(), return_tensors=\"pt\")\n",
    "outputs = model(**inputs)\n",
    "predicted_probability = torch.softmax(outputs[0], dim=1)[0].tolist()\n",
    "\n",
    "print(\"Sentence:\", sentence)\n",
    "print(\"Prediction:\", id2label[np.argmax(predicted_probability)])\n",
    "print(\"Against:\", predicted_probability[0])\n",
    "print(\"Favor:\", predicted_probability[1])\n",
    "print(\"Neutral:\", predicted_probability[2])"
   ],
   "metadata": {
    "colab": {
     "base_uri": "https://localhost:8080/"
    },
    "id": "GiEmN5M9Ye4U",
    "outputId": "d9e212c9-4090-4619-f51a-5bd16832b8b0",
    "is_executing": true
   },
   "execution_count": null,
   "outputs": []
  },
  {
   "cell_type": "code",
   "source": [
    "##### Prediction Against #####\n",
    "sentence = \"Trump is the worst.\"\n",
    "inputs = tokenizer(sentence.lower(), return_tensors=\"pt\")\n",
    "outputs = model(**inputs)\n",
    "predicted_probability = torch.softmax(outputs[0], dim=1)[0].tolist()\n",
    "\n",
    "print(\"Sentence:\", sentence)\n",
    "print(\"Prediction:\", id2label[np.argmax(predicted_probability)])\n",
    "print(\"Against:\", predicted_probability[0])\n",
    "print(\"Favor:\", predicted_probability[1])\n",
    "print(\"Neutral:\", predicted_probability[2])"
   ],
   "metadata": {
    "colab": {
     "base_uri": "https://localhost:8080/"
    },
    "id": "OJSalXiqYe9x",
    "outputId": "b2e4dbe5-8895-4933-8bba-41092a4b98ee",
    "is_executing": true
   },
   "execution_count": null,
   "outputs": []
  },
  {
   "cell_type": "code",
   "source": [
    "sentence = \"Science is true.\"\n",
    "inputs = tokenizer(sentence.lower(), return_tensors=\"pt\")\n",
    "outputs = model(**inputs)\n",
    "predicted_probability = torch.softmax(outputs[0], dim=1)[0].tolist()\n",
    "\n",
    "print(\"Sentence:\", sentence)\n",
    "print(\"Prediction:\", id2label[np.argmax(predicted_probability)])\n",
    "print(\"Against:\", predicted_probability[0])\n",
    "print(\"Favor:\", predicted_probability[1])\n",
    "print(\"Neutral:\", predicted_probability[2])"
   ],
   "metadata": {
    "colab": {
     "base_uri": "https://localhost:8080/"
    },
    "id": "0wGsLU0aCYaz",
    "outputId": "4b85b843-2b73-4342-e8ea-9b7139227937",
    "is_executing": true
   },
   "execution_count": null,
   "outputs": []
  },
  {
   "cell_type": "markdown",
   "source": [
    "##  🙊 Detoxify Toxic Comment Classification with ⚡ Pytorch Lightning and 🤗 Transformers"
   ],
   "metadata": {
    "id": "ULGzhiERZJiT"
   }
  },
  {
   "cell_type": "code",
   "source": [
    "# install detoxify\n",
    "\n",
    "! pip install detoxify\n"
   ],
   "metadata": {
    "colab": {
     "base_uri": "https://localhost:8080/"
    },
    "id": "YKLBp8BN7FRE",
    "outputId": "bc39a138-e0cc-4f01-c9d3-754b62b318b1",
    "is_executing": true
   },
   "execution_count": null,
   "outputs": []
  },
  {
   "cell_type": "code",
   "source": [
    "results=Detoxify('original').predict('I joked to my friend and said shut up you are a liar ')"
   ],
   "metadata": {
    "id": "PNsOGlnq8M_t",
    "is_executing": true
   },
   "execution_count": null,
   "outputs": []
  },
  {
   "cell_type": "code",
   "source": [
    "print(results)"
   ],
   "metadata": {
    "colab": {
     "base_uri": "https://localhost:8080/"
    },
    "id": "ebPjCJqZILl4",
    "outputId": "a3a8b688-4611-4680-8597-cbc0582aa945",
    "is_executing": true
   },
   "execution_count": null,
   "outputs": []
  },
  {
   "cell_type": "code",
   "source": [
    "print(results)"
   ],
   "metadata": {
    "colab": {
     "base_uri": "https://localhost:8080/"
    },
    "id": "tnD52zNSHydF",
    "outputId": "b709b95b-0caf-40ea-8d68-5c0a356ff24c",
    "is_executing": true
   },
   "execution_count": null,
   "outputs": []
  },
  {
   "cell_type": "code",
   "source": [
    "results_unbiased=Detoxify('unbiased').predict('shut up you are a liar')"
   ],
   "metadata": {
    "id": "qx_WrLRe8taC",
    "is_executing": true
   },
   "execution_count": null,
   "outputs": []
  },
  {
   "cell_type": "code",
   "source": [
    "results_turkish = Detoxify('multilingual').predict('kapa çeneni sen bir yalancısın')"
   ],
   "metadata": {
    "id": "pAXZG0bl76oy",
    "is_executing": true
   },
   "execution_count": null,
   "outputs": []
  },
  {
   "cell_type": "code",
   "source": [
    "print(results)"
   ],
   "metadata": {
    "colab": {
     "base_uri": "https://localhost:8080/"
    },
    "id": "SSMCVKiS8HtU",
    "outputId": "9fb1461c-eec9-43ed-9b5f-de04a1b415bd",
    "is_executing": true
   },
   "execution_count": null,
   "outputs": []
  },
  {
   "cell_type": "code",
   "source": [
    "print(results_unbiased)"
   ],
   "metadata": {
    "colab": {
     "base_uri": "https://localhost:8080/"
    },
    "id": "CT2-p_Pc80c3",
    "outputId": "ad9088b3-b6a0-48eb-9908-238b1f69b6f3",
    "is_executing": true
   },
   "execution_count": null,
   "outputs": []
  },
  {
   "cell_type": "code",
   "source": [
    "print(results_turkish)"
   ],
   "metadata": {
    "colab": {
     "base_uri": "https://localhost:8080/"
    },
    "id": "IdgRucs08h2h",
    "outputId": "59eb0ffe-b3a8-40d2-f797-b66a86e7274c",
    "is_executing": true
   },
   "execution_count": null,
   "outputs": []
  },
  {
   "cell_type": "code",
   "source": [
    "results_german = Detoxify('multilingual').predict('Halt die fresse du bist ein Lügner!')"
   ],
   "metadata": {
    "id": "PQ9WAMmG-xop",
    "is_executing": true
   },
   "execution_count": null,
   "outputs": []
  },
  {
   "cell_type": "code",
   "source": [
    "print(results_german)"
   ],
   "metadata": {
    "colab": {
     "base_uri": "https://localhost:8080/"
    },
    "id": "eS4C-QO5EZID",
    "outputId": "596293a0-7a4c-4288-88bf-c962e881084f",
    "is_executing": true
   },
   "execution_count": null,
   "outputs": []
  },
  {
   "cell_type": "code",
   "source": [
    "print(pd.DataFrame(results,results_unbiased,results_german).round(5))"
   ],
   "metadata": {
    "colab": {
     "base_uri": "https://localhost:8080/"
    },
    "id": "82kl_jPL89Ib",
    "outputId": "d9fa3ec3-6e32-42f6-81cb-9bfada30ed4f",
    "is_executing": true
   },
   "execution_count": null,
   "outputs": []
  },
  {
   "cell_type": "markdown",
   "source": [
    "Sources\n",
    "\n",
    "https://huggingface.co/kornosk/bert-election2020-twitter-stance-trump-KE-MLM\n",
    "\n",
    "https://huggingface.co/unitary/toxic-bert\n",
    "\n",
    "https://github.com/unitaryai/detoxify\n",
    "\n",
    "https://huggingface.co/docs/transformers/model_doc/bert\n",
    "\n",
    "https://huggingface.co/models?other=politics&sort=trending\n",
    "\n",
    "https://wandb.ai/mukilan/BERT_Sentiment_Analysis/reports/An-Introduction-to-BERT-And-How-To-Use-It--VmlldzoyNTIyOTA1#bert-based-models\n",
    "\n",
    "\n",
    "\n"
   ],
   "metadata": {
    "id": "bRqaDQ5tHjln"
   }
  }
 ]
}
