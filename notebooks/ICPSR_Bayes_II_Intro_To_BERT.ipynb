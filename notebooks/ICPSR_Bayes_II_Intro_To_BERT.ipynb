{
 "nbformat": 4,
 "nbformat_minor": 0,
 "metadata": {
  "colab": {
   "provenance": []
  },
  "kernelspec": {
   "name": "python3",
   "language": "python",
   "display_name": "Python 3 (ipykernel)"
  },
  "language_info": {
   "name": "python"
  },
  "accelerator": "TPU",
  "gpuClass": "standard"
 },
 "cells": [
  {
   "cell_type": "code",
   "execution_count": null,
   "metadata": {
    "colab": {
     "base_uri": "https://localhost:8080/"
    },
    "id": "tuK194ds2UT9",
    "outputId": "323e1e68-7844-435e-d3db-2042b5b512e6",
    "ExecuteTime": {
     "start_time": "2023-12-17T15:36:58.451595Z"
    }
   },
   "outputs": [],
   "source": [
    "! pip install transformers"
   ]
  },
  {
   "cell_type": "markdown",
   "source": [
    "# Sentiment Analysis using BERT"
   ],
   "metadata": {
    "id": "lNQx1OKhKPsR"
   }
  },
  {
   "cell_type": "markdown",
   "source": [
    "## Importing Dependencies"
   ],
   "metadata": {
    "id": "p7IirAqcKoDZ"
   }
  },
  {
   "cell_type": "code",
   "source": [
    "import torch\n",
    "import pandas as pd\n",
    "import numpy as np\n",
    "from transformers import BertTokenizer, BertForSequenceClassification"
   ],
   "metadata": {
    "id": "a2G85k3UKBDX",
    "ExecuteTime": {
     "start_time": "2023-12-17T15:36:58.453276Z"
    }
   },
   "execution_count": null,
   "outputs": []
  },
  {
   "cell_type": "markdown",
   "source": [
    "## Downloading Dataset"
   ],
   "metadata": {
    "id": "h8cnfUfaKmR2"
   }
  },
  {
   "cell_type": "code",
   "source": [
    "df = pd.read_csv('https://gist.githubusercontent.com/Mukilan-Krishnakumar/e998ecf27d11b84fe6225db11c239bc6/raw/74dbac2b992235e555df9a0a4e4d7271680e7e45/imdb_movie_reviews.csv')\n",
    "df.head()"
   ],
   "metadata": {
    "colab": {
     "base_uri": "https://localhost:8080/",
     "height": 206
    },
    "id": "fBwZmoV6KlDB",
    "outputId": "dd9a97aa-f303-4597-f32a-69e8be5030a5",
    "ExecuteTime": {
     "start_time": "2023-12-17T15:36:58.454731Z"
    }
   },
   "execution_count": null,
   "outputs": []
  },
  {
   "cell_type": "markdown",
   "source": [
    "We will drop the sentiment which comes along with the dataset and predict our own sentiment using BERT"
   ],
   "metadata": {
    "id": "wUnk-xHLK4BB"
   }
  },
  {
   "cell_type": "code",
   "source": [
    "df = df.drop('sentiment',axis=1)"
   ],
   "metadata": {
    "id": "Y790SPBRKy9v",
    "ExecuteTime": {
     "start_time": "2023-12-17T15:36:58.456396Z"
    }
   },
   "execution_count": null,
   "outputs": []
  },
  {
   "cell_type": "markdown",
   "source": [
    "## Model Building and Evaluation"
   ],
   "metadata": {
    "id": "Jc0pnVBpLJUh"
   }
  },
  {
   "cell_type": "code",
   "source": [
    "tokenizer = BertTokenizer.from_pretrained('nlptown/bert-base-multilingual-uncased-sentiment')\n",
    "model = BertForSequenceClassification.from_pretrained('nlptown/bert-base-multilingual-uncased-sentiment')"
   ],
   "metadata": {
    "id": "bRLY34LfLFFm",
    "ExecuteTime": {
     "start_time": "2023-12-17T15:36:58.457748Z"
    }
   },
   "execution_count": null,
   "outputs": []
  },
  {
   "cell_type": "code",
   "source": [
    "def sentiment_score(movie_review):\n",
    "\ttoken = tokenizer.encode(movie_review, return_tensors = 'pt')\n",
    "\tresult = model(token)\n",
    "\treturn int(torch.argmax(result.logits))+1"
   ],
   "metadata": {
    "id": "bUYIkQq3QR1Z",
    "ExecuteTime": {
     "start_time": "2023-12-17T15:36:58.459141Z"
    }
   },
   "execution_count": null,
   "outputs": []
  },
  {
   "cell_type": "code",
   "source": [
    "df['sentiment'] = df['text'].apply(lambda x: sentiment_score(x[:512]))"
   ],
   "metadata": {
    "id": "3n2lLk-HQhi_",
    "ExecuteTime": {
     "start_time": "2023-12-17T15:36:58.461754Z"
    }
   },
   "execution_count": null,
   "outputs": []
  },
  {
   "cell_type": "code",
   "source": [
    "df.head()"
   ],
   "metadata": {
    "colab": {
     "base_uri": "https://localhost:8080/",
     "height": 206
    },
    "id": "BF0Bt17JQkYf",
    "outputId": "1441cc89-7849-42b8-e19f-cbc248f5088b",
    "ExecuteTime": {
     "start_time": "2023-12-17T15:36:58.461910Z"
    }
   },
   "execution_count": null,
   "outputs": []
  },
  {
   "cell_type": "code",
   "source": [
    "pip install emoji==0.6.0"
   ],
   "metadata": {
    "colab": {
     "base_uri": "https://localhost:8080/"
    },
    "id": "PcFWPBcyZf53",
    "outputId": "abedca80-3d82-49af-fd3e-e3d05d799fa9",
    "ExecuteTime": {
     "start_time": "2023-12-17T15:36:58.462773Z"
    }
   },
   "execution_count": null,
   "outputs": []
  },
  {
   "cell_type": "markdown",
   "source": [
    "## Pre-trained BERT on Twitter US Election 2020 for Stance Detection towards Donald Trump (KE-MLM)"
   ],
   "metadata": {
    "id": "BaKLQLavYIgN"
   }
  },
  {
   "cell_type": "code",
   "source": [
    "from transformers import AutoTokenizer, AutoModelForSequenceClassification\n",
    "import torch\n",
    "import numpy as np"
   ],
   "metadata": {
    "id": "CPrXp-rmYVXt",
    "ExecuteTime": {
     "start_time": "2023-12-17T15:36:58.463638Z"
    }
   },
   "execution_count": null,
   "outputs": []
  },
  {
   "cell_type": "code",
   "source": [
    "# choose GPU if available\n",
    "device = torch.device(\"cuda\" if torch.cuda.is_available() else \"cpu\")"
   ],
   "metadata": {
    "id": "a-MXDoayYVeJ",
    "ExecuteTime": {
     "start_time": "2023-12-17T15:36:58.464586Z"
    }
   },
   "execution_count": null,
   "outputs": []
  },
  {
   "cell_type": "code",
   "source": [
    "# select mode path here\n",
    "pretrained_LM_path = \"kornosk/bert-election2020-twitter-stance-trump-KE-MLM\""
   ],
   "metadata": {
    "id": "fCmaAzAvYVhy",
    "ExecuteTime": {
     "start_time": "2023-12-17T15:36:58.465498Z"
    }
   },
   "execution_count": null,
   "outputs": []
  },
  {
   "cell_type": "code",
   "source": [
    "# load model\n",
    "tokenizer = AutoTokenizer.from_pretrained(pretrained_LM_path)\n",
    "model = AutoModelForSequenceClassification.from_pretrained(pretrained_LM_path)\n",
    "\n",
    "id2label = {\n",
    "    0: \"AGAINST\",\n",
    "    1: \"FAVOR\",\n",
    "    2: \"NONE\"\n",
    "}\n"
   ],
   "metadata": {
    "id": "96_FtfqiYVlb",
    "ExecuteTime": {
     "start_time": "2023-12-17T15:36:58.466372Z"
    }
   },
   "execution_count": null,
   "outputs": []
  },
  {
   "cell_type": "code",
   "source": [
    "##### Prediction Neutral #####\n",
    "sentence = \"Hello World.\"\n",
    "inputs = tokenizer(sentence.lower(), return_tensors=\"pt\")\n",
    "outputs = model(**inputs)\n",
    "predicted_probability = torch.softmax(outputs[0], dim=1)[0].tolist()\n",
    "\n",
    "print(\"Sentence:\", sentence)\n",
    "print(\"Prediction:\", id2label[np.argmax(predicted_probability)])\n",
    "print(\"Against:\", predicted_probability[0])\n",
    "print(\"Favor:\", predicted_probability[1])\n",
    "print(\"Neutral:\", predicted_probability[2])"
   ],
   "metadata": {
    "colab": {
     "base_uri": "https://localhost:8080/"
    },
    "id": "4GDvpBE8Yeyx",
    "outputId": "2f497131-80ac-4d02-98de-1b270a81f52f",
    "ExecuteTime": {
     "start_time": "2023-12-17T15:36:58.467259Z"
    }
   },
   "execution_count": null,
   "outputs": []
  },
  {
   "cell_type": "code",
   "source": [
    "##### Prediction Favor #####\n",
    "sentence = \"Go Go Trump!!!\"\n",
    "inputs = tokenizer(sentence.lower(), return_tensors=\"pt\")\n",
    "outputs = model(**inputs)\n",
    "predicted_probability = torch.softmax(outputs[0], dim=1)[0].tolist()\n",
    "\n",
    "print(\"Sentence:\", sentence)\n",
    "print(\"Prediction:\", id2label[np.argmax(predicted_probability)])\n",
    "print(\"Against:\", predicted_probability[0])\n",
    "print(\"Favor:\", predicted_probability[1])\n",
    "print(\"Neutral:\", predicted_probability[2])"
   ],
   "metadata": {
    "colab": {
     "base_uri": "https://localhost:8080/"
    },
    "id": "GiEmN5M9Ye4U",
    "outputId": "d9e212c9-4090-4619-f51a-5bd16832b8b0",
    "ExecuteTime": {
     "start_time": "2023-12-17T15:36:58.468140Z"
    }
   },
   "execution_count": null,
   "outputs": []
  },
  {
   "cell_type": "code",
   "source": [
    "##### Prediction Against #####\n",
    "sentence = \"Trump is the worst.\"\n",
    "inputs = tokenizer(sentence.lower(), return_tensors=\"pt\")\n",
    "outputs = model(**inputs)\n",
    "predicted_probability = torch.softmax(outputs[0], dim=1)[0].tolist()\n",
    "\n",
    "print(\"Sentence:\", sentence)\n",
    "print(\"Prediction:\", id2label[np.argmax(predicted_probability)])\n",
    "print(\"Against:\", predicted_probability[0])\n",
    "print(\"Favor:\", predicted_probability[1])\n",
    "print(\"Neutral:\", predicted_probability[2])"
   ],
   "metadata": {
    "colab": {
     "base_uri": "https://localhost:8080/"
    },
    "id": "OJSalXiqYe9x",
    "outputId": "b2e4dbe5-8895-4933-8bba-41092a4b98ee",
    "ExecuteTime": {
     "start_time": "2023-12-17T15:36:58.468980Z"
    }
   },
   "execution_count": null,
   "outputs": []
  },
  {
   "cell_type": "code",
   "source": [
    "sentence = \"Science is true.\"\n",
    "inputs = tokenizer(sentence.lower(), return_tensors=\"pt\")\n",
    "outputs = model(**inputs)\n",
    "predicted_probability = torch.softmax(outputs[0], dim=1)[0].tolist()\n",
    "\n",
    "print(\"Sentence:\", sentence)\n",
    "print(\"Prediction:\", id2label[np.argmax(predicted_probability)])\n",
    "print(\"Against:\", predicted_probability[0])\n",
    "print(\"Favor:\", predicted_probability[1])\n",
    "print(\"Neutral:\", predicted_probability[2])"
   ],
   "metadata": {
    "colab": {
     "base_uri": "https://localhost:8080/"
    },
    "id": "0wGsLU0aCYaz",
    "outputId": "4b85b843-2b73-4342-e8ea-9b7139227937",
    "ExecuteTime": {
     "start_time": "2023-12-17T15:36:58.470068Z"
    }
   },
   "execution_count": null,
   "outputs": []
  },
  {
   "cell_type": "markdown",
   "source": [
    "##  🙊 Detoxify Toxic Comment Classification with ⚡ Pytorch Lightning and 🤗 Transformers"
   ],
   "metadata": {
    "id": "ULGzhiERZJiT"
   }
  },
  {
   "cell_type": "code",
   "source": [
    "# install detoxify\n",
    "\n",
    "! pip install detoxify\n"
   ],
   "metadata": {
    "colab": {
     "base_uri": "https://localhost:8080/"
    },
    "id": "YKLBp8BN7FRE",
    "outputId": "bc39a138-e0cc-4f01-c9d3-754b62b318b1",
    "ExecuteTime": {
     "start_time": "2023-12-17T15:36:58.471082Z"
    }
   },
   "execution_count": null,
   "outputs": []
  },
  {
   "cell_type": "code",
   "source": [
    "results=Detoxify('original').predict('I joked to my friend and said shut up you are a liar ')"
   ],
   "metadata": {
    "id": "PNsOGlnq8M_t",
    "ExecuteTime": {
     "start_time": "2023-12-17T15:36:58.472218Z"
    }
   },
   "execution_count": null,
   "outputs": []
  },
  {
   "cell_type": "code",
   "source": [
    "print(results)"
   ],
   "metadata": {
    "colab": {
     "base_uri": "https://localhost:8080/"
    },
    "id": "ebPjCJqZILl4",
    "outputId": "a3a8b688-4611-4680-8597-cbc0582aa945",
    "ExecuteTime": {
     "start_time": "2023-12-17T15:36:58.473135Z"
    }
   },
   "execution_count": null,
   "outputs": []
  },
  {
   "cell_type": "code",
   "source": [
    "print(results)"
   ],
   "metadata": {
    "colab": {
     "base_uri": "https://localhost:8080/"
    },
    "id": "tnD52zNSHydF",
    "outputId": "b709b95b-0caf-40ea-8d68-5c0a356ff24c",
    "ExecuteTime": {
     "start_time": "2023-12-17T15:36:58.473983Z"
    }
   },
   "execution_count": null,
   "outputs": []
  },
  {
   "cell_type": "code",
   "source": [
    "results_unbiased=Detoxify('unbiased').predict('shut up you are a liar')"
   ],
   "metadata": {
    "id": "qx_WrLRe8taC",
    "ExecuteTime": {
     "start_time": "2023-12-17T15:36:58.474862Z"
    }
   },
   "execution_count": null,
   "outputs": []
  },
  {
   "cell_type": "code",
   "source": [
    "results_turkish = Detoxify('multilingual').predict('kapa çeneni sen bir yalancısın')"
   ],
   "metadata": {
    "id": "pAXZG0bl76oy",
    "ExecuteTime": {
     "start_time": "2023-12-17T15:36:58.475997Z"
    }
   },
   "execution_count": null,
   "outputs": []
  },
  {
   "cell_type": "code",
   "source": [
    "print(results)"
   ],
   "metadata": {
    "colab": {
     "base_uri": "https://localhost:8080/"
    },
    "id": "SSMCVKiS8HtU",
    "outputId": "9fb1461c-eec9-43ed-9b5f-de04a1b415bd",
    "ExecuteTime": {
     "start_time": "2023-12-17T15:36:58.476905Z"
    }
   },
   "execution_count": null,
   "outputs": []
  },
  {
   "cell_type": "code",
   "source": [
    "print(results_unbiased)"
   ],
   "metadata": {
    "colab": {
     "base_uri": "https://localhost:8080/"
    },
    "id": "CT2-p_Pc80c3",
    "outputId": "ad9088b3-b6a0-48eb-9908-238b1f69b6f3",
    "ExecuteTime": {
     "start_time": "2023-12-17T15:36:58.477778Z"
    }
   },
   "execution_count": null,
   "outputs": []
  },
  {
   "cell_type": "code",
   "source": [
    "print(results_turkish)"
   ],
   "metadata": {
    "colab": {
     "base_uri": "https://localhost:8080/"
    },
    "id": "IdgRucs08h2h",
    "outputId": "59eb0ffe-b3a8-40d2-f797-b66a86e7274c",
    "ExecuteTime": {
     "start_time": "2023-12-17T15:36:58.478676Z"
    }
   },
   "execution_count": null,
   "outputs": []
  },
  {
   "cell_type": "code",
   "source": [
    "results_german = Detoxify('multilingual').predict('Halt die fresse du bist ein Lügner!')"
   ],
   "metadata": {
    "id": "PQ9WAMmG-xop",
    "ExecuteTime": {
     "start_time": "2023-12-17T15:36:58.479562Z"
    }
   },
   "execution_count": null,
   "outputs": []
  },
  {
   "cell_type": "code",
   "source": [
    "print(results_german)"
   ],
   "metadata": {
    "colab": {
     "base_uri": "https://localhost:8080/"
    },
    "id": "eS4C-QO5EZID",
    "outputId": "596293a0-7a4c-4288-88bf-c962e881084f",
    "ExecuteTime": {
     "start_time": "2023-12-17T15:36:58.480524Z"
    }
   },
   "execution_count": null,
   "outputs": []
  },
  {
   "cell_type": "code",
   "source": [
    "print(pd.DataFrame(results,results_unbiased,results_german).round(5))"
   ],
   "metadata": {
    "colab": {
     "base_uri": "https://localhost:8080/"
    },
    "id": "82kl_jPL89Ib",
    "outputId": "d9fa3ec3-6e32-42f6-81cb-9bfada30ed4f",
    "ExecuteTime": {
     "start_time": "2023-12-17T15:36:58.481422Z"
    }
   },
   "execution_count": null,
   "outputs": []
  },
  {
   "cell_type": "markdown",
   "source": [
    "Sources\n",
    "\n",
    "https://huggingface.co/kornosk/bert-election2020-twitter-stance-trump-KE-MLM\n",
    "\n",
    "https://huggingface.co/unitary/toxic-bert\n",
    "\n",
    "https://github.com/unitaryai/detoxify\n",
    "\n",
    "https://huggingface.co/docs/transformers/model_doc/bert\n",
    "\n",
    "https://huggingface.co/models?other=politics&sort=trending\n",
    "\n",
    "https://wandb.ai/mukilan/BERT_Sentiment_Analysis/reports/An-Introduction-to-BERT-And-How-To-Use-It--VmlldzoyNTIyOTA1#bert-based-models\n",
    "\n",
    "\n",
    "\n"
   ],
   "metadata": {
    "id": "bRqaDQ5tHjln"
   }
  }
 ]
}
