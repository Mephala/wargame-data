{
 "cells": [
  {
   "cell_type": "code",
   "execution_count": 1,
   "metadata": {
    "collapsed": true
   },
   "outputs": [],
   "source": [
    "import pandas as pd\n",
    "pd.set_option(\"max_columns\", None)"
   ]
  },
  {
   "cell_type": "code",
   "execution_count": 3,
   "metadata": {
    "collapsed": true
   },
   "outputs": [],
   "source": [
    "from lxml import etree"
   ]
  },
  {
   "cell_type": "code",
   "execution_count": 4,
   "metadata": {
    "collapsed": false
   },
   "outputs": [],
   "source": [
    "tammunition = etree.parse(\"../raws/510049986/NDF_Win/pc/ndf/patchable/gfx/everything/TAmmunition.xml\")"
   ]
  },
  {
   "cell_type": "code",
   "execution_count": 8,
   "metadata": {
    "collapsed": true
   },
   "outputs": [],
   "source": [
    "demo_element = tammunition.findall(\"TAmmunition\")[0]"
   ]
  },
  {
   "cell_type": "code",
   "execution_count": 12,
   "metadata": {
    "collapsed": false
   },
   "outputs": [
    {
     "data": {
      "text/plain": [
       "[('id', '16533')]"
      ]
     },
     "execution_count": 12,
     "metadata": {},
     "output_type": "execute_result"
    }
   ],
   "source": [
    "demo_element.items()"
   ]
  },
  {
   "cell_type": "code",
   "execution_count": 20,
   "metadata": {
    "collapsed": false
   },
   "outputs": [],
   "source": [
    "demo_sub_element = demo_element.iterchildren().__next__()"
   ]
  },
  {
   "cell_type": "code",
   "execution_count": 24,
   "metadata": {
    "collapsed": false
   },
   "outputs": [
    {
     "data": {
      "text/plain": [
       "'DescriptorId'"
      ]
     },
     "execution_count": 24,
     "metadata": {},
     "output_type": "execute_result"
    }
   ],
   "source": [
    "demo_sub_element.tag"
   ]
  },
  {
   "cell_type": "code",
   "execution_count": 23,
   "metadata": {
    "collapsed": false
   },
   "outputs": [
    {
     "data": {
      "text/plain": [
       "'00000000-0000-0000-0600-000031080000'"
      ]
     },
     "execution_count": 23,
     "metadata": {},
     "output_type": "execute_result"
    }
   ],
   "source": [
    "demo_sub_element.text"
   ]
  },
  {
   "cell_type": "code",
   "execution_count": 25,
   "metadata": {
    "collapsed": false
   },
   "outputs": [],
   "source": [
    "element_dict = dict()\n",
    "for element in tammunition.findall(\"TAmmunition\")[0]:\n",
    "    tag, text = element.tag, element.text\n",
    "    element_dict[tag] = text"
   ]
  },
  {
   "cell_type": "code",
   "execution_count": 26,
   "metadata": {
    "collapsed": false
   },
   "outputs": [
    {
     "data": {
      "text/plain": [
       "{'AffecteParNombre': 'null',\n",
       " 'AffichageMenu': 'null',\n",
       " 'AffichageMunitionParSalve': '1',\n",
       " 'AngleDispersion': '0.1',\n",
       " 'Arme': '4',\n",
       " 'Caliber': 'null',\n",
       " 'CorrectedShotDispersionMultiplier': 'null',\n",
       " 'DescriptorId': '00000000-0000-0000-0600-000031080000',\n",
       " 'DispersionAtMaxRange': 'null',\n",
       " 'DispersionAtMinRange': 'null',\n",
       " 'EfficaciteSelonPortee': 'null',\n",
       " 'FX_frottement': '0.001',\n",
       " 'FX_tir_sans_physic': 'True',\n",
       " 'FX_tir_tendu': 'True',\n",
       " 'FX_vitesse_de_depart': '10000',\n",
       " 'FireDescriptor': '82 : 27774 (True) - TUniteDescriptor',\n",
       " 'FireTriggeringProbability': '0.15',\n",
       " 'Guidance': 'null',\n",
       " 'HitRollRule': '113 : 27773 (False) - TModernWarfareHitRollRule',\n",
       " 'IgnoreInflammabilityConditions': 'null',\n",
       " 'InterdireTirReflexe': 'null',\n",
       " 'InterfaceWeaponTexture': 'null',\n",
       " 'IsFireAndForget': 'null',\n",
       " 'IsSubAmmunition': 'null',\n",
       " 'Level': '5',\n",
       " 'MissileDescriptor': 'null',\n",
       " 'MissileTimeBetweenCorrections': 'null',\n",
       " 'Name': '9CF6380000000000',\n",
       " 'NbTirParSalves': '1',\n",
       " 'NbrProjectilesSimultanes': '1',\n",
       " 'NeedModelChange': 'null',\n",
       " 'NoiseDissimulationMalus': 'null',\n",
       " 'PhysicalDamages': 'null',\n",
       " 'PorteeMaximale': '208000',\n",
       " 'PorteeMaximaleBateaux': '208000',\n",
       " 'PorteeMaximaleHA': 'null',\n",
       " 'PorteeMaximaleProjectile': 'null',\n",
       " 'PorteeMaximaleTBA': 'null',\n",
       " 'PorteeMinimale': 'null',\n",
       " 'PorteeMinimaleBateaux': 'null',\n",
       " 'PorteeMinimaleHA': 'null',\n",
       " 'PorteeMinimaleProjectile': 'null',\n",
       " 'PorteeMinimaleTBA': 'null',\n",
       " 'ProjectileType': '3',\n",
       " 'Puissance': '500',\n",
       " 'RadiusSplashPhysicalDamages': 'null',\n",
       " 'RadiusSplashSuppressDamages': '52000',\n",
       " 'RandomDispersion': 'null',\n",
       " 'RayonPinned': '20800',\n",
       " 'SmokeDescriptor': 'null',\n",
       " 'SupplyCost': 'null',\n",
       " 'SuppressDamages': '180',\n",
       " 'TempsAnimation': 'null',\n",
       " 'TempsDeVisee': 'null',\n",
       " 'TempsEntreDeuxFx': '0.5',\n",
       " 'TempsEntreDeuxSalves': '5',\n",
       " 'TempsEntreDeuxTirs': '0.5',\n",
       " 'TirIndirect': 'True',\n",
       " 'TirReflexe': 'True',\n",
       " 'TypeArme': '9CF6380000000000',\n",
       " 'TypeName': '9CF6380000000000',\n",
       " 'WeaponCursorType': 'null'}"
      ]
     },
     "execution_count": 26,
     "metadata": {},
     "output_type": "execute_result"
    }
   ],
   "source": [
    "element_dict"
   ]
  },
  {
   "cell_type": "code",
   "execution_count": 28,
   "metadata": {
    "collapsed": false
   },
   "outputs": [],
   "source": [
    "# pd.Series(element_dict)"
   ]
  },
  {
   "cell_type": "code",
   "execution_count": 58,
   "metadata": {
    "collapsed": true
   },
   "outputs": [],
   "source": [
    "tunits = etree.parse(\"../raws/510049986/NDF_Win/pc/ndf/patchable/gfx/everything/TUniteAuSolDescriptor.xml\")\n",
    "weapon_managers = etree.parse(\"../raws/510049986/NDF_Win/pc/ndf/patchable/gfx/everything/TWeaponManagerModuleDescriptor.xml\")"
   ]
  },
  {
   "cell_type": "code",
   "execution_count": 74,
   "metadata": {
    "collapsed": false
   },
   "outputs": [
    {
     "data": {
      "text/plain": [
       "[]"
      ]
     },
     "execution_count": 74,
     "metadata": {},
     "output_type": "execute_result"
    }
   ],
   "source": [
    "weapon_managers.findall(\"TWeaponManagerModuleDescriptor[@id='27760']\")"
   ]
  },
  {
   "cell_type": "code",
   "execution_count": 72,
   "metadata": {
    "collapsed": true
   },
   "outputs": [],
   "source": [
    "def serialize_unit(tunit_xml, weapon_manager_xml):\n",
    "    id = tunit_xml.items()[0][1]\n",
    "    unit = pd.Series()\n",
    "    unit['ID'] = id\n",
    "    for tunit_element in tunit_xml:\n",
    "        tag = tunit_element.tag\n",
    "        # The complex case.\n",
    "        if tag == \"Modules\":\n",
    "            # Find the WeaponManager module ID.\n",
    "            modules = [collectionelement.text for collectionelement in tunit_element]\n",
    "            weapon_manager_text = list(filter(lambda module: \"WeaponManager\" in module, modules))[0]\n",
    "            weapon_manager_id = weapon_manager_text.split(\":\")[-1].split(\" \")[1]\n",
    "            # Recursively pass it to serialize_weapon_manager.\n",
    "            serialize_weapon_manager(unit, weapon_manager_id, weapon_manager_xml)\n",
    "            pass\n",
    "        # All other cases are simple.\n",
    "        elif tag == \"ProductionPrice\":\n",
    "            production_prices = [collectionelement.text for collectionelement in tunit_element]\n",
    "            # e.g. production_prices = [90, 15, 15, 15, 15].\n",
    "            # This structure seems to allow variation of price based on veterancy, but this feature is not used in-game.\n",
    "            actual_price = production_prices[0]\n",
    "            unit['ProductionPrice'] = actual_price\n",
    "        elif tag == \"MaxDeployableAmount\":\n",
    "            deployable_amounts = [collectionelement.text for collectionelement in tunit_element]\n",
    "            for i, vet_availability in enumerate(['RookieDeployableAmount', 'TrainedDeployableAmount', \n",
    "                                               'HardenedDeployableAmount', 'VeteranDeployableAmount',\n",
    "                                               'EliteDeployableAmount']):\n",
    "                unit[vet_availability] = deployable_amounts[i]\n",
    "        # Ignore junk group tags\n",
    "        elif tag in [\"ShowInMenu\", \"UnitTypeTokens\"]:\n",
    "            pass\n",
    "        else:\n",
    "            val = tunit_element.text\n",
    "            unit[tag] = val\n",
    "    return unit\n",
    "\n",
    "def serialize_weapon_manager(unit, weapon_manager_id, weapon_manager_xml):\n",
    "    print(weapon_manager_id)\n",
    "    weapon_manager = weapon_manager_xml.findall(\"TWeaponManagerModuleDescriptor[@id='{0}']\".format(weapon_manager_id))[0]\n",
    "    print(weapon_manager)\n",
    "#     weapon_manager = list(filter(lambda manager: manager.items()[0][1] == weapon_manager_id, weapon_manager_xml))[0]\n",
    "#     print(weapon_manager)"
   ]
  },
  {
   "cell_type": "code",
   "execution_count": 73,
   "metadata": {
    "collapsed": false,
    "scrolled": false
   },
   "outputs": [
    {
     "name": "stdout",
     "output_type": "stream",
     "text": [
      "16519\n"
     ]
    },
    {
     "ename": "IndexError",
     "evalue": "list index out of range",
     "output_type": "error",
     "traceback": [
      "\u001b[0;31m---------------------------------------------------------------------------\u001b[0m",
      "\u001b[0;31mIndexError\u001b[0m                                Traceback (most recent call last)",
      "\u001b[0;32m<ipython-input-73-f373a694713f>\u001b[0m in \u001b[0;36m<module>\u001b[0;34m()\u001b[0m\n\u001b[0;32m----> 1\u001b[0;31m \u001b[0mserialize_unit\u001b[0m\u001b[1;33m(\u001b[0m\u001b[0mtunits\u001b[0m\u001b[1;33m.\u001b[0m\u001b[0mfindall\u001b[0m\u001b[1;33m(\u001b[0m\u001b[1;34m\"TUniteAuSolDescriptor\"\u001b[0m\u001b[1;33m)\u001b[0m\u001b[1;33m[\u001b[0m\u001b[1;36m0\u001b[0m\u001b[1;33m]\u001b[0m\u001b[1;33m,\u001b[0m \u001b[0mweapon_managers\u001b[0m\u001b[1;33m)\u001b[0m\u001b[1;33m\u001b[0m\u001b[0m\n\u001b[0m",
      "\u001b[0;32m<ipython-input-72-c048bf58e195>\u001b[0m in \u001b[0;36mserialize_unit\u001b[0;34m(tunit_xml, weapon_manager_xml)\u001b[0m\n\u001b[1;32m     12\u001b[0m             \u001b[0mweapon_manager_id\u001b[0m \u001b[1;33m=\u001b[0m \u001b[0mweapon_manager_text\u001b[0m\u001b[1;33m.\u001b[0m\u001b[0msplit\u001b[0m\u001b[1;33m(\u001b[0m\u001b[1;34m\":\"\u001b[0m\u001b[1;33m)\u001b[0m\u001b[1;33m[\u001b[0m\u001b[1;33m-\u001b[0m\u001b[1;36m1\u001b[0m\u001b[1;33m]\u001b[0m\u001b[1;33m.\u001b[0m\u001b[0msplit\u001b[0m\u001b[1;33m(\u001b[0m\u001b[1;34m\" \"\u001b[0m\u001b[1;33m)\u001b[0m\u001b[1;33m[\u001b[0m\u001b[1;36m1\u001b[0m\u001b[1;33m]\u001b[0m\u001b[1;33m\u001b[0m\u001b[0m\n\u001b[1;32m     13\u001b[0m             \u001b[1;31m# Recursively pass it to serialize_weapon_manager.\u001b[0m\u001b[1;33m\u001b[0m\u001b[1;33m\u001b[0m\u001b[0m\n\u001b[0;32m---> 14\u001b[0;31m             \u001b[0mserialize_weapon_manager\u001b[0m\u001b[1;33m(\u001b[0m\u001b[0munit\u001b[0m\u001b[1;33m,\u001b[0m \u001b[0mweapon_manager_id\u001b[0m\u001b[1;33m,\u001b[0m \u001b[0mweapon_manager_xml\u001b[0m\u001b[1;33m)\u001b[0m\u001b[1;33m\u001b[0m\u001b[0m\n\u001b[0m\u001b[1;32m     15\u001b[0m             \u001b[1;32mpass\u001b[0m\u001b[1;33m\u001b[0m\u001b[0m\n\u001b[1;32m     16\u001b[0m         \u001b[1;31m# All other cases are simple.\u001b[0m\u001b[1;33m\u001b[0m\u001b[1;33m\u001b[0m\u001b[0m\n",
      "\u001b[0;32m<ipython-input-72-c048bf58e195>\u001b[0m in \u001b[0;36mserialize_weapon_manager\u001b[0;34m(unit, weapon_manager_id, weapon_manager_xml)\u001b[0m\n\u001b[1;32m     37\u001b[0m \u001b[1;32mdef\u001b[0m \u001b[0mserialize_weapon_manager\u001b[0m\u001b[1;33m(\u001b[0m\u001b[0munit\u001b[0m\u001b[1;33m,\u001b[0m \u001b[0mweapon_manager_id\u001b[0m\u001b[1;33m,\u001b[0m \u001b[0mweapon_manager_xml\u001b[0m\u001b[1;33m)\u001b[0m\u001b[1;33m:\u001b[0m\u001b[1;33m\u001b[0m\u001b[0m\n\u001b[1;32m     38\u001b[0m     \u001b[0mprint\u001b[0m\u001b[1;33m(\u001b[0m\u001b[0mweapon_manager_id\u001b[0m\u001b[1;33m)\u001b[0m\u001b[1;33m\u001b[0m\u001b[0m\n\u001b[0;32m---> 39\u001b[0;31m     \u001b[0mweapon_manager\u001b[0m \u001b[1;33m=\u001b[0m \u001b[0mweapon_manager_xml\u001b[0m\u001b[1;33m.\u001b[0m\u001b[0mfindall\u001b[0m\u001b[1;33m(\u001b[0m\u001b[1;34m\"TWeaponManagerModuleDescriptor[@id='{0}']\"\u001b[0m\u001b[1;33m.\u001b[0m\u001b[0mformat\u001b[0m\u001b[1;33m(\u001b[0m\u001b[0mweapon_manager_id\u001b[0m\u001b[1;33m)\u001b[0m\u001b[1;33m)\u001b[0m\u001b[1;33m[\u001b[0m\u001b[1;36m0\u001b[0m\u001b[1;33m]\u001b[0m\u001b[1;33m\u001b[0m\u001b[0m\n\u001b[0m\u001b[1;32m     40\u001b[0m     \u001b[0mprint\u001b[0m\u001b[1;33m(\u001b[0m\u001b[0mweapon_manager\u001b[0m\u001b[1;33m)\u001b[0m\u001b[1;33m\u001b[0m\u001b[0m\n\u001b[1;32m     41\u001b[0m \u001b[1;31m#     weapon_manager = list(filter(lambda manager: manager.items()[0][1] == weapon_manager_id, weapon_manager_xml))[0]\u001b[0m\u001b[1;33m\u001b[0m\u001b[1;33m\u001b[0m\u001b[0m\n",
      "\u001b[0;31mIndexError\u001b[0m: list index out of range"
     ]
    }
   ],
   "source": [
    "serialize_unit(tunits.findall(\"TUniteAuSolDescriptor\")[0], weapon_managers)"
   ]
  },
  {
   "cell_type": "code",
   "execution_count": 31,
   "metadata": {
    "collapsed": false
   },
   "outputs": [],
   "source": [
    "for descriptor in tunits.findall(\"TUniteAuSolDescriptor\"):\n",
    "    pass"
   ]
  },
  {
   "cell_type": "code",
   "execution_count": null,
   "metadata": {
    "collapsed": true
   },
   "outputs": [],
   "source": []
  }
 ],
 "metadata": {
  "anaconda-cloud": {},
  "kernelspec": {
   "display_name": "Python [conda env:wargame-analysis]",
   "language": "python",
   "name": "conda-env-wargame-analysis-py"
  },
  "language_info": {
   "codemirror_mode": {
    "name": "ipython",
    "version": 3
   },
   "file_extension": ".py",
   "mimetype": "text/x-python",
   "name": "python",
   "nbconvert_exporter": "python",
   "pygments_lexer": "ipython3",
   "version": "3.5.2"
  }
 },
 "nbformat": 4,
 "nbformat_minor": 1
}
