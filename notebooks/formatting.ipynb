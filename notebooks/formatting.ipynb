{
 "cells": [
  {
   "cell_type": "code",
   "execution_count": 2,
   "metadata": {
    "collapsed": true
   },
   "outputs": [],
   "source": [
    "import pandas as pd\n",
    "%matplotlib inline\n",
    "import seaborn as sns\n",
    "import numpy as np"
   ]
  },
  {
   "cell_type": "code",
   "execution_count": 4,
   "metadata": {
    "collapsed": false
   },
   "outputs": [
    {
     "name": "stderr",
     "output_type": "stream",
     "text": [
      "C:\\Users\\Alex\\Anaconda3\\lib\\site-packages\\IPython\\core\\interactiveshell.py:2717: DtypeWarning: Columns (13,28,43,50,51,60,62,66,68,69,73,77,79,80,82,83,84,85,86,87,90,91,92,93,97,98,101,107,109,110,111,112,113,114,118,120,121,122,124,125,127,128,132,133,134,135,136,137,139,140,144,148,150,151,153,154,155,156,157,158,161,162,163,164,168,169,172,178,180,181,182,183,184,185,189,191,192,193,196,198,203,204,205,206,207,208,210,211,215,219,221,222,224,225,226,227,228,229,232,233,234,235,239,240,243,249,251,252,253,254,255,256,260,262,263,264,267,269,274,275,276,277,278,279,281,282,286,290,292,293,295,296,297,298,299,303,304,305,306,310,311,314,322,323,324,325,326,327,331,333,334,335,337,338,340,341,345,346,347,348,349,350,352,353,357,361,363,364,366,367,368,369,370,374,375,376,377,381,382,385,393,394,395,396,397,398,402,404,405,406,408,409,411,412,416,417,418,419,420,421,431,445,446,460,485,486,488,504,506,518,519,558,573,574,577,579,582,591,592,627,632,634,646,650,652,662,663,698,702,713,714,717,718,721,722,723,724,725,727,728,729,730,731,732,733,734,735,736,737,738,742,743,746,748,749,750,751,752,753,754,755,756,757,758,759,763,765,766,767,769,770,772,773,777,778,779,780,781,782,784,785,788,789,792,793,795,796,798,799,800,801,802,803,804,805,806,807,808,809,813,814,817,820,821,822,823,824,825,826,827,828,829,830,834,836,837,838,840,841,843,844,848,849,850,851,852,853,855,856,859,860,864,866,867,869,870,871,872,873,874,877,878,879,880,884,885,888,893,894,895,896,897,898,899,900,901,905,907,908,909,911,912,914,915,919,920,921,922,923,924,926,927,931,935,937,938,940,941,942,943,944,945,948,949,950,951,955,956,959,962,963,964,965,967,968,969,970,971,972,976,978,979,980,982,983,985,986,990,991,992,993,994,995,997,998,1002,1006,1008,1009,1011,1012,1013,1014,1015,1016,1019,1020,1021,1022,1026,1027,1030,1035,1036,1037,1038,1039,1040,1041,1042,1043,1047,1049,1050,1051,1053,1054,1056,1057,1061,1062,1063,1064,1065,1066,1068) have mixed types. Specify dtype option on import or set low_memory=False.\n",
      "  interactivity=interactivity, compiler=compiler, result=result)\n"
     ]
    }
   ],
   "source": [
    "units = pd.read_csv(\"../data/510049986/raw_data.csv\", encoding=\"windows-1252\", index_col=0)\n",
    "hashes = pd.read_csv(\"../raws/510053208/ZZ_Win/pc/localisation/us/localisation/unites_fixed.csv\", \n",
    "                     encoding='windows-1252', \n",
    "                     index_col=0)"
   ]
  },
  {
   "cell_type": "code",
   "execution_count": 5,
   "metadata": {
    "collapsed": false
   },
   "outputs": [
    {
     "data": {
      "text/html": [
       "<div>\n",
       "<table border=\"1\" class=\"dataframe\">\n",
       "  <thead>\n",
       "    <tr style=\"text-align: right;\">\n",
       "      <th></th>\n",
       "      <th>Hash</th>\n",
       "      <th>String</th>\n",
       "    </tr>\n",
       "  </thead>\n",
       "  <tbody>\n",
       "    <tr>\n",
       "      <th>0</th>\n",
       "      <td>DC02000000000000</td>\n",
       "      <td>Anti-Radar</td>\n",
       "    </tr>\n",
       "    <tr>\n",
       "      <th>1</th>\n",
       "      <td>4203000000000000</td>\n",
       "      <td>C1A1 SLR</td>\n",
       "    </tr>\n",
       "    <tr>\n",
       "      <th>2</th>\n",
       "      <td>4303000000000000</td>\n",
       "      <td>C2A1</td>\n",
       "    </tr>\n",
       "    <tr>\n",
       "      <th>3</th>\n",
       "      <td>9A03000000000000</td>\n",
       "      <td>Type 64 LMG</td>\n",
       "    </tr>\n",
       "    <tr>\n",
       "      <th>4</th>\n",
       "      <td>4405000000000000</td>\n",
       "      <td>K3 LMG</td>\n",
       "    </tr>\n",
       "  </tbody>\n",
       "</table>\n",
       "</div>"
      ],
      "text/plain": [
       "               Hash       String\n",
       "0  DC02000000000000   Anti-Radar\n",
       "1  4203000000000000     C1A1 SLR\n",
       "2  4303000000000000         C2A1\n",
       "3  9A03000000000000  Type 64 LMG\n",
       "4  4405000000000000       K3 LMG"
      ]
     },
     "execution_count": 5,
     "metadata": {},
     "output_type": "execute_result"
    }
   ],
   "source": [
    "hashes.head()"
   ]
  },
  {
   "cell_type": "code",
   "execution_count": 13,
   "metadata": {
    "collapsed": false
   },
   "outputs": [],
   "source": [
    "decks = {\n",
    "    '8BD43C9757360E00': 'Mechanized',\n",
    "    '5C76718B57360E00': 'Armored',\n",
    "    '5E767965E3000000': 'Motorized',\n",
    "    'DAD77965E3000000': 'Support',\n",
    "    '23B8605ED9380000': 'Marine',\n",
    "    '0BB7685ED9380000': 'Airborne'\n",
    "}\n",
    "\n",
    "\n",
    "units['DeckTypes'] = units['UnitTypeTokens'].map(eval).map(lambda l: [decks[i] for i in l])"
   ]
  },
  {
   "cell_type": "code",
   "execution_count": 17,
   "metadata": {
    "collapsed": true
   },
   "outputs": [],
   "source": [
    "movers = {\n",
    "    1: 'Foot',\n",
    "    2: 'Wheeled',\n",
    "    3: 'Wheeled',\n",
    "    5: 'Tracked',\n",
    "    6: 'Air',\n",
    "    7: 'Wheeled',\n",
    "    8: 'Tracked',\n",
    "    9: 'Water'\n",
    "}\n",
    "amphib = {\n",
    "    1: False,\n",
    "    2: False,\n",
    "    3: False,\n",
    "    5: False,\n",
    "    6: np.nan,\n",
    "    7: True,\n",
    "    8: True,\n",
    "    9: np.nan\n",
    "}\n",
    "\n",
    "units['MovementType'] = units['UnitMovingType'].map(movers)\n",
    "units['Amphibious'] = units['UnitMovingType'].map(amphib)"
   ]
  },
  {
   "cell_type": "code",
   "execution_count": 20,
   "metadata": {
    "collapsed": false
   },
   "outputs": [
    {
     "data": {
      "text/plain": [
       "Tracked    670\n",
       "Air        448\n",
       "Wheeled    372\n",
       "Foot       296\n",
       "Water       32\n",
       "Name: MovementType, dtype: int64"
      ]
     },
     "execution_count": 20,
     "metadata": {},
     "output_type": "execute_result"
    }
   ],
   "source": [
    "units['MovementType'].value_counts(dropna=False)"
   ]
  },
  {
   "cell_type": "code",
   "execution_count": 23,
   "metadata": {
    "collapsed": false
   },
   "outputs": [],
   "source": [
    "training = {\n",
    "    '8F37594F19619C07' : 'Elite',\n",
    "    '5593495D19619C07' : 'Shock',\n",
    "    'D6173D5C19619C07' : 'Regular',\n",
    "    'DE644D5719619C07' : 'Militia',\n",
    "    'null': np.nan\n",
    "}\n",
    "\n",
    "units['TrainingLevel'] = units['Training'].map(training)"
   ]
  },
  {
   "cell_type": "code",
   "execution_count": 25,
   "metadata": {
    "collapsed": true
   },
   "outputs": [],
   "source": [
    "ciws = {\n",
    "    '4F233E0000000000': 'Exceptional',\n",
    "    '4E96452000000000': 'Very Good',\n",
    "    '4E96450000000000': 'Good',\n",
    "    'D672711906000000': 'Medium',\n",
    "    'CEC2000000000000': 'Bad',\n",
    "    'null': np.nan\n",
    "}\n",
    "\n",
    "units['CIWSLevel'] = units['CIWS'].map(ciws)"
   ]
  },
  {
   "cell_type": "code",
   "execution_count": 26,
   "metadata": {
    "collapsed": true
   },
   "outputs": [],
   "source": [
    "sailing = {\n",
    "    'CBD32D65B4780000': 'Deep Sea',\n",
    "    'CBD33165B4780000': 'Coastal',\n",
    "    'CBD33565B4780000': 'Riverine',\n",
    "    'null': np.nan\n",
    "}\n",
    "units['SailingType'] = units['Sailing'].map(sailing)"
   ]
  },
  {
   "cell_type": "code",
   "execution_count": 171,
   "metadata": {
    "collapsed": false
   },
   "outputs": [],
   "source": [
    "def weaponify(unit):\n",
    "    srs = pd.Series()\n",
    "    prev_wep_name = \"\"\n",
    "    for i in range(1, 12):\n",
    "        wep_name = unit['Weapon{0}Name'.format(i)]\n",
    "        if pd.isnull(wep_name):\n",
    "            return srs\n",
    "        elif wep_name == prev_wep_name:\n",
    "            # Two cases: HE-AP split, and smoke rounds.\n",
    "            if (unit['Weapon{0}PhysicalDamages'.format(i)] == \"null\" or pd.isnan(unit['Weapon{0}PhysicalDamages'.format(i)]))\\\n",
    "                and (unit['Weapon{0}Arme'.format(i)].isin([\"null\", 3]) or pd.isnan(unit['Weapon{0}Arme'.format(i)])):  # smoke\n",
    "                srs['CanSmoke'.format(i)] = True\n",
    "            elif (unit['Weapon{0}PhysicalDamages'.format(i)] == \"null\" \n",
    "                  or pd.isnan(unit['Weapon{0}PhysicalDamages'.format(i)])):  # HE component\n",
    "                srs['Arme'] = unit['Weapon{0}Arme'.format(i)]\n",
    "            elif (unit['Weapon{0}Arme'] == \"null\" or pd.isnan(unit['Weapon{0}Arme'])):  # AP component\n",
    "                srs['PhysicalDamages'] = unit['Weapon{0}PhysicalDamages'.format(i)]            \n",
    "            else:\n",
    "                raise ValueError(\"You failed!\")\n",
    "        else:\n",
    "            pass"
   ]
  },
  {
   "cell_type": "code",
   "execution_count": 174,
   "metadata": {
    "collapsed": false
   },
   "outputs": [
    {
     "data": {
      "text/plain": [
       "Series([], dtype: float64)"
      ]
     },
     "execution_count": 174,
     "metadata": {},
     "output_type": "execute_result"
    }
   ],
   "source": [
    "weaponify(units.iloc[0])"
   ]
  }
 ],
 "metadata": {
  "kernelspec": {
   "display_name": "Python 3",
   "language": "python",
   "name": "python3"
  },
  "language_info": {
   "codemirror_mode": {
    "name": "ipython",
    "version": 3
   },
   "file_extension": ".py",
   "mimetype": "text/x-python",
   "name": "python",
   "nbconvert_exporter": "python",
   "pygments_lexer": "ipython3",
   "version": "3.5.2"
  }
 },
 "nbformat": 4,
 "nbformat_minor": 0
}
