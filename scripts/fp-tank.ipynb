{
 "cells": [
  {
   "cell_type": "code",
   "execution_count": 32,
   "metadata": {
    "collapsed": true
   },
   "outputs": [
    {
     "name": "stdout",
     "output_type": "stream",
     "text": [
      "hello\n"
     ]
    }
   ],
   "source": [
    "print('hello')"
   ]
  },
  {
   "cell_type": "code",
   "execution_count": 49,
   "outputs": [
    {
     "name": "stdout",
     "output_type": "stream",
     "text": [
      "Weapon1AP\n",
      "Weapon1AimTime\n",
      "Weapon1AngleDispersion\n",
      "Weapon1Caliber\n",
      "Weapon1CanSmoke\n",
      "Weapon1CorrectedShotDispersionMultiplier\n",
      "Weapon1DispersionAtMaxRange\n",
      "Weapon1DispersionAtMinRange\n",
      "Weapon1DisplayedAmmunition\n",
      "Weapon1FireTriggeringProbability\n",
      "Weapon1HE\n",
      "Weapon1HitProbability\n",
      "Weapon1HitProbabilityWhileMoving\n",
      "Weapon1MinimalCritProbability\n",
      "Weapon1MinimalHitProbability\n",
      "Weapon1MissileMaxAcceleration\n",
      "Weapon1MissileMaxSpeed\n",
      "Weapon1MissileTimeBetweenCorrections\n",
      "Weapon1Name\n",
      "Weapon1Noise\n",
      "Weapon1NumberOfSalvos\n",
      "Weapon1PositionOnCard\n",
      "Weapon1ProjectilesPerShot\n",
      "Weapon1RadiusSplashPhysicalDamage\n",
      "Weapon1RadiusSplashSuppressDamage\n",
      "Weapon1RangeGround\n",
      "Weapon1RangeGroundMinimum\n",
      "Weapon1RangeHelicopters\n",
      "Weapon1RangeHelicoptersMinimum\n",
      "Weapon1RangeMissiles\n",
      "Weapon1RangeMissilesMinimum\n",
      "Weapon1RangePlanes\n",
      "Weapon1RangePlanesMinimum\n",
      "Weapon1RangeShip\n",
      "Weapon1RangeShipMinimum\n",
      "Weapon1RayonPinned\n",
      "Weapon1ShotsPerSalvo\n",
      "Weapon1SupplyCost\n",
      "Weapon1Tags\n",
      "Weapon1TimeBetweenSalvos\n",
      "Weapon1TimeBetweenShots\n",
      "Weapon1Type\n"
     ]
    },
    {
     "name": "stderr",
     "output_type": "stream",
     "text": [
      "/tmp/ipykernel_1551634/3737748461.py:3: DtypeWarning: Columns (2,12,79,80,92,112,115,119,120,132,152,155,285,286,300,320,323,327,328,342,362,365,369,370,384,404,407,411,412,424,444,447,451,452,466,486,489,493,494,506,526,529) have mixed types. Specify dtype option on import or set low_memory=False.\n",
      "  df = pd.read_csv('../data/510064564/final_data.csv')\n"
     ]
    }
   ],
   "source": [
    "import pandas as pd\n",
    "\n",
    "df = pd.read_csv('../data/510064564/final_data.csv')\n",
    "pd.set_option('display.max_columns', None)\n",
    "df.head()\n",
    "for c in df.columns:\n",
    "    if 'Weapon1' in c and 'Weapon10' not in c and 'Weapon11' not in c:\n",
    "        print(c)"
   ],
   "metadata": {
    "collapsed": false,
    "pycharm": {
     "name": "#%%\n"
    }
   }
  },
  {
   "cell_type": "code",
   "execution_count": 68,
   "outputs": [
    {
     "name": "stderr",
     "output_type": "stream",
     "text": [
      "/tmp/ipykernel_1551634/2772801903.py:27: SettingWithCopyWarning: \n",
      "A value is trying to be set on a copy of a slice from a DataFrame.\n",
      "Try using .loc[row_indexer,col_indexer] = value instead\n",
      "\n",
      "See the caveats in the documentation: https://pandas.pydata.org/pandas-docs/stable/user_guide/indexing.html#returning-a-view-versus-a-copy\n",
      "  y['Utility'] = compute_frontal_meat_shield(y)\n",
      "/tmp/ipykernel_1551634/2772801903.py:28: SettingWithCopyWarning: \n",
      "A value is trying to be set on a copy of a slice from a DataFrame\n",
      "\n",
      "See the caveats in the documentation: https://pandas.pydata.org/pandas-docs/stable/user_guide/indexing.html#returning-a-view-versus-a-copy\n",
      "  y.sort_values(by=['Utility'],inplace=True, ascending=False)\n"
     ]
    },
    {
     "data": {
      "text/plain": "                   Name   Utility  Price  Weapon1TimeBetweenSalvos  \\\n465                  K1  0.188889   90.0                       6.6   \n565           LEOPARD 2  0.187500   80.0                       6.6   \n293             CHIMERA  0.181818  110.0                       8.5   \n278   CHALLENGER 1 Mk.1  0.180952  105.0                       8.5   \n784    MAG'ACH 7C GIMEL  0.178947   95.0                       6.0   \n294        CH'ONMA-HO V  0.177778   90.0                       7.5   \n1185        T-72M1 WILK  0.176471   85.0                       6.6   \n1166             T-72B1  0.176471   85.0                       7.5   \n1114          STRV 103D  0.166667   90.0                       4.0   \n1173            T-72M1M  0.166667   90.0                       7.5   \n1165              T-72B  0.166667   90.0                       7.5   \n1167     T-72B Obr 1987  0.163636  110.0                       7.5   \n1160             T-64BM  0.160000  100.0                       6.6   \n566         LEOPARD 2A1  0.160000  100.0                       6.6   \n572      LEOPARD 2A1 NL  0.160000  100.0                       6.6   \n1187              T-80A  0.160000  100.0                       6.6   \n281   CHALLENGER 1 Mk.2  0.158333  120.0                       8.5   \n741               M-84A  0.157895   95.0                       6.6   \n1189             T-80BV  0.154545  110.0                       6.6   \n1159            T-64BV1  0.154545  110.0                       6.6   \n1176         KPz T-72S1  0.150000  120.0                       7.5   \n663         M1A1 ABRAMS  0.147826  115.0                       6.6   \n567         LEOPARD 2A4  0.146154  130.0                       6.6   \n1177              T-72S  0.144000  125.0                       7.5   \n1178              T-72S  0.144000  125.0                       7.5   \n1179          KPz T-72S  0.144000  125.0                       7.5   \n1168     T-72B Obr 1989  0.142857  140.0                       7.5   \n661     M1A1(HA) ABRAMS  0.142857  140.0                       6.6   \n1175        T-72M2 WILK  0.141667  120.0                       6.6   \n1161             T-64BV  0.141667  120.0                       6.6   \n751          M-91 VIHOR  0.138462  130.0                       6.0   \n282   CHALLENGER 1 Mk.3  0.137931  145.0                       7.5   \n743              M-84AN  0.136364  110.0                       6.6   \n1275         ZTZ-85-III  0.135714  140.0                       8.5   \n801        MERKAVA IIIB  0.135484  155.0                       6.0   \n279        CHALLENGER 2  0.135294  170.0                       6.6   \n1190              T-80U  0.133333  150.0                       6.6   \n1184     T-72M2 MODERNA  0.131250  160.0                       7.5   \n573      LEOPARD 2A4 NL  0.131034  145.0                       6.6   \n574      LEOPARD 2A5 NL  0.129412  170.0                       6.6   \n1195              T-90S  0.129412  170.0                       6.6   \n750         M-91A VIHOR  0.129412  170.0                       6.0   \n581         LEOPARD 2A5  0.129412  170.0                       6.6   \n662     M1A1(HC) ABRAMS  0.129032  155.0                       6.6   \n885        PT-91 TWARDY  0.129032  155.0                       6.6   \n464                K1A1  0.128571  140.0                       6.6   \n1183          T-72M1MOD  0.127273  165.0                       6.6   \n555             LECLERC  0.127273  165.0                       5.0   \n1196             T-72BU  0.125714  175.0                       6.6   \n1191             T-80UM  0.123529  170.0                       6.6   \n\n      Weapon1HitProbability  Weapon1AP  \n465                    0.60       16.0  \n565                    0.60       16.0  \n293                    0.60       19.0  \n278                    0.60       17.0  \n784                    0.65       17.0  \n294                    0.55       19.0  \n1185                   0.50       18.0  \n1166                   0.50       18.0  \n1114                   0.65       17.0  \n1173                   0.50       18.0  \n1165                   0.50       18.0  \n1167                   0.50       18.0  \n1160                   0.55       18.0  \n566                    0.65       18.0  \n572                    0.65       18.0  \n1187                   0.50       18.0  \n281                    0.65       19.0  \n741                    0.65       19.0  \n1189                   0.55       18.0  \n1159                   0.55       19.0  \n1176                   0.50       20.0  \n663                    0.65       19.0  \n567                    0.65       19.0  \n1177                   0.50       20.0  \n1178                   0.50       20.0  \n1179                   0.50       20.0  \n1168                   0.50       20.0  \n661                    0.65       20.0  \n1175                   0.55       20.0  \n1161                   0.55       20.0  \n751                    0.70       20.0  \n282                    0.65       21.0  \n743                    0.65       19.0  \n1275                   0.65       22.0  \n801                    0.65       20.0  \n279                    0.70       22.0  \n1190                   0.60       20.0  \n1184                   0.55       23.0  \n573                    0.65       21.0  \n574                    0.70       23.0  \n1195                   0.65       23.0  \n750                    0.70       22.0  \n581                    0.70       23.0  \n662                    0.65       22.0  \n885                    0.60       22.0  \n464                    0.65       22.0  \n1183                   0.70       23.0  \n555                    0.70       22.0  \n1196                   0.65       23.0  \n1191                   0.65       23.0  ",
      "text/html": "<div>\n<style scoped>\n    .dataframe tbody tr th:only-of-type {\n        vertical-align: middle;\n    }\n\n    .dataframe tbody tr th {\n        vertical-align: top;\n    }\n\n    .dataframe thead th {\n        text-align: right;\n    }\n</style>\n<table border=\"1\" class=\"dataframe\">\n  <thead>\n    <tr style=\"text-align: right;\">\n      <th></th>\n      <th>Name</th>\n      <th>Utility</th>\n      <th>Price</th>\n      <th>Weapon1TimeBetweenSalvos</th>\n      <th>Weapon1HitProbability</th>\n      <th>Weapon1AP</th>\n    </tr>\n  </thead>\n  <tbody>\n    <tr>\n      <th>465</th>\n      <td>K1</td>\n      <td>0.188889</td>\n      <td>90.0</td>\n      <td>6.6</td>\n      <td>0.60</td>\n      <td>16.0</td>\n    </tr>\n    <tr>\n      <th>565</th>\n      <td>LEOPARD 2</td>\n      <td>0.187500</td>\n      <td>80.0</td>\n      <td>6.6</td>\n      <td>0.60</td>\n      <td>16.0</td>\n    </tr>\n    <tr>\n      <th>293</th>\n      <td>CHIMERA</td>\n      <td>0.181818</td>\n      <td>110.0</td>\n      <td>8.5</td>\n      <td>0.60</td>\n      <td>19.0</td>\n    </tr>\n    <tr>\n      <th>278</th>\n      <td>CHALLENGER 1 Mk.1</td>\n      <td>0.180952</td>\n      <td>105.0</td>\n      <td>8.5</td>\n      <td>0.60</td>\n      <td>17.0</td>\n    </tr>\n    <tr>\n      <th>784</th>\n      <td>MAG'ACH 7C GIMEL</td>\n      <td>0.178947</td>\n      <td>95.0</td>\n      <td>6.0</td>\n      <td>0.65</td>\n      <td>17.0</td>\n    </tr>\n    <tr>\n      <th>294</th>\n      <td>CH'ONMA-HO V</td>\n      <td>0.177778</td>\n      <td>90.0</td>\n      <td>7.5</td>\n      <td>0.55</td>\n      <td>19.0</td>\n    </tr>\n    <tr>\n      <th>1185</th>\n      <td>T-72M1 WILK</td>\n      <td>0.176471</td>\n      <td>85.0</td>\n      <td>6.6</td>\n      <td>0.50</td>\n      <td>18.0</td>\n    </tr>\n    <tr>\n      <th>1166</th>\n      <td>T-72B1</td>\n      <td>0.176471</td>\n      <td>85.0</td>\n      <td>7.5</td>\n      <td>0.50</td>\n      <td>18.0</td>\n    </tr>\n    <tr>\n      <th>1114</th>\n      <td>STRV 103D</td>\n      <td>0.166667</td>\n      <td>90.0</td>\n      <td>4.0</td>\n      <td>0.65</td>\n      <td>17.0</td>\n    </tr>\n    <tr>\n      <th>1173</th>\n      <td>T-72M1M</td>\n      <td>0.166667</td>\n      <td>90.0</td>\n      <td>7.5</td>\n      <td>0.50</td>\n      <td>18.0</td>\n    </tr>\n    <tr>\n      <th>1165</th>\n      <td>T-72B</td>\n      <td>0.166667</td>\n      <td>90.0</td>\n      <td>7.5</td>\n      <td>0.50</td>\n      <td>18.0</td>\n    </tr>\n    <tr>\n      <th>1167</th>\n      <td>T-72B Obr 1987</td>\n      <td>0.163636</td>\n      <td>110.0</td>\n      <td>7.5</td>\n      <td>0.50</td>\n      <td>18.0</td>\n    </tr>\n    <tr>\n      <th>1160</th>\n      <td>T-64BM</td>\n      <td>0.160000</td>\n      <td>100.0</td>\n      <td>6.6</td>\n      <td>0.55</td>\n      <td>18.0</td>\n    </tr>\n    <tr>\n      <th>566</th>\n      <td>LEOPARD 2A1</td>\n      <td>0.160000</td>\n      <td>100.0</td>\n      <td>6.6</td>\n      <td>0.65</td>\n      <td>18.0</td>\n    </tr>\n    <tr>\n      <th>572</th>\n      <td>LEOPARD 2A1 NL</td>\n      <td>0.160000</td>\n      <td>100.0</td>\n      <td>6.6</td>\n      <td>0.65</td>\n      <td>18.0</td>\n    </tr>\n    <tr>\n      <th>1187</th>\n      <td>T-80A</td>\n      <td>0.160000</td>\n      <td>100.0</td>\n      <td>6.6</td>\n      <td>0.50</td>\n      <td>18.0</td>\n    </tr>\n    <tr>\n      <th>281</th>\n      <td>CHALLENGER 1 Mk.2</td>\n      <td>0.158333</td>\n      <td>120.0</td>\n      <td>8.5</td>\n      <td>0.65</td>\n      <td>19.0</td>\n    </tr>\n    <tr>\n      <th>741</th>\n      <td>M-84A</td>\n      <td>0.157895</td>\n      <td>95.0</td>\n      <td>6.6</td>\n      <td>0.65</td>\n      <td>19.0</td>\n    </tr>\n    <tr>\n      <th>1189</th>\n      <td>T-80BV</td>\n      <td>0.154545</td>\n      <td>110.0</td>\n      <td>6.6</td>\n      <td>0.55</td>\n      <td>18.0</td>\n    </tr>\n    <tr>\n      <th>1159</th>\n      <td>T-64BV1</td>\n      <td>0.154545</td>\n      <td>110.0</td>\n      <td>6.6</td>\n      <td>0.55</td>\n      <td>19.0</td>\n    </tr>\n    <tr>\n      <th>1176</th>\n      <td>KPz T-72S1</td>\n      <td>0.150000</td>\n      <td>120.0</td>\n      <td>7.5</td>\n      <td>0.50</td>\n      <td>20.0</td>\n    </tr>\n    <tr>\n      <th>663</th>\n      <td>M1A1 ABRAMS</td>\n      <td>0.147826</td>\n      <td>115.0</td>\n      <td>6.6</td>\n      <td>0.65</td>\n      <td>19.0</td>\n    </tr>\n    <tr>\n      <th>567</th>\n      <td>LEOPARD 2A4</td>\n      <td>0.146154</td>\n      <td>130.0</td>\n      <td>6.6</td>\n      <td>0.65</td>\n      <td>19.0</td>\n    </tr>\n    <tr>\n      <th>1177</th>\n      <td>T-72S</td>\n      <td>0.144000</td>\n      <td>125.0</td>\n      <td>7.5</td>\n      <td>0.50</td>\n      <td>20.0</td>\n    </tr>\n    <tr>\n      <th>1178</th>\n      <td>T-72S</td>\n      <td>0.144000</td>\n      <td>125.0</td>\n      <td>7.5</td>\n      <td>0.50</td>\n      <td>20.0</td>\n    </tr>\n    <tr>\n      <th>1179</th>\n      <td>KPz T-72S</td>\n      <td>0.144000</td>\n      <td>125.0</td>\n      <td>7.5</td>\n      <td>0.50</td>\n      <td>20.0</td>\n    </tr>\n    <tr>\n      <th>1168</th>\n      <td>T-72B Obr 1989</td>\n      <td>0.142857</td>\n      <td>140.0</td>\n      <td>7.5</td>\n      <td>0.50</td>\n      <td>20.0</td>\n    </tr>\n    <tr>\n      <th>661</th>\n      <td>M1A1(HA) ABRAMS</td>\n      <td>0.142857</td>\n      <td>140.0</td>\n      <td>6.6</td>\n      <td>0.65</td>\n      <td>20.0</td>\n    </tr>\n    <tr>\n      <th>1175</th>\n      <td>T-72M2 WILK</td>\n      <td>0.141667</td>\n      <td>120.0</td>\n      <td>6.6</td>\n      <td>0.55</td>\n      <td>20.0</td>\n    </tr>\n    <tr>\n      <th>1161</th>\n      <td>T-64BV</td>\n      <td>0.141667</td>\n      <td>120.0</td>\n      <td>6.6</td>\n      <td>0.55</td>\n      <td>20.0</td>\n    </tr>\n    <tr>\n      <th>751</th>\n      <td>M-91 VIHOR</td>\n      <td>0.138462</td>\n      <td>130.0</td>\n      <td>6.0</td>\n      <td>0.70</td>\n      <td>20.0</td>\n    </tr>\n    <tr>\n      <th>282</th>\n      <td>CHALLENGER 1 Mk.3</td>\n      <td>0.137931</td>\n      <td>145.0</td>\n      <td>7.5</td>\n      <td>0.65</td>\n      <td>21.0</td>\n    </tr>\n    <tr>\n      <th>743</th>\n      <td>M-84AN</td>\n      <td>0.136364</td>\n      <td>110.0</td>\n      <td>6.6</td>\n      <td>0.65</td>\n      <td>19.0</td>\n    </tr>\n    <tr>\n      <th>1275</th>\n      <td>ZTZ-85-III</td>\n      <td>0.135714</td>\n      <td>140.0</td>\n      <td>8.5</td>\n      <td>0.65</td>\n      <td>22.0</td>\n    </tr>\n    <tr>\n      <th>801</th>\n      <td>MERKAVA IIIB</td>\n      <td>0.135484</td>\n      <td>155.0</td>\n      <td>6.0</td>\n      <td>0.65</td>\n      <td>20.0</td>\n    </tr>\n    <tr>\n      <th>279</th>\n      <td>CHALLENGER 2</td>\n      <td>0.135294</td>\n      <td>170.0</td>\n      <td>6.6</td>\n      <td>0.70</td>\n      <td>22.0</td>\n    </tr>\n    <tr>\n      <th>1190</th>\n      <td>T-80U</td>\n      <td>0.133333</td>\n      <td>150.0</td>\n      <td>6.6</td>\n      <td>0.60</td>\n      <td>20.0</td>\n    </tr>\n    <tr>\n      <th>1184</th>\n      <td>T-72M2 MODERNA</td>\n      <td>0.131250</td>\n      <td>160.0</td>\n      <td>7.5</td>\n      <td>0.55</td>\n      <td>23.0</td>\n    </tr>\n    <tr>\n      <th>573</th>\n      <td>LEOPARD 2A4 NL</td>\n      <td>0.131034</td>\n      <td>145.0</td>\n      <td>6.6</td>\n      <td>0.65</td>\n      <td>21.0</td>\n    </tr>\n    <tr>\n      <th>574</th>\n      <td>LEOPARD 2A5 NL</td>\n      <td>0.129412</td>\n      <td>170.0</td>\n      <td>6.6</td>\n      <td>0.70</td>\n      <td>23.0</td>\n    </tr>\n    <tr>\n      <th>1195</th>\n      <td>T-90S</td>\n      <td>0.129412</td>\n      <td>170.0</td>\n      <td>6.6</td>\n      <td>0.65</td>\n      <td>23.0</td>\n    </tr>\n    <tr>\n      <th>750</th>\n      <td>M-91A VIHOR</td>\n      <td>0.129412</td>\n      <td>170.0</td>\n      <td>6.0</td>\n      <td>0.70</td>\n      <td>22.0</td>\n    </tr>\n    <tr>\n      <th>581</th>\n      <td>LEOPARD 2A5</td>\n      <td>0.129412</td>\n      <td>170.0</td>\n      <td>6.6</td>\n      <td>0.70</td>\n      <td>23.0</td>\n    </tr>\n    <tr>\n      <th>662</th>\n      <td>M1A1(HC) ABRAMS</td>\n      <td>0.129032</td>\n      <td>155.0</td>\n      <td>6.6</td>\n      <td>0.65</td>\n      <td>22.0</td>\n    </tr>\n    <tr>\n      <th>885</th>\n      <td>PT-91 TWARDY</td>\n      <td>0.129032</td>\n      <td>155.0</td>\n      <td>6.6</td>\n      <td>0.60</td>\n      <td>22.0</td>\n    </tr>\n    <tr>\n      <th>464</th>\n      <td>K1A1</td>\n      <td>0.128571</td>\n      <td>140.0</td>\n      <td>6.6</td>\n      <td>0.65</td>\n      <td>22.0</td>\n    </tr>\n    <tr>\n      <th>1183</th>\n      <td>T-72M1MOD</td>\n      <td>0.127273</td>\n      <td>165.0</td>\n      <td>6.6</td>\n      <td>0.70</td>\n      <td>23.0</td>\n    </tr>\n    <tr>\n      <th>555</th>\n      <td>LECLERC</td>\n      <td>0.127273</td>\n      <td>165.0</td>\n      <td>5.0</td>\n      <td>0.70</td>\n      <td>22.0</td>\n    </tr>\n    <tr>\n      <th>1196</th>\n      <td>T-72BU</td>\n      <td>0.125714</td>\n      <td>175.0</td>\n      <td>6.6</td>\n      <td>0.65</td>\n      <td>23.0</td>\n    </tr>\n    <tr>\n      <th>1191</th>\n      <td>T-80UM</td>\n      <td>0.123529</td>\n      <td>170.0</td>\n      <td>6.6</td>\n      <td>0.65</td>\n      <td>23.0</td>\n    </tr>\n  </tbody>\n</table>\n</div>"
     },
     "execution_count": 68,
     "metadata": {},
     "output_type": "execute_result"
    }
   ],
   "source": [
    "def compute_dps_utility(x):\n",
    "    shots_per_min = (60 / x.Weapon1TimeBetweenSalvos) * x.Weapon1HitProbability\n",
    "    dmg = x.Weapon1AP * shots_per_min\n",
    "    return dmg/x.Price\n",
    "\n",
    "def compute_raw_dps(x):\n",
    "    shots_per_min = (60 / x.Weapon1TimeBetweenSalvos) * x.Weapon1HitProbability\n",
    "    dmg = x.Weapon1AP * shots_per_min\n",
    "    return dmg\n",
    "\n",
    "def compute_protective_dps_utility(x):\n",
    "    shots_per_min = (60 / x.Weapon1TimeBetweenSalvos) * x.Weapon1HitProbability\n",
    "    dmg = x.Weapon1AP * shots_per_min\n",
    "    armor_dmg = x.ArmorFront * dmg\n",
    "    return armor_dmg/x.Price\n",
    "\n",
    "def compute_frontal_meat_shield(x):\n",
    "    return x.ArmorFront/x.Price\n",
    "\n",
    "def filter_tanks(x):\n",
    "    if x.Weapon1AP > 15 and \\\n",
    "        x.ArmorFront > 14:\n",
    "        return True\n",
    "    return False\n",
    "\n",
    "y = df[df.apply(filter_tanks, axis=1)]\n",
    "y['Utility'] = compute_frontal_meat_shield(y)\n",
    "y.sort_values(by=['Utility'],inplace=True, ascending=False)\n",
    "y[['Name','Utility','Price','Weapon1TimeBetweenSalvos','Weapon1HitProbability','Weapon1AP']].head(50)\n"
   ],
   "metadata": {
    "collapsed": false,
    "pycharm": {
     "name": "#%%\n"
    }
   }
  }
 ],
 "metadata": {
  "kernelspec": {
   "display_name": "Python 3",
   "language": "python",
   "name": "python3"
  },
  "language_info": {
   "codemirror_mode": {
    "name": "ipython",
    "version": 2
   },
   "file_extension": ".py",
   "mimetype": "text/x-python",
   "name": "python",
   "nbconvert_exporter": "python",
   "pygments_lexer": "ipython2",
   "version": "2.7.6"
  }
 },
 "nbformat": 4,
 "nbformat_minor": 0
}