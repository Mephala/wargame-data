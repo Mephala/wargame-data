{
 "cells": [
  {
   "cell_type": "code",
   "execution_count": 32,
   "metadata": {
    "collapsed": true
   },
   "outputs": [
    {
     "name": "stdout",
     "output_type": "stream",
     "text": [
      "hello\n"
     ]
    }
   ],
   "source": [
    "print('hello')"
   ]
  },
  {
   "cell_type": "code",
   "execution_count": 49,
   "outputs": [
    {
     "name": "stdout",
     "output_type": "stream",
     "text": [
      "Weapon1AP\n",
      "Weapon1AimTime\n",
      "Weapon1AngleDispersion\n",
      "Weapon1Caliber\n",
      "Weapon1CanSmoke\n",
      "Weapon1CorrectedShotDispersionMultiplier\n",
      "Weapon1DispersionAtMaxRange\n",
      "Weapon1DispersionAtMinRange\n",
      "Weapon1DisplayedAmmunition\n",
      "Weapon1FireTriggeringProbability\n",
      "Weapon1HE\n",
      "Weapon1HitProbability\n",
      "Weapon1HitProbabilityWhileMoving\n",
      "Weapon1MinimalCritProbability\n",
      "Weapon1MinimalHitProbability\n",
      "Weapon1MissileMaxAcceleration\n",
      "Weapon1MissileMaxSpeed\n",
      "Weapon1MissileTimeBetweenCorrections\n",
      "Weapon1Name\n",
      "Weapon1Noise\n",
      "Weapon1NumberOfSalvos\n",
      "Weapon1PositionOnCard\n",
      "Weapon1ProjectilesPerShot\n",
      "Weapon1RadiusSplashPhysicalDamage\n",
      "Weapon1RadiusSplashSuppressDamage\n",
      "Weapon1RangeGround\n",
      "Weapon1RangeGroundMinimum\n",
      "Weapon1RangeHelicopters\n",
      "Weapon1RangeHelicoptersMinimum\n",
      "Weapon1RangeMissiles\n",
      "Weapon1RangeMissilesMinimum\n",
      "Weapon1RangePlanes\n",
      "Weapon1RangePlanesMinimum\n",
      "Weapon1RangeShip\n",
      "Weapon1RangeShipMinimum\n",
      "Weapon1RayonPinned\n",
      "Weapon1ShotsPerSalvo\n",
      "Weapon1SupplyCost\n",
      "Weapon1Tags\n",
      "Weapon1TimeBetweenSalvos\n",
      "Weapon1TimeBetweenShots\n",
      "Weapon1Type\n"
     ]
    },
    {
     "name": "stderr",
     "output_type": "stream",
     "text": [
      "/tmp/ipykernel_1551634/3737748461.py:3: DtypeWarning: Columns (2,12,79,80,92,112,115,119,120,132,152,155,285,286,300,320,323,327,328,342,362,365,369,370,384,404,407,411,412,424,444,447,451,452,466,486,489,493,494,506,526,529) have mixed types. Specify dtype option on import or set low_memory=False.\n",
      "  df = pd.read_csv('../data/510064564/final_data.csv')\n"
     ]
    }
   ],
   "source": [
    "import pandas as pd\n",
    "\n",
    "df = pd.read_csv('../data/510064564/final_data.csv')\n",
    "pd.set_option('display.max_columns', None)\n",
    "df.head()\n",
    "for c in df.columns:\n",
    "    if 'Weapon1' in c and 'Weapon10' not in c and 'Weapon11' not in c:\n",
    "        print(c)"
   ],
   "metadata": {
    "collapsed": false,
    "pycharm": {
     "name": "#%%\n"
    }
   }
  },
  {
   "cell_type": "code",
   "execution_count": 67,
   "outputs": [
    {
     "name": "stderr",
     "output_type": "stream",
     "text": [
      "/tmp/ipykernel_1551634/1435842292.py:24: SettingWithCopyWarning: \n",
      "A value is trying to be set on a copy of a slice from a DataFrame.\n",
      "Try using .loc[row_indexer,col_indexer] = value instead\n",
      "\n",
      "See the caveats in the documentation: https://pandas.pydata.org/pandas-docs/stable/user_guide/indexing.html#returning-a-view-versus-a-copy\n",
      "  y['Utility'] = compute_protective_dps_utility(y)\n",
      "/tmp/ipykernel_1551634/1435842292.py:25: SettingWithCopyWarning: \n",
      "A value is trying to be set on a copy of a slice from a DataFrame\n",
      "\n",
      "See the caveats in the documentation: https://pandas.pydata.org/pandas-docs/stable/user_guide/indexing.html#returning-a-view-versus-a-copy\n",
      "  y.sort_values(by=['Utility'],inplace=True, ascending=False)\n"
     ]
    },
    {
     "data": {
      "text/plain": "                   Name    Utility  Price  Weapon1TimeBetweenSalvos  \\\n1114          STRV 103D  27.625000   90.0                       4.0   \n555             LECLERC  23.520000  165.0                       5.0   \n1284     KYU-MARU SHIKI  22.729412  170.0                       5.0   \n750         M-91A VIHOR  19.929412  170.0                       6.0   \n784    MAG'ACH 7C GIMEL  19.773684   95.0                       6.0   \n751          M-91 VIHOR  19.384615  130.0                       6.0   \n574      LEOPARD 2A5 NL  18.941176  170.0                       6.6   \n279        CHALLENGER 2  18.941176  170.0                       6.6   \n581         LEOPARD 2A5  18.941176  170.0                       6.6   \n664         M1A2 ABRAMS  18.666667  180.0                       6.6   \n1183          T-72M1MOD  18.628099  165.0                       6.6   \n802    MERKAVA IIID BAZ  18.272222  180.0                       6.0   \n741               M-84A  17.727273   95.0                       6.6   \n801        MERKAVA IIIB  17.612903  155.0                       6.0   \n1195              T-90S  17.588235  170.0                       6.6   \n1196             T-72BU  17.085714  175.0                       6.6   \n572      LEOPARD 2A1 NL  17.018182  100.0                       6.6   \n566         LEOPARD 2A1  17.018182  100.0                       6.6   \n661     M1A1(HA) ABRAMS  16.883117  140.0                       6.6   \n1191             T-80UM  16.788770  170.0                       6.6   \n662     M1A1(HC) ABRAMS  16.774194  155.0                       6.6   \n464                K1A1  16.714286  140.0                       6.6   \n1116           STRV 121  16.659824  155.0                       6.6   \n663         M1A1 ABRAMS  16.596838  115.0                       6.6   \n465                  K1  16.484848   90.0                       6.6   \n567         LEOPARD 2A4  16.409091  130.0                       6.6   \n565           LEOPARD 2  16.363636   80.0                       6.6   \n573      LEOPARD 2A4 NL  16.260188  145.0                       6.6   \n885        PT-91 TWARDY  15.483871  155.0                       6.6   \n743              M-84AN  15.309917  110.0                       6.6   \n282   CHALLENGER 1 Mk.3  15.062069  145.0                       7.5   \n294        CH'ONMA-HO V  14.862222   90.0                       7.5   \n1159            T-64BV1  14.681818  110.0                       6.6   \n293             CHIMERA  14.631016  110.0                       8.5   \n1190              T-80U  14.545455  150.0                       6.6   \n1185        T-72M1 WILK  14.438503   85.0                       6.6   \n1160             T-64BM  14.400000  100.0                       6.6   \n1175        T-72M2 WILK  14.166667  120.0                       6.6   \n1161             T-64BV  14.166667  120.0                       6.6   \n1189             T-80BV  13.909091  110.0                       6.6   \n281   CHALLENGER 1 Mk.2  13.802941  120.0                       8.5   \n1275         ZTZ-85-III  13.699160  140.0                       8.5   \n1184     T-72M2 MODERNA  13.282500  160.0                       7.5   \n1187              T-80A  13.090909  100.0                       6.6   \n278   CHALLENGER 1 Mk.1  13.028571  105.0                       8.5   \n1166             T-72B1  12.705882   85.0                       7.5   \n1176         KPz T-72S1  12.000000  120.0                       7.5   \n1173            T-72M1M  12.000000   90.0                       7.5   \n1165              T-72B  12.000000   90.0                       7.5   \n1167     T-72B Obr 1987  11.781818  110.0                       7.5   \n\n      Weapon1HitProbability  Weapon1AP  \n1114                   0.65       17.0  \n555                    0.70       22.0  \n1284                   0.70       23.0  \n750                    0.70       22.0  \n784                    0.65       17.0  \n751                    0.70       20.0  \n574                    0.70       23.0  \n279                    0.70       22.0  \n581                    0.70       23.0  \n664                    0.70       24.0  \n1183                   0.70       23.0  \n802                    0.65       23.0  \n741                    0.65       19.0  \n801                    0.65       20.0  \n1195                   0.65       23.0  \n1196                   0.65       23.0  \n572                    0.65       18.0  \n566                    0.65       18.0  \n661                    0.65       20.0  \n1191                   0.65       23.0  \n662                    0.65       22.0  \n464                    0.65       22.0  \n1116                   0.65       23.0  \n663                    0.65       19.0  \n465                    0.60       16.0  \n567                    0.65       19.0  \n565                    0.60       16.0  \n573                    0.65       21.0  \n885                    0.60       22.0  \n743                    0.65       19.0  \n282                    0.65       21.0  \n294                    0.55       19.0  \n1159                   0.55       19.0  \n293                    0.60       19.0  \n1190                   0.60       20.0  \n1185                   0.50       18.0  \n1160                   0.55       18.0  \n1175                   0.55       20.0  \n1161                   0.55       20.0  \n1189                   0.55       18.0  \n281                    0.65       19.0  \n1275                   0.65       22.0  \n1184                   0.55       23.0  \n1187                   0.50       18.0  \n278                    0.60       17.0  \n1166                   0.50       18.0  \n1176                   0.50       20.0  \n1173                   0.50       18.0  \n1165                   0.50       18.0  \n1167                   0.50       18.0  ",
      "text/html": "<div>\n<style scoped>\n    .dataframe tbody tr th:only-of-type {\n        vertical-align: middle;\n    }\n\n    .dataframe tbody tr th {\n        vertical-align: top;\n    }\n\n    .dataframe thead th {\n        text-align: right;\n    }\n</style>\n<table border=\"1\" class=\"dataframe\">\n  <thead>\n    <tr style=\"text-align: right;\">\n      <th></th>\n      <th>Name</th>\n      <th>Utility</th>\n      <th>Price</th>\n      <th>Weapon1TimeBetweenSalvos</th>\n      <th>Weapon1HitProbability</th>\n      <th>Weapon1AP</th>\n    </tr>\n  </thead>\n  <tbody>\n    <tr>\n      <th>1114</th>\n      <td>STRV 103D</td>\n      <td>27.625000</td>\n      <td>90.0</td>\n      <td>4.0</td>\n      <td>0.65</td>\n      <td>17.0</td>\n    </tr>\n    <tr>\n      <th>555</th>\n      <td>LECLERC</td>\n      <td>23.520000</td>\n      <td>165.0</td>\n      <td>5.0</td>\n      <td>0.70</td>\n      <td>22.0</td>\n    </tr>\n    <tr>\n      <th>1284</th>\n      <td>KYU-MARU SHIKI</td>\n      <td>22.729412</td>\n      <td>170.0</td>\n      <td>5.0</td>\n      <td>0.70</td>\n      <td>23.0</td>\n    </tr>\n    <tr>\n      <th>750</th>\n      <td>M-91A VIHOR</td>\n      <td>19.929412</td>\n      <td>170.0</td>\n      <td>6.0</td>\n      <td>0.70</td>\n      <td>22.0</td>\n    </tr>\n    <tr>\n      <th>784</th>\n      <td>MAG'ACH 7C GIMEL</td>\n      <td>19.773684</td>\n      <td>95.0</td>\n      <td>6.0</td>\n      <td>0.65</td>\n      <td>17.0</td>\n    </tr>\n    <tr>\n      <th>751</th>\n      <td>M-91 VIHOR</td>\n      <td>19.384615</td>\n      <td>130.0</td>\n      <td>6.0</td>\n      <td>0.70</td>\n      <td>20.0</td>\n    </tr>\n    <tr>\n      <th>574</th>\n      <td>LEOPARD 2A5 NL</td>\n      <td>18.941176</td>\n      <td>170.0</td>\n      <td>6.6</td>\n      <td>0.70</td>\n      <td>23.0</td>\n    </tr>\n    <tr>\n      <th>279</th>\n      <td>CHALLENGER 2</td>\n      <td>18.941176</td>\n      <td>170.0</td>\n      <td>6.6</td>\n      <td>0.70</td>\n      <td>22.0</td>\n    </tr>\n    <tr>\n      <th>581</th>\n      <td>LEOPARD 2A5</td>\n      <td>18.941176</td>\n      <td>170.0</td>\n      <td>6.6</td>\n      <td>0.70</td>\n      <td>23.0</td>\n    </tr>\n    <tr>\n      <th>664</th>\n      <td>M1A2 ABRAMS</td>\n      <td>18.666667</td>\n      <td>180.0</td>\n      <td>6.6</td>\n      <td>0.70</td>\n      <td>24.0</td>\n    </tr>\n    <tr>\n      <th>1183</th>\n      <td>T-72M1MOD</td>\n      <td>18.628099</td>\n      <td>165.0</td>\n      <td>6.6</td>\n      <td>0.70</td>\n      <td>23.0</td>\n    </tr>\n    <tr>\n      <th>802</th>\n      <td>MERKAVA IIID BAZ</td>\n      <td>18.272222</td>\n      <td>180.0</td>\n      <td>6.0</td>\n      <td>0.65</td>\n      <td>23.0</td>\n    </tr>\n    <tr>\n      <th>741</th>\n      <td>M-84A</td>\n      <td>17.727273</td>\n      <td>95.0</td>\n      <td>6.6</td>\n      <td>0.65</td>\n      <td>19.0</td>\n    </tr>\n    <tr>\n      <th>801</th>\n      <td>MERKAVA IIIB</td>\n      <td>17.612903</td>\n      <td>155.0</td>\n      <td>6.0</td>\n      <td>0.65</td>\n      <td>20.0</td>\n    </tr>\n    <tr>\n      <th>1195</th>\n      <td>T-90S</td>\n      <td>17.588235</td>\n      <td>170.0</td>\n      <td>6.6</td>\n      <td>0.65</td>\n      <td>23.0</td>\n    </tr>\n    <tr>\n      <th>1196</th>\n      <td>T-72BU</td>\n      <td>17.085714</td>\n      <td>175.0</td>\n      <td>6.6</td>\n      <td>0.65</td>\n      <td>23.0</td>\n    </tr>\n    <tr>\n      <th>572</th>\n      <td>LEOPARD 2A1 NL</td>\n      <td>17.018182</td>\n      <td>100.0</td>\n      <td>6.6</td>\n      <td>0.65</td>\n      <td>18.0</td>\n    </tr>\n    <tr>\n      <th>566</th>\n      <td>LEOPARD 2A1</td>\n      <td>17.018182</td>\n      <td>100.0</td>\n      <td>6.6</td>\n      <td>0.65</td>\n      <td>18.0</td>\n    </tr>\n    <tr>\n      <th>661</th>\n      <td>M1A1(HA) ABRAMS</td>\n      <td>16.883117</td>\n      <td>140.0</td>\n      <td>6.6</td>\n      <td>0.65</td>\n      <td>20.0</td>\n    </tr>\n    <tr>\n      <th>1191</th>\n      <td>T-80UM</td>\n      <td>16.788770</td>\n      <td>170.0</td>\n      <td>6.6</td>\n      <td>0.65</td>\n      <td>23.0</td>\n    </tr>\n    <tr>\n      <th>662</th>\n      <td>M1A1(HC) ABRAMS</td>\n      <td>16.774194</td>\n      <td>155.0</td>\n      <td>6.6</td>\n      <td>0.65</td>\n      <td>22.0</td>\n    </tr>\n    <tr>\n      <th>464</th>\n      <td>K1A1</td>\n      <td>16.714286</td>\n      <td>140.0</td>\n      <td>6.6</td>\n      <td>0.65</td>\n      <td>22.0</td>\n    </tr>\n    <tr>\n      <th>1116</th>\n      <td>STRV 121</td>\n      <td>16.659824</td>\n      <td>155.0</td>\n      <td>6.6</td>\n      <td>0.65</td>\n      <td>23.0</td>\n    </tr>\n    <tr>\n      <th>663</th>\n      <td>M1A1 ABRAMS</td>\n      <td>16.596838</td>\n      <td>115.0</td>\n      <td>6.6</td>\n      <td>0.65</td>\n      <td>19.0</td>\n    </tr>\n    <tr>\n      <th>465</th>\n      <td>K1</td>\n      <td>16.484848</td>\n      <td>90.0</td>\n      <td>6.6</td>\n      <td>0.60</td>\n      <td>16.0</td>\n    </tr>\n    <tr>\n      <th>567</th>\n      <td>LEOPARD 2A4</td>\n      <td>16.409091</td>\n      <td>130.0</td>\n      <td>6.6</td>\n      <td>0.65</td>\n      <td>19.0</td>\n    </tr>\n    <tr>\n      <th>565</th>\n      <td>LEOPARD 2</td>\n      <td>16.363636</td>\n      <td>80.0</td>\n      <td>6.6</td>\n      <td>0.60</td>\n      <td>16.0</td>\n    </tr>\n    <tr>\n      <th>573</th>\n      <td>LEOPARD 2A4 NL</td>\n      <td>16.260188</td>\n      <td>145.0</td>\n      <td>6.6</td>\n      <td>0.65</td>\n      <td>21.0</td>\n    </tr>\n    <tr>\n      <th>885</th>\n      <td>PT-91 TWARDY</td>\n      <td>15.483871</td>\n      <td>155.0</td>\n      <td>6.6</td>\n      <td>0.60</td>\n      <td>22.0</td>\n    </tr>\n    <tr>\n      <th>743</th>\n      <td>M-84AN</td>\n      <td>15.309917</td>\n      <td>110.0</td>\n      <td>6.6</td>\n      <td>0.65</td>\n      <td>19.0</td>\n    </tr>\n    <tr>\n      <th>282</th>\n      <td>CHALLENGER 1 Mk.3</td>\n      <td>15.062069</td>\n      <td>145.0</td>\n      <td>7.5</td>\n      <td>0.65</td>\n      <td>21.0</td>\n    </tr>\n    <tr>\n      <th>294</th>\n      <td>CH'ONMA-HO V</td>\n      <td>14.862222</td>\n      <td>90.0</td>\n      <td>7.5</td>\n      <td>0.55</td>\n      <td>19.0</td>\n    </tr>\n    <tr>\n      <th>1159</th>\n      <td>T-64BV1</td>\n      <td>14.681818</td>\n      <td>110.0</td>\n      <td>6.6</td>\n      <td>0.55</td>\n      <td>19.0</td>\n    </tr>\n    <tr>\n      <th>293</th>\n      <td>CHIMERA</td>\n      <td>14.631016</td>\n      <td>110.0</td>\n      <td>8.5</td>\n      <td>0.60</td>\n      <td>19.0</td>\n    </tr>\n    <tr>\n      <th>1190</th>\n      <td>T-80U</td>\n      <td>14.545455</td>\n      <td>150.0</td>\n      <td>6.6</td>\n      <td>0.60</td>\n      <td>20.0</td>\n    </tr>\n    <tr>\n      <th>1185</th>\n      <td>T-72M1 WILK</td>\n      <td>14.438503</td>\n      <td>85.0</td>\n      <td>6.6</td>\n      <td>0.50</td>\n      <td>18.0</td>\n    </tr>\n    <tr>\n      <th>1160</th>\n      <td>T-64BM</td>\n      <td>14.400000</td>\n      <td>100.0</td>\n      <td>6.6</td>\n      <td>0.55</td>\n      <td>18.0</td>\n    </tr>\n    <tr>\n      <th>1175</th>\n      <td>T-72M2 WILK</td>\n      <td>14.166667</td>\n      <td>120.0</td>\n      <td>6.6</td>\n      <td>0.55</td>\n      <td>20.0</td>\n    </tr>\n    <tr>\n      <th>1161</th>\n      <td>T-64BV</td>\n      <td>14.166667</td>\n      <td>120.0</td>\n      <td>6.6</td>\n      <td>0.55</td>\n      <td>20.0</td>\n    </tr>\n    <tr>\n      <th>1189</th>\n      <td>T-80BV</td>\n      <td>13.909091</td>\n      <td>110.0</td>\n      <td>6.6</td>\n      <td>0.55</td>\n      <td>18.0</td>\n    </tr>\n    <tr>\n      <th>281</th>\n      <td>CHALLENGER 1 Mk.2</td>\n      <td>13.802941</td>\n      <td>120.0</td>\n      <td>8.5</td>\n      <td>0.65</td>\n      <td>19.0</td>\n    </tr>\n    <tr>\n      <th>1275</th>\n      <td>ZTZ-85-III</td>\n      <td>13.699160</td>\n      <td>140.0</td>\n      <td>8.5</td>\n      <td>0.65</td>\n      <td>22.0</td>\n    </tr>\n    <tr>\n      <th>1184</th>\n      <td>T-72M2 MODERNA</td>\n      <td>13.282500</td>\n      <td>160.0</td>\n      <td>7.5</td>\n      <td>0.55</td>\n      <td>23.0</td>\n    </tr>\n    <tr>\n      <th>1187</th>\n      <td>T-80A</td>\n      <td>13.090909</td>\n      <td>100.0</td>\n      <td>6.6</td>\n      <td>0.50</td>\n      <td>18.0</td>\n    </tr>\n    <tr>\n      <th>278</th>\n      <td>CHALLENGER 1 Mk.1</td>\n      <td>13.028571</td>\n      <td>105.0</td>\n      <td>8.5</td>\n      <td>0.60</td>\n      <td>17.0</td>\n    </tr>\n    <tr>\n      <th>1166</th>\n      <td>T-72B1</td>\n      <td>12.705882</td>\n      <td>85.0</td>\n      <td>7.5</td>\n      <td>0.50</td>\n      <td>18.0</td>\n    </tr>\n    <tr>\n      <th>1176</th>\n      <td>KPz T-72S1</td>\n      <td>12.000000</td>\n      <td>120.0</td>\n      <td>7.5</td>\n      <td>0.50</td>\n      <td>20.0</td>\n    </tr>\n    <tr>\n      <th>1173</th>\n      <td>T-72M1M</td>\n      <td>12.000000</td>\n      <td>90.0</td>\n      <td>7.5</td>\n      <td>0.50</td>\n      <td>18.0</td>\n    </tr>\n    <tr>\n      <th>1165</th>\n      <td>T-72B</td>\n      <td>12.000000</td>\n      <td>90.0</td>\n      <td>7.5</td>\n      <td>0.50</td>\n      <td>18.0</td>\n    </tr>\n    <tr>\n      <th>1167</th>\n      <td>T-72B Obr 1987</td>\n      <td>11.781818</td>\n      <td>110.0</td>\n      <td>7.5</td>\n      <td>0.50</td>\n      <td>18.0</td>\n    </tr>\n  </tbody>\n</table>\n</div>"
     },
     "execution_count": 67,
     "metadata": {},
     "output_type": "execute_result"
    }
   ],
   "source": [
    "def compute_dps_utility(x):\n",
    "    shots_per_min = (60 / x.Weapon1TimeBetweenSalvos) * x.Weapon1HitProbability\n",
    "    dmg = x.Weapon1AP * shots_per_min\n",
    "    return dmg/x.Price\n",
    "\n",
    "def compute_raw_dps(x):\n",
    "    shots_per_min = (60 / x.Weapon1TimeBetweenSalvos) * x.Weapon1HitProbability\n",
    "    dmg = x.Weapon1AP * shots_per_min\n",
    "    return dmg\n",
    "\n",
    "def compute_protective_dps_utility(x):\n",
    "    shots_per_min = (60 / x.Weapon1TimeBetweenSalvos) * x.Weapon1HitProbability\n",
    "    dmg = x.Weapon1AP * shots_per_min\n",
    "    armor_dmg = x.ArmorFront * dmg\n",
    "    return armor_dmg/x.Price\n",
    "\n",
    "def filter_tanks(x):\n",
    "    if x.Weapon1AP > 15 and \\\n",
    "        x.ArmorFront > 14:\n",
    "        return True\n",
    "    return False\n",
    "\n",
    "y = df[df.apply(filter_tanks, axis=1)]\n",
    "y['Utility'] = compute_protective_dps_utility(y)\n",
    "y.sort_values(by=['Utility'],inplace=True, ascending=False)\n",
    "y[['Name','Utility','Price','Weapon1TimeBetweenSalvos','Weapon1HitProbability','Weapon1AP']].head(50)\n"
   ],
   "metadata": {
    "collapsed": false,
    "pycharm": {
     "name": "#%%\n"
    }
   }
  }
 ],
 "metadata": {
  "kernelspec": {
   "display_name": "Python 3",
   "language": "python",
   "name": "python3"
  },
  "language_info": {
   "codemirror_mode": {
    "name": "ipython",
    "version": 2
   },
   "file_extension": ".py",
   "mimetype": "text/x-python",
   "name": "python",
   "nbconvert_exporter": "python",
   "pygments_lexer": "ipython2",
   "version": "2.7.6"
  }
 },
 "nbformat": 4,
 "nbformat_minor": 0
}